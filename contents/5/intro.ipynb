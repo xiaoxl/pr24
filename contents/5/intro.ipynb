{
  "cells": [
    {
      "cell_type": "markdown",
      "metadata": {},
      "source": [
        "# Visualization\n",
        "\n",
        "\n",
        "The main reference for this Chapter is @McK2017.\n",
        "\n",
        "\n",
        "\n",
        "## `matplotlib.pyplot`\n",
        "\n",
        "`matplotlib` is a modern and classic plot library. Its main features are inspired by `MATLAB`. In this book we mostly use `pyplot` package from `matplotlib`. We use the following import convention:"
      ],
      "id": "de455765"
    },
    {
      "cell_type": "code",
      "metadata": {},
      "source": [
        "import matplotlib.pyplot as plt"
      ],
      "id": "83402965",
      "execution_count": null,
      "outputs": []
    },
    {
      "cell_type": "markdown",
      "metadata": {},
      "source": [
        "### `matplotlib` interface\n",
        "\n",
        "\n",
        "\n",
        "`matplotlib` has two major application interfaces, or styles of using the library:\n",
        "\n",
        "- An explicit `Axes` interface that uses methods on a `Figure` or `Axes` object to create other Artists, and build a visualization step by step. You may treat this `Figure` object as a canvas, and `Axes` as plots on a canvas. There might be one or more plots on one canvas. This has also been called an *object-oriented* interface.\n",
        "- An implicit `pyplot` interface that keeps track of the last `Figure` and `Axes` created, and adds Artists to the object it thinks the user wants.\n",
        "\n",
        "Here is an example of an explicit interface."
      ],
      "id": "170f7038"
    },
    {
      "cell_type": "code",
      "metadata": {},
      "source": [
        "fig = plt.figure()\n",
        "ax = fig.subplots()\n",
        "ax.plot([1, 2, 3, 4], [0, 0.5, 1, 0.2])"
      ],
      "id": "76cd4b6f",
      "execution_count": null,
      "outputs": []
    },
    {
      "cell_type": "markdown",
      "metadata": {},
      "source": [
        "Here is an example of an implicit interface."
      ],
      "id": "39c54b05"
    },
    {
      "cell_type": "code",
      "metadata": {},
      "source": [
        "plt.plot([1, 2, 3, 4], [0, 0.5, 1, 0.2])"
      ],
      "id": "c0d41b09",
      "execution_count": null,
      "outputs": []
    },
    {
      "cell_type": "markdown",
      "metadata": {},
      "source": [
        "::: {.callout-note}\n",
        "If the plot is not shown, you may want to type `plt.show()` to force the plot being rendered. However, to make `plt.show()` work is related to switching `matplotlib` backends, and is sometimes very complicated.\n",
        ":::\n",
        "\n",
        "The purpose to explicitly use `fig` and `ax` is to have more control over the configurations. The first important configuration is subplots.\n",
        "\n",
        "- `.subplot()`\n",
        "- `.subplots()`\n",
        "- `.add_subplot()`\n",
        "\n",
        "Please see the following examples.\n",
        "\n",
        "\n",
        "::: {#exm-}"
      ],
      "id": "fd330fc1"
    },
    {
      "cell_type": "code",
      "metadata": {},
      "source": [
        "plt.subplot(1, 2, 1)\n",
        "plt.plot([1, 2, 3], [0, 0.5, 0.2])"
      ],
      "id": "741cf7ae",
      "execution_count": null,
      "outputs": []
    },
    {
      "cell_type": "markdown",
      "metadata": {},
      "source": [
        ":::\n",
        "\n",
        "\n",
        "::: {#exm-}"
      ],
      "id": "42e9f4b2"
    },
    {
      "cell_type": "code",
      "metadata": {},
      "source": [
        "plt.subplot(1, 2, 1)\n",
        "plt.plot([1, 2, 3], [0, 0.5, 0.2])\n",
        "plt.subplot(1, 2, 2)\n",
        "plt.plot([3, 2, 1], [0, 0.5, 0.2])"
      ],
      "id": "6a1c2f57",
      "execution_count": null,
      "outputs": []
    },
    {
      "cell_type": "markdown",
      "metadata": {},
      "source": [
        ":::\n",
        "\n",
        "\n",
        "::: {#exm-}"
      ],
      "id": "9d442156"
    },
    {
      "cell_type": "code",
      "metadata": {},
      "source": [
        "fig, axs = plt.subplots(1, 2)\n",
        "axs[0].plot([1, 2, 3], [0, 0.5, 0.2])\n",
        "axs[1].plot([3, 2, 1], [0, 0.5, 0.2])"
      ],
      "id": "dcf47382",
      "execution_count": null,
      "outputs": []
    },
    {
      "cell_type": "markdown",
      "metadata": {},
      "source": [
        ":::\n",
        "\n",
        "\n",
        "::: {#exm-}"
      ],
      "id": "b9ded37a"
    },
    {
      "cell_type": "code",
      "metadata": {},
      "source": [
        "import numpy as np\n",
        "fig = plt.figure()\n",
        "ax1 = fig.add_subplot(2, 2, 1)\n",
        "ax2 = fig.add_subplot(2, 2, 3)\n",
        "ax3 = fig.add_subplot(1, 2, 2)\n",
        "\n",
        "ax3.plot([1, 2, 3], [0, 0.5, 0.2])"
      ],
      "id": "29074bf0",
      "execution_count": null,
      "outputs": []
    },
    {
      "cell_type": "markdown",
      "metadata": {},
      "source": [
        "The auguments `2, 2, 1` means that we split the figure into a `2x2` grid and the axis `ax1` is in the 1st position. The rest is understood in the same way.\n",
        ":::\n",
        "\n",
        "\n",
        "::: {#exm-}\n",
        "If you don't explicitly initialize `fig` and `ax`, you may use `plt.gcf()` and `plt.gca()` to get the handles for further operations."
      ],
      "id": "b958421c"
    },
    {
      "cell_type": "code",
      "metadata": {},
      "source": [
        "plt.subplot(1, 2, 1)\n",
        "ax = plt.gca()\n",
        "ax.plot([1, 2, 3], [0, 0.5, 0.2])\n",
        "\n",
        "plt.subplot(1, 2, 2)\n",
        "ax = plt.gca()\n",
        "ax.plot([3, 2, 1], [0, 0.5, 0.2])"
      ],
      "id": "b341ec6a",
      "execution_count": null,
      "outputs": []
    },
    {
      "cell_type": "markdown",
      "metadata": {},
      "source": [
        ":::\n",
        "\n",
        "\n",
        "\n",
        "The purpose to explicitly use `fig` and `ax` is to have more control over the configurations. For example, when generate a `figure` object, we may use `figsize=(3, 3)` as an option to set the figure size to be `3x3`. `dpi` is another commonly modified option."
      ],
      "id": "a9747e75"
    },
    {
      "cell_type": "code",
      "metadata": {},
      "source": [
        "fig = plt.figure(figsize=(2, 2), dpi=50)\n",
        "plt.plot([1, 2, 3], [0, 0.5, 0.2])"
      ],
      "id": "517074bf",
      "execution_count": null,
      "outputs": []
    },
    {
      "cell_type": "markdown",
      "metadata": {},
      "source": [
        "If you would like to change this setting later, you may use the following command before plotting. "
      ],
      "id": "f94b5818"
    },
    {
      "cell_type": "code",
      "metadata": {},
      "source": [
        "fig.set_size_inches(10, 10)\n",
        "fig.set_dpi(300)\n",
        "plt.plot([1, 2, 3], [0, 0.5, 0.2])"
      ],
      "id": "23ff6889",
      "execution_count": null,
      "outputs": []
    },
    {
      "cell_type": "markdown",
      "metadata": {},
      "source": [
        "You may use `fig.savefig('filename.png')` to save the image into a file.\n",
        "\n",
        "\n",
        "### Downstream packages\n",
        "There are multiple packages depending on `matplotlib` to provide plotting. For example, you may directly plot from a Pandas DataFrame or a Pandas Series.\n",
        "\n",
        "::: {#exm-}"
      ],
      "id": "367d6487"
    },
    {
      "cell_type": "code",
      "metadata": {},
      "source": [
        "import pandas as pd\n",
        "import numpy as np\n",
        "s = pd.Series(np.random.randn(10).cumsum(), index=np.arange(0, 100, 10))\n",
        "s.plot()"
      ],
      "id": "22f92f4f",
      "execution_count": null,
      "outputs": []
    },
    {
      "cell_type": "code",
      "metadata": {},
      "source": [
        "df = pd.DataFrame(np.random.randn(10, 4).cumsum(0),\n",
        "                  columns=['A', 'B', 'C', 'D'],\n",
        "                  index=np.arange(0, 100, 10))\n",
        "df.plot()"
      ],
      "id": "d40bdae3",
      "execution_count": null,
      "outputs": []
    },
    {
      "cell_type": "markdown",
      "metadata": {},
      "source": [
        ":::\n",
        "\n",
        "\n",
        "### plotting \n",
        "#### `plt.plot()`\n",
        "This is the command for line plotting. You may use `linestyle='--'` and `color='g'` to control the line style and color. The style can be shortened as `g--`. \n",
        "\n",
        "Here is a list of commonly used linestyles and colors.\n",
        "\n",
        "- line styles\n",
        "    - `solid` or `-`\n",
        "    - `dashed` or `--`\n",
        "    - `dashdot` or `-.`\n",
        "    - `dotted` or `:`\n",
        "- marker styles\n",
        "    - `o` as circle markers\n",
        "    - `+` as plusses\n",
        "    - `^` as triangles\n",
        "    - `s` as squares\n",
        "- colors\n",
        "    - `b` as blue\n",
        "    - `g` as green\n",
        "    - `r` as red\n",
        "    - `k` as black\n",
        "    - `w` as white\n",
        "\n",
        "The input of `plt.plot()` is two lists `x` and `y`. If there is only one list inputed, that one will be recognized as `y` and the index of elements of `y` will be used as the dafault `x`.\n",
        "\n",
        "\n",
        "::: {#exm-plot1}"
      ],
      "id": "54ac58fc"
    },
    {
      "cell_type": "code",
      "metadata": {},
      "source": [
        "plt.plot(np.random.randn(30).cumsum(), color='r', linestyle='--', marker='o')"
      ],
      "id": "7a862cf6",
      "execution_count": null,
      "outputs": []
    },
    {
      "cell_type": "markdown",
      "metadata": {},
      "source": [
        "You may compare it with this [Example](#exm-plotwithsns) for the purpose of `seaborn` from next Section.\n",
        ":::\n",
        "\n",
        "#### `plt.bar()` and `plt.barh()`\n",
        "The two commands make vertical and horizontal bar plots, respectively.\n",
        "\n",
        "::: {#exm-}"
      ],
      "id": "6c6a7fe8"
    },
    {
      "cell_type": "code",
      "metadata": {},
      "source": [
        "import pandas as pd\n",
        "data = pd.Series(np.random.rand(16), index=list('abcdefghijklmnop'))\n",
        "\n",
        "fig, axes = plt.subplots(2, 1)\n",
        "axes[0].bar(x=data.index, height=data, color='k', alpha=0.7)\n",
        "axes[1].barh(y=data.index, width=data, color='b', alpha=0.7)"
      ],
      "id": "753566b1",
      "execution_count": null,
      "outputs": []
    },
    {
      "cell_type": "markdown",
      "metadata": {},
      "source": [
        "We may also directly plot the bar plot from the Series. "
      ],
      "id": "6b92a7ff"
    },
    {
      "cell_type": "code",
      "metadata": {},
      "source": [
        "fig, axes = plt.subplots(2, 1)\n",
        "data.plot.bar(ax=axes[0], color='k', alpha=0.7)\n",
        "data.plot.barh(ax=axes[1], color='b', alpha=0.7)"
      ],
      "id": "e3fea38b",
      "execution_count": null,
      "outputs": []
    },
    {
      "cell_type": "markdown",
      "metadata": {},
      "source": [
        ":::\n",
        "\n",
        "\n",
        "\n",
        "With a DataFrame, bar plots group the values in each row together in a group in bars. This is easier if we directly plot from the DataFrame.\n",
        "\n",
        "::: {#exm-}"
      ],
      "id": "629d3035"
    },
    {
      "cell_type": "code",
      "metadata": {},
      "source": [
        "df = pd.DataFrame(np.random.rand(6, 4),\n",
        "                  index=['one', 'two', 'three', 'four', 'five', 'six'],\n",
        "                  columns=pd.Index(['A', 'B', 'C', 'D'], name='Genus'))\n",
        "df"
      ],
      "id": "e0882ea2",
      "execution_count": null,
      "outputs": []
    },
    {
      "cell_type": "code",
      "metadata": {},
      "source": [
        "df.plot.bar()"
      ],
      "id": "65b5e796",
      "execution_count": null,
      "outputs": []
    },
    {
      "cell_type": "code",
      "metadata": {},
      "source": [
        "df.plot.barh(stacked=True, alpha=0.5)"
      ],
      "id": "335b65a7",
      "execution_count": null,
      "outputs": []
    },
    {
      "cell_type": "markdown",
      "metadata": {},
      "source": [
        ":::\n",
        "\n",
        "#### `plt.scatter()`\n",
        "\n",
        "\n",
        "::: {#exm-}"
      ],
      "id": "d7eea577"
    },
    {
      "cell_type": "code",
      "metadata": {},
      "source": [
        "import numpy as np\n",
        "\n",
        "N = 100\n",
        "data = 0.9 * np.random.rand(N, 2)\n",
        "area = (20 * np.random.rand(N))**2 \n",
        "c = np.sqrt(area)\n",
        "plt.scatter(data[:, 0], data[:, 1], s=area, marker='^', c=c)"
      ],
      "id": "74cf3f9b",
      "execution_count": null,
      "outputs": []
    },
    {
      "cell_type": "markdown",
      "metadata": {},
      "source": [
        ":::\n",
        "\n",
        "\n",
        "#### `plt.hist()`\n",
        "Here are two plots with build-in statistics. The plot command will have statistics as outputs. To disable it we could send the outputs to a temporary variable `_`.\n",
        "\n",
        "::: {#exm-histogram1}"
      ],
      "id": "5593d0c6"
    },
    {
      "cell_type": "code",
      "metadata": {},
      "source": [
        "mu, sigma = 100, 15\n",
        "x = mu + sigma * np.random.randn(10000)\n",
        "y = mu-30 + sigma*2 * np.random.randn(10000)\n",
        "_ = plt.hist(x, 50, density=True, facecolor='g', alpha=0.75)\n",
        "_ = plt.hist(y, 50, density=True, facecolor='r', alpha=0.75)"
      ],
      "id": "0a23167f",
      "execution_count": null,
      "outputs": []
    },
    {
      "cell_type": "markdown",
      "metadata": {},
      "source": [
        ":::\n",
        "\n",
        "\n",
        "### `plt.boxplot()`\n",
        "\n",
        "::: {#exm-}"
      ],
      "id": "dc52537d"
    },
    {
      "cell_type": "code",
      "metadata": {},
      "source": [
        "spread = np.random.rand(50) * 100\n",
        "center = np.ones(30) * 50\n",
        "flier_high = np.random.rand(10) * 100 + 100\n",
        "flier_low = np.random.rand(10) * -100\n",
        "data = np.concatenate((spread, center, flier_high, flier_low)).reshape(50, 2)\n",
        "\n",
        "_ = plt.boxplot(data, flierprops={'markerfacecolor': 'g', 'marker': 'D'})"
      ],
      "id": "0ba01b32",
      "execution_count": null,
      "outputs": []
    },
    {
      "cell_type": "markdown",
      "metadata": {},
      "source": [
        ":::\n",
        "\n",
        "### Titles, labels and legends\n",
        "\n",
        "- Titles\n",
        "    - `plt.title(label)`, `plt.xlabel(label)`, `plt.ylabel(label)` will set the title/xlabel/ylabel.\n",
        "    - `ax.set_title(label)`, `ax.set_xlabel(label)`, `ax.set_ylabel(label)` will do the same thing.\n",
        "- Labels\n",
        "    - `plt` methods\n",
        "        - `xlim()`, `ylim()`, `xticks()`, `yticks()`, `xticklabels()`, `yticklabels()`\n",
        "        - all the above with arguments\n",
        "    - `ax` methods\n",
        "        - `get_xlim()`, `get_ylim()`, etc..\n",
        "        - `set_xlim()`, `set_ylim()`, etc..\n",
        "- Legneds\n",
        "    - First add `label` option to each piece when plotting, and then add `ax.legends()` or `plt.legends()` at the end to display the legends.\n",
        "    - You may use `handles, labels = ax.get_legend_handles_labels()` to get the handles and labels of the legends, and modify them if necessary.\n",
        "\n",
        "\n",
        "::: {#exm-}"
      ],
      "id": "6fda1869"
    },
    {
      "cell_type": "code",
      "metadata": {},
      "source": [
        "import numpy as np\n",
        "fig, ax = plt.subplots(1, 1)\n",
        "ax.plot(np.random.randn(1000).cumsum(), 'k', label='one')\n",
        "ax.plot(np.random.randn(1000).cumsum(), 'r--', label='two')\n",
        "ax.plot(np.random.randn(1000).cumsum(), 'b.', label='three')\n",
        "\n",
        "ax.set_title('Example')\n",
        "ax.set_xlabel('x')\n",
        "ax.set_ylabel('y')\n",
        "\n",
        "ax.set_yticks([-40, 0, 40])\n",
        "ax.set_yticklabels(['good', 'bad', 'ugly'])\n",
        "\n",
        "ax.legend(loc='best')"
      ],
      "id": "d695e645",
      "execution_count": null,
      "outputs": []
    },
    {
      "cell_type": "markdown",
      "metadata": {},
      "source": [
        ":::\n",
        "\n",
        "### Annotations\n",
        "\n",
        "- The command to add simple annotations is `ax.text()`. The required auguments are the coordinates of the text and the text itself. You may add several options to modify the style.\n",
        "- If arrows are needed, we may use `ax.annotation()`. Here an arrow will be shown from `xytext` to `xy`. The style of the arrow is controlled by the option `arrowprops`.\n",
        "\n",
        "\n",
        "::: {#exm-}"
      ],
      "id": "93e36376"
    },
    {
      "cell_type": "code",
      "metadata": {},
      "source": [
        "fig, ax = plt.subplots(figsize=(5, 5))\n",
        "ax.plot(np.random.randn(1000).cumsum(), 'k', label='one')\n",
        "ax.text(500, 0, 'Hello world!', family='monospace', fontsize=15, c='r')\n",
        "ax.annotate('test', xy=(400, 0), xytext=(400, -10), c='r',\n",
        "            arrowprops={'facecolor': 'black',\n",
        "                        'shrink': 0.05})"
      ],
      "id": "74ad6bc6",
      "execution_count": null,
      "outputs": []
    },
    {
      "cell_type": "markdown",
      "metadata": {},
      "source": [
        ":::\n",
        "\n",
        "\n",
        "### Example\n",
        "\n",
        "::: {#exm-}\n",
        "The stock data can be downloaded from [here](assests/datasets/spx.csv). "
      ],
      "id": "0dc1b4c7"
    },
    {
      "cell_type": "code",
      "metadata": {},
      "source": [
        "from datetime import datetime\n",
        "fig, ax = plt.subplots()\n",
        "data = pd.read_csv('assests/datasets/spx.csv', index_col=0, parse_dates=True)\n",
        "spx = data['SPX']\n",
        "spx.plot(ax=ax, style='k-')\n",
        "crisis_data = [(datetime(2007, 10, 11), 'Peak of bull market'),\n",
        "               (datetime(2008, 3, 12), 'Bear Stearns Fails'),\n",
        "               (datetime(2008, 9, 15), 'Lehman Bankruptcy')]\n",
        "for date, label in crisis_data:\n",
        "    ax.annotate(label, xy=(date, spx.asof(date) + 75),\n",
        "                xytext=(date, spx.asof(date) + 225),\n",
        "                arrowprops=dict(facecolor='black', headwidth=4, width=2,\n",
        "                                headlength=4),\n",
        "                horizontalalignment='left', verticalalignment='top')\n",
        "ax.set_xlim(['1/1/2007', '1/1/2011'])\n",
        "ax.set_ylim([600, 1800])\n",
        "_ = ax.set_title('Important dates in the 2008-2009 financial crisis')"
      ],
      "id": "b85a7f1a",
      "execution_count": null,
      "outputs": []
    },
    {
      "cell_type": "markdown",
      "metadata": {},
      "source": [
        ":::\n",
        "\n",
        "\n",
        "::: {#exm-}\n",
        "Here is an example of arrows with different shapes. For more details please read the official [document](https://matplotlib.org/stable/tutorials/text/annotations.html#annotating-with-arrow)."
      ],
      "id": "9013cfc6"
    },
    {
      "cell_type": "code",
      "metadata": {},
      "source": [
        "fig, ax = plt.subplots()\n",
        "\n",
        "x = np.linspace(0, 20, 1000)\n",
        "ax.plot(x, np.cos(x))\n",
        "ax.axis('equal')\n",
        "\n",
        "ax.annotate('local maximum', xy=(6.28, 1), xytext=(10, 4),\n",
        "            arrowprops=dict(facecolor='black', shrink=0.05))\n",
        "\n",
        "ax.annotate('local minimum', xy=(5 * np.pi, -1), xytext=(2, -6),\n",
        "            arrowprops=dict(arrowstyle=\"->\",\n",
        "                            connectionstyle=\"angle3,angleA=0,angleB=-90\",\n",
        "                            color='r'))"
      ],
      "id": "e9fa4185",
      "execution_count": null,
      "outputs": []
    },
    {
      "cell_type": "markdown",
      "metadata": {},
      "source": [
        ":::\n",
        "\n",
        "\n",
        "## `seaborn`\n",
        "\n",
        "There are some new libraries built upon `matplotlib`, and `seaborn` is one of them. `seaborn` is for statistical graphics. \n",
        "\n",
        "`seaborn` is used imported in the following way."
      ],
      "id": "32f7ff0c"
    },
    {
      "cell_type": "code",
      "metadata": {},
      "source": [
        "import seaborn as sns"
      ],
      "id": "a8714ce3",
      "execution_count": null,
      "outputs": []
    },
    {
      "cell_type": "code",
      "metadata": {},
      "source": [
        "#| echo: false\n",
        "import matplotlib.pyplot as plt\n",
        "import numpy as np\n",
        "import pandas as pd"
      ],
      "id": "4638705f",
      "execution_count": null,
      "outputs": []
    },
    {
      "cell_type": "markdown",
      "metadata": {},
      "source": [
        "`seaborn` also modifies the default `matplotlib` color schemes and plot styles to improve readability and aesthetics. Even if you do not use the `seaborn` API, you may prefer to import `seaborn` as a simple way to improve the visual aesthetics of general `matplotlib` plots.\n",
        "\n",
        "To apply `sns` theme, run the following code."
      ],
      "id": "c3ae4f78"
    },
    {
      "cell_type": "code",
      "metadata": {},
      "source": [
        "sns.set_theme()"
      ],
      "id": "8de4a184",
      "execution_count": null,
      "outputs": []
    },
    {
      "cell_type": "markdown",
      "metadata": {},
      "source": [
        "Let us directly run a few codes from the last section and compare the differences between them.\n",
        "\n",
        "\n",
        "\n",
        "::: {#exm-plotwithsns}"
      ],
      "id": "8f890737"
    },
    {
      "cell_type": "code",
      "metadata": {},
      "source": [
        "plt.plot(np.random.randn(30).cumsum(), color='r', linestyle='--', marker='o')"
      ],
      "id": "c244049a",
      "execution_count": null,
      "outputs": []
    },
    {
      "cell_type": "markdown",
      "metadata": {},
      "source": [
        "Please compare the output of the same code with [the previous example](#exm-plot1)\n",
        ":::\n",
        "\n",
        "\n",
        "### Scatter plots with `relplot()`\n",
        "\n",
        "The basic scatter plot method is `scatterplot()`. It is wrapped in `relplot()` as the default plotting method. So here we will mainly talk about `relplot()`. It is named that way because it is designed to visualize many different statistical relationships. \n",
        "\n",
        "The idea of `relplot()` is to display points based on the variables `x` and `y` you choose, and assign different properties to alter the apperance of the points. \n",
        "\n",
        "- `col` will create multiple plots based on the column you choose.\n",
        "- `hue` is for color encoding, based on the column you choose.\n",
        "- `size` will change the marker area, based on the column you choose.\n",
        "- `style` will change the marker symbol, based on the column you choose.\n",
        "\n",
        "\n",
        "::: {#exm-}\n",
        "Consider the following example. `tips` is a DataFrame, which is shown below."
      ],
      "id": "254fc309"
    },
    {
      "cell_type": "code",
      "metadata": {},
      "source": [
        "import seaborn as sns\n",
        "tips = sns.load_dataset(\"tips\")\n",
        "tips"
      ],
      "id": "3c7bc49b",
      "execution_count": null,
      "outputs": []
    },
    {
      "cell_type": "code",
      "metadata": {},
      "source": [
        "sns.relplot(data=tips,\n",
        "            x=\"total_bill\", y=\"tip\", col=\"time\",\n",
        "            hue=\"smoker\", style=\"smoker\", size=\"size\")"
      ],
      "id": "ac5399e8",
      "execution_count": null,
      "outputs": []
    },
    {
      "cell_type": "markdown",
      "metadata": {},
      "source": [
        ":::\n",
        "\n",
        "The default type of plots for `relplot()` is scatter plots. However you may change it to line plot by setting `kind='line'`.\n",
        "\n",
        "\n",
        "::: {#exm-}"
      ],
      "id": "4430942b"
    },
    {
      "cell_type": "code",
      "metadata": {},
      "source": [
        "dots = sns.load_dataset(\"dots\")\n",
        "sns.relplot(data=dots, kind=\"line\",\n",
        "            x=\"time\", y=\"firing_rate\", col=\"align\",\n",
        "            hue=\"choice\", size=\"coherence\", style=\"choice\",\n",
        "            facet_kws=dict(sharex=False))"
      ],
      "id": "c6c0c92f",
      "execution_count": null,
      "outputs": []
    },
    {
      "cell_type": "markdown",
      "metadata": {},
      "source": [
        ":::\n",
        "\n",
        "### `regplot()`\n",
        "This method is a combination between scatter plots and linear regression.\n",
        "\n",
        "::: {#exm-}\n",
        "We still use `tips` as an example."
      ],
      "id": "279608e6"
    },
    {
      "cell_type": "code",
      "metadata": {},
      "source": [
        "sns.regplot(x='total_bill', y='tip', data=tips)"
      ],
      "id": "e316e629",
      "execution_count": null,
      "outputs": []
    },
    {
      "cell_type": "markdown",
      "metadata": {},
      "source": [
        ":::\n",
        "\n",
        "\n",
        "### `pairplot()`\n",
        "This is a way to display the pairwise relations among several variables. \n",
        "\n",
        "::: {#exm-}\n",
        "The following code shows the pairplots among all numeric data in `tips`."
      ],
      "id": "04095086"
    },
    {
      "cell_type": "code",
      "metadata": {},
      "source": [
        "sns.pairplot(tips, diag_kind='kde', plot_kws={'alpha': 0.2})"
      ],
      "id": "1e7393d0",
      "execution_count": null,
      "outputs": []
    },
    {
      "cell_type": "markdown",
      "metadata": {},
      "source": [
        ":::\n",
        "\n",
        "\n",
        "### `barplot`\n",
        "\n",
        "\n",
        "::: {#exm-}"
      ],
      "id": "3f6a9922"
    },
    {
      "cell_type": "code",
      "metadata": {},
      "source": [
        "sns.barplot(x='total_bill', y='day', data=tips, orient='h')"
      ],
      "id": "43322593",
      "execution_count": null,
      "outputs": []
    },
    {
      "cell_type": "markdown",
      "metadata": {},
      "source": [
        "In the plot, there are several `total_bill` during each `day`. The value in the plot is the average of `total_bill` in each `day`, and the black line stands for the `95%` confidence interval."
      ],
      "id": "9b1673a4"
    },
    {
      "cell_type": "code",
      "metadata": {},
      "source": [
        "sns.barplot(x='total_bill', y='day', hue='time', data=tips, orient='h')"
      ],
      "id": "c31125c6",
      "execution_count": null,
      "outputs": []
    },
    {
      "cell_type": "markdown",
      "metadata": {},
      "source": [
        "In this plot, lunch and dinner are distinguished by colors.\n",
        ":::\n",
        "\n",
        "### Histogram\n",
        "\n",
        "::: {#exm-}"
      ],
      "id": "bac9eea8"
    },
    {
      "cell_type": "code",
      "metadata": {},
      "source": [
        "mu, sigma = 100, 15\n",
        "x = mu + sigma * np.random.randn(10000)\n",
        "y = mu-30 + sigma*2 * np.random.randn(10000)\n",
        "df = pd.DataFrame(np.array([x,y]).T)\n",
        "sns.histplot(df, bins=100, kde=True)"
      ],
      "id": "30f35638",
      "execution_count": null,
      "outputs": []
    },
    {
      "cell_type": "markdown",
      "metadata": {},
      "source": [
        "Please compare this plot with [this Example](#exm-histogram1)\n",
        ":::\n",
        "\n",
        "\n",
        "## Exercises\n",
        "\n",
        "\n",
        "\n",
        "::: {#exr-}\n",
        "Please download the `mtcars` file from [here](assests/datasets/mtcars.csv) and read it as a DataFrame. Then create a scatter plot of the `drat` and `wt` variables from `mtcars` and color the dots by the `carb` variable. \n",
        ":::\n",
        "\n",
        "\n",
        "\n",
        "\n",
        "\n",
        "::: {#exr-}\n",
        "Please read the file as a DataFrame from [here](assests/datasets/QSR.csv). This is the Dining satisfaction with quick service restaurants questionare data provided by Dr. Siri McDowall, supported by DART SEED grant.\n",
        "\n",
        "1. Please pick out all rating columns. Excluding `last.visit`, `visit.again` and `recommend`, compute the mean of the rest and add it to the DataFrame as a new column.\n",
        "2. Use a plot to show the relations among these four columns:  `last.visit`, `visit.again`, `recommend` and `mean`.\n",
        "3. Look at the column `Profession`. Keep `Student`, and change everything else to be `Professional`, and add it as a new column `Status` to the DataFrame.\n",
        "4. Draw the histogram of `mean` with respect to `Status`.\n",
        "5. Find the counts of each `recommend` rating for each `Status` and draw the barplot. Do the same to `last.visit`/`Status` and `visit.again`/`Status`.\n",
        "6. Explore the dataset and draw one plot.\n",
        ":::\n"
      ],
      "id": "edf281b0"
    }
  ],
  "metadata": {
    "kernelspec": {
      "name": "ds24",
      "language": "python",
      "display_name": "ds24"
    }
  },
  "nbformat": 4,
  "nbformat_minor": 5
}