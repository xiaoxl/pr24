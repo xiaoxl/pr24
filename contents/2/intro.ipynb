{
  "cells": [
    {
      "cell_type": "markdown",
      "metadata": {},
      "source": [
        "# Python Basics\n",
        "\n",
        "\n",
        "\n",
        "\n",
        "\n",
        "## numeric and `str` {#sec-path}\n",
        "\n",
        "This section is based on @You2020.\n",
        "\n",
        "There are several built-in data structures in Python. Here is an (incomplete) list:\n",
        "\n",
        "- `None`\n",
        "- Boolean -- `True`, `False`\n",
        "- Numeric Types — `int`, `float`, `complex`\n",
        "- Text Sequence Type — `str`\n",
        "- Sequence Types — `list`, `tuple`\n",
        "- Map type - `dict`\n",
        "\n",
        "We will cover numeric types and strings in this section. The rests are either simple that are self-explained, or not simple that will be discussed later.\n",
        "\n",
        "\n",
        "\n",
        "### Numeric types and math expressions\n",
        "Numeric types are represented by numbers. If there are no confusions, Python will automatically detect the type. "
      ],
      "id": "d8b8f20e"
    },
    {
      "cell_type": "code",
      "metadata": {},
      "source": [
        "x = 1 # x is an int.\n",
        "y = 2.0 # y is a float."
      ],
      "id": "9c37a1cd",
      "execution_count": null,
      "outputs": []
    },
    {
      "cell_type": "markdown",
      "metadata": {},
      "source": [
        "There are several types of numeric types, like `int`, `float`, etc.. Usually Python will automatically determine the type of the data, but sometimes you may still want to declare them manually. To change types you may apply `int()`, `float()`, etc. to the values you want to change.\n",
        "\n",
        "Python can do math just like other programming languages. The basic math operations are listed as follows.\n",
        "\n",
        "- `+`, `-`, `*`, `/`, `>`, `<`, `>=`, `<=` works as normal.\n",
        "- `**` is the power operation.\n",
        "- `%` is the mod operation.\n",
        "- `!=` is `not equal`\n",
        "\n",
        "\n",
        "\n",
        "::: {.callout-caution collapse=\"true\"}\n",
        "## `==` and `is`\n",
        "\n",
        "Python is centered around objects. There are differences between two objects and the values of two objects. \n",
        "\n",
        "- `==` is testing whehter these two objects have the same value.\n",
        "- `is` is testing whether these two objects are exactly the same.\n",
        "\n",
        "You may use `id(x)` to check the id of the object `x`. Two objects are identical if they have the same id. Please see the following example.\n",
        "\n",
        "`a` and `b` are two lists. They are different objects, but their contents are the same."
      ],
      "id": "6d5a1b55"
    },
    {
      "cell_type": "code",
      "metadata": {},
      "source": [
        "a = [1, 2]\n",
        "b = [1, 2]\n",
        "a == b"
      ],
      "id": "e1934c74",
      "execution_count": null,
      "outputs": []
    },
    {
      "cell_type": "code",
      "metadata": {},
      "source": [
        "a is b"
      ],
      "id": "d5c96388",
      "execution_count": null,
      "outputs": []
    },
    {
      "cell_type": "markdown",
      "metadata": {},
      "source": [
        "You may check their ids and find that their ids are different."
      ],
      "id": "78a831f5"
    },
    {
      "cell_type": "code",
      "metadata": {},
      "source": [
        "id(a) == id(b)"
      ],
      "id": "d840a688",
      "execution_count": null,
      "outputs": []
    },
    {
      "cell_type": "markdown",
      "metadata": {},
      "source": [
        "For beginners, in most cases, you should use `==` to check values of variables. The most common case to use `is` is to check whether something is a `None` object. In other words, you should use `a is None` other than `a == None`.\n",
        "\n",
        "More details about objects will be discussed later in this course.\n",
        ":::\n",
        "\n",
        "\n",
        "\n",
        "### `str`\n",
        "Scalars are represented by numbers and strings are represented by quotes. Examples:"
      ],
      "id": "fbbceb33"
    },
    {
      "cell_type": "code",
      "metadata": {},
      "source": [
        "x = 1       # x is a scalar.\n",
        "y = 's'     # y is a string with one letter.\n",
        "z = '0'     # z loos like a number, but it is a string.\n",
        "w = \"Hello\" # w is a string with double quotes."
      ],
      "id": "935ece0d",
      "execution_count": null,
      "outputs": []
    },
    {
      "cell_type": "markdown",
      "metadata": {},
      "source": [
        "Here are some facts.\n",
        "\n",
        "1. For strings, you can use either single quotes `'` or double quotes `\"`. The tricky part here is that you may use `'` in `\"`, or `\"` in `'`. If you want to use `'` in `'` or `\"` in `\"`, use `\\` below.\n",
        "2. `\\` is used to denote escaped words. You may find the list [here](https://docs.python.org/3/reference/lexical_analysis.html#string-and-bytes-literals). \n",
        "3. You can use `str()` to change other values to a string, if able.\n",
        "4. You may use `string[n]` to read the nth letter of `string`. Note that the index starts from `0`. This part is very similar to list. We will come back to it later after we talked about list."
      ],
      "id": "4d89c422"
    },
    {
      "cell_type": "code",
      "metadata": {},
      "source": [
        "s = 'abcdef'\n",
        "s[3]"
      ],
      "id": "574e289d",
      "execution_count": null,
      "outputs": []
    },
    {
      "cell_type": "markdown",
      "metadata": {},
      "source": [
        "5. To concatenate two strings, you may simply use `+`. See the following example."
      ],
      "id": "791abb8c"
    },
    {
      "cell_type": "code",
      "metadata": {},
      "source": [
        "s = 'abc' + 'def'\n",
        "s"
      ],
      "id": "89f2f5a1",
      "execution_count": null,
      "outputs": []
    },
    {
      "cell_type": "markdown",
      "metadata": {},
      "source": [
        "6. We can also multiply a string with a positive integer. What it does is to repeat the string multiple times. See the following example."
      ],
      "id": "813071bd"
    },
    {
      "cell_type": "code",
      "metadata": {},
      "source": [
        "s = 'abc'*5\n",
        "s"
      ],
      "id": "936b6fae",
      "execution_count": null,
      "outputs": []
    },
    {
      "cell_type": "markdown",
      "metadata": {},
      "source": [
        "::: {.callout-note collapse=\"true\"}\n",
        "## `.format()` method\n",
        "The built-in string class provides the ability to do complex variable substitutions and value formatting via the `.format()` method. The basic syntax is to use the inputed augments to fill in the blanks in the formatted string specified by `{}`. Please see the following examples."
      ],
      "id": "25669dfa"
    },
    {
      "cell_type": "code",
      "metadata": {},
      "source": [
        "'I have {} {} and {} {}.'.format(1, 'apple', 2, 'bananas')"
      ],
      "id": "e3b66131",
      "execution_count": null,
      "outputs": []
    },
    {
      "cell_type": "markdown",
      "metadata": {},
      "source": [
        "More detailed usage is refered to the official documents [here](https://docs.python.org/3/library/string.html#custom-string-formatting). \n",
        "\n",
        ":::\n",
        "\n",
        "\n",
        "Although `str` is a built-in type, there are tons of tricks with `str`, and there are tons of packages related to strings. Generally speaking, to play with strings, we are interested in two types of tasks.\n",
        "\n",
        "- Put information together to form a string.\n",
        "- Extract information from a string.\n",
        "\n",
        "A lot of tricks of strings are related to lists. We will talk about these two tasks later. The following example is just a showcase.\n",
        "\n",
        "\n",
        "<!-- ::: {.callout-note}\n",
        "There is a very subtle relations between the variable / constant and the name of the variable / constant. We will talk about these later.\n",
        "::: -->\n",
        "\n",
        "\n",
        "::: {#exm-}\n",
        "Here is an example of playing with strings. Please play with these codes and try to understand what they do."
      ],
      "id": "3704fa56"
    },
    {
      "cell_type": "code",
      "metadata": {},
      "source": [
        "import re\n",
        "\n",
        "def clean_strings(strings):\n",
        "    result = []\n",
        "    for value in strings:\n",
        "        value = value.strip()\n",
        "        value = re.sub('[!#?]', '', value)\n",
        "        value = value.title()\n",
        "        result.append(value)\n",
        "    return result\n",
        "\n",
        "states = [' Alabama ', 'Georgia!', 'Georgia', 'georgia', 'FlOrIda',\n",
        "          'south carolina##', 'West virginia?']\n",
        "clean_strings(states)"
      ],
      "id": "25f4a31c",
      "execution_count": null,
      "outputs": []
    },
    {
      "cell_type": "markdown",
      "metadata": {},
      "source": [
        ":::\n",
        "\n",
        "\n",
        "\n",
        "\n",
        "\n",
        "## Fundamentals\n",
        "This section is mainly based on @McK2017.\n",
        "\n",
        "### Indentation\n",
        "One key feature about Python is that its structures (blocks) is determined by **Indentation**. \n",
        "\n",
        "Let's compare with other languages. Let's take `C` as an example.\n",
        "```C\n",
        "/*This is a C function.*/\n",
        "int f(int x){return x;}\n",
        "```\n",
        "The block is defined by `{}` and lines are separated by `;`. `space` and `newline` are not important when `C` runs the code. It is recommended to write codes in a \"beautiful, stylish\" format for readibility, as follows. However it is not mandatory.\n",
        "```C\n",
        "/*This is a C function.*/\n",
        "int f(int x) {\n",
        "   return x;\n",
        "}\n",
        "```\n",
        "\n",
        "In Python, blocks starts from `:` and then are determined by indents. Therefore you won't see a lot of `{}` in Python, and the \"beautiful, stylish\" format is **mandatory**. "
      ],
      "id": "b63fcd1d"
    },
    {
      "cell_type": "code",
      "metadata": {},
      "source": [
        "# This is a Python function.\n",
        "def f(x):\n",
        "    return x"
      ],
      "id": "2b145080",
      "execution_count": null,
      "outputs": []
    },
    {
      "cell_type": "markdown",
      "metadata": {},
      "source": [
        "The default value for indentation is 4 spaces, which can be changed by users. We will just use the default value in this course.\n",
        "\n",
        "\n",
        "::: {.callout-note collapse=\"true\"}\n",
        "## Line break\n",
        "\n",
        "It is usually recommended that one line of code should not be very long. If you do have one, and it cannot be shortened, you may break it into multiline codes directly in Python. However, since indentation is super important in Python, when break one line code into multilines, please make sure that everything is aligned perfectly. Please see the following example."
      ],
      "id": "1ff41f6e"
    },
    {
      "cell_type": "code",
      "metadata": {},
      "source": [
        "#| eval: false\n",
        "results = shotchartdetail.ShotChartDetail(\n",
        "            team_id = 0,\n",
        "            player_id = 201939,\n",
        "            context_measure_simple = 'FGA',\n",
        "            season_nullable = '2021-22',\n",
        "            season_type_all_star = 'Regular Season')"
      ],
      "id": "687757ba",
      "execution_count": null,
      "outputs": []
    },
    {
      "cell_type": "markdown",
      "metadata": {},
      "source": [
        "Similarly for long strings, you may use `\\` to break it into multiple lines. Here is one example."
      ],
      "id": "95fb5f56"
    },
    {
      "cell_type": "code",
      "metadata": {},
      "source": [
        "#| eval: false\n",
        "sentence = \"This is\\ngood enough\\nfor a exercise to\\nhave so many parts. \" \\\n",
        "           \"We would also want to try this symbol: '. \" \\\n",
        "           \"Do you know how to type \\\" in double quotes?\""
      ],
      "id": "710b4f4c",
      "execution_count": null,
      "outputs": []
    },
    {
      "cell_type": "markdown",
      "metadata": {},
      "source": [
        ":::\n",
        "\n",
        "\n",
        "\n",
        "\n",
        "\n",
        "### `import`\n",
        "\n",
        "In Python a module is simply a file with the .py extension containing Python code. Assume that we have a Python file `example.py` stored in the folder `assests/codes/`. The file is as follows.\n",
        "\n",
        "```{.python filename='assests/codes/example.py'}\n",
        "def f(x):\n",
        "    print(x)\n",
        "\n",
        "A = 'You found me!'\n",
        "```\n",
        "You may get access to this function and this string in the following way."
      ],
      "id": "1340cbd2"
    },
    {
      "cell_type": "code",
      "metadata": {},
      "source": [
        "from assests.codes import example\n",
        "\n",
        "example.f(example.A)"
      ],
      "id": "3f0e66b4",
      "execution_count": null,
      "outputs": []
    },
    {
      "cell_type": "markdown",
      "metadata": {},
      "source": [
        "### Comments\n",
        "\n",
        "Any text preceded by the hash mark (pound sign) `#` is ignored by the Python interpreter. In many IDEs you may use hotkeys to directly toggle multilines as comments. For example, in VS Code the default setting for toggling comments is `ctrl+/`.\n",
        "\n",
        "\n",
        "### Dynamic references, strong types\n",
        "\n",
        "In some programming languages, you have to declare the variable’s name and what type of data it will hold. If a variable is declared to be a number, it can never hold a different type of value, like a string. This is called *static typing* because the type of the variable can never change.\n",
        "\n",
        "Python is a *dynamically typed* language, which means you do not have to declare a variable or what kind of data the variable will hold. You can change the value and type of data at any time. This could be either great or terrible news. \n",
        "\n",
        "On the other side, \"dynamic typed\" doesn't mean that types are not important in Python. You still have to make sure that the types of all variables meet the requirements of the operations used."
      ],
      "id": "4556d08c"
    },
    {
      "cell_type": "code",
      "metadata": {},
      "source": [
        "#| error: true\n",
        "\n",
        "a = 1\n",
        "b = 2\n",
        "b = '2'\n",
        "c = a + b"
      ],
      "id": "3c6c97d0",
      "execution_count": null,
      "outputs": []
    },
    {
      "cell_type": "markdown",
      "metadata": {},
      "source": [
        "In this example, `b` was first assigned by a number, and then it was reassigned by a `str`. This is totally fine since Python is dynamically typed. However later when adding `a` and `b`, the type error occurs since you cannot add a number and a `str`.\n",
        "\n",
        "\n",
        "::: {.callout-note}\n",
        "You may always use `type(x)` to detect the type of the object `x`.\n",
        ":::\n",
        "\n",
        "\n",
        "\n",
        "### Everything is an object\n",
        "\n",
        "Every number, string, data structure, function, class, module, and so on exists in the Python interpreter in its own “box”, which is referred to as a *Python object*. \n",
        "\n",
        "Each object has an associated type (e.g., string or function) and internal data. In practice this makes the language very flexible, as even functions can be treated like any other object.\n",
        "\n",
        "Each object might have attributes and/or methods attached. \n",
        "\n",
        "\n",
        "### Mutable and immutable objects\n",
        "An object whose internal state can be changed is *mutable*. On the other hand, *immutable* doesn’t allow any change in the object once it has been created. \n",
        "\n",
        "Some objects of built-in type that are mutable are:\n",
        "\n",
        "- Lists\n",
        "- Dictionaries\n",
        "- Sets\n",
        "\n",
        "\n",
        "Some objects of built-in type that are immutable are:\n",
        "\n",
        "- Numbers (Integer, Rational, Float, Decimal, Complex & Booleans)\n",
        "- Strings\n",
        "- Tuples\n",
        "\n",
        "In the following courses, you will learn some of these objects. You will see that for mutable objects, there are built-in methods to modify them, like `.append()` for `list`, which append element to the end of a list. There are none for immutable objects.\n",
        "\n",
        "::: {.callout-caution collapse=\"true\"}\n",
        "## A tricky case: Tuples are not really \"immutable\"\n",
        "You can treat a tuple as a container, which contains some objects. The relations between the container and its contents are immutable, but the objects it holds might be mutable. Please check the following example."
      ],
      "id": "bdc356d8"
    },
    {
      "cell_type": "code",
      "metadata": {},
      "source": [
        "container = ([1], [2])\n",
        "print('This is `container`: ', container)\n",
        "print('This is the id of `container`: ', id(container))\n",
        "print('This is the id of the first list of `container`: ', id(container[0]))"
      ],
      "id": "7281c91c",
      "execution_count": null,
      "outputs": []
    },
    {
      "cell_type": "code",
      "metadata": {},
      "source": [
        "container[0].append(2)\n",
        "print('This is the new `container`: ', container)\n",
        "print('This is the id of the new `container`: ', id(container))\n",
        "print('This is the id of the first list (which is updated) of the new `container`: ', id(container[0]))"
      ],
      "id": "74d5fd04",
      "execution_count": null,
      "outputs": []
    },
    {
      "cell_type": "markdown",
      "metadata": {},
      "source": [
        "You can see that the tuple `container` and its first object stay the same, although we add one element to the first object.\n",
        "\n",
        "You may understand how objects are stored by considering this example.\n",
        ":::\n",
        "\n",
        "\n",
        "\n",
        "\n",
        "## Flows and Functions\n",
        "\n",
        "### `for` loop\n",
        "A `for` loop is used for iterating over an *iterator*. Iterators can be gotten from lists, tuples, strings, etc.. The basic syntax of a `for` loop is as follows."
      ],
      "id": "d6fd983e"
    },
    {
      "cell_type": "code",
      "metadata": {},
      "source": [
        "#| eval: false\n",
        "for i in aniterator:\n",
        "    do thing"
      ],
      "id": "7addda7b",
      "execution_count": null,
      "outputs": []
    },
    {
      "cell_type": "markdown",
      "metadata": {},
      "source": [
        "In each iteration, the `aniterator` will produce a value and assign it to `i`. Then the code in the `for` loop will run with `i` being assigned to the specific value. \n",
        "\n",
        "Let's look at some typical examples of iterators.\n",
        "\n",
        "::: {.callout-note collapse=\"true\"}\n",
        "# `range()`\n",
        "`range(N)` is an iterator which will produce integers from `0` to `N-1`. This is the most basic way to use `for` loop that you may treat `i` as the index of an iteration. Note that similar to the list index rule (which will be discussed later), the right end point `N` is not included."
      ],
      "id": "bf33a3fb"
    },
    {
      "cell_type": "code",
      "metadata": {},
      "source": [
        "for i in range(3):\n",
        "    print(i)"
      ],
      "id": "a039a873",
      "execution_count": null,
      "outputs": []
    },
    {
      "cell_type": "markdown",
      "metadata": {},
      "source": [
        "There are two more versions of `range()`:\n",
        "\n",
        "- `range(M, N)` can generate integers from `M` to `N-1`.\n",
        "- `range(M, N, s)` can generate integers from `M` to `N-1`, with the step size `s`.\n",
        "Similarly, in both cases, the right end point `N` is not included."
      ],
      "id": "593ae52a"
    },
    {
      "cell_type": "code",
      "metadata": {},
      "source": [
        "for i in range(1, 3):\n",
        "    print(i)"
      ],
      "id": "0f8d7112",
      "execution_count": null,
      "outputs": []
    },
    {
      "cell_type": "code",
      "metadata": {},
      "source": [
        "for i in range(1, 5, 2):\n",
        "    print(i)"
      ],
      "id": "adb8fab7",
      "execution_count": null,
      "outputs": []
    },
    {
      "cell_type": "markdown",
      "metadata": {},
      "source": [
        ":::\n",
        "\n",
        "\n",
        "::: {.callout-note collapse=\"true\"}\n",
        "# Strings\n",
        "You may use a string as an iterator. It will go through the string and generate the letter in it one by one from the beginning to the end. Note that escaped letters will be captured. Please see the following example."
      ],
      "id": "2d23eea3"
    },
    {
      "cell_type": "code",
      "metadata": {},
      "source": [
        "s = 'abc\\\"'\n",
        "for i in s:\n",
        "    print(i)"
      ],
      "id": "ba95c860",
      "execution_count": null,
      "outputs": []
    },
    {
      "cell_type": "markdown",
      "metadata": {},
      "source": [
        ":::\n",
        "\n",
        "\n",
        "::: {.callout-note collapse=\"true\"}\n",
        "# Lists\n",
        "We will talk about lists in details in next section. We will briefly mention it here since lists are the most common iterators in Python. Roughly speaking, a list is an ordered sequence of Python objects. As an iterator, it just goes through the sequence and generates the object in it one by one from the beginning to the end. Please see the following example."
      ],
      "id": "82cdb012"
    },
    {
      "cell_type": "code",
      "metadata": {},
      "source": [
        "s = [1, 'a', -3.1, 'abc']\n",
        "for i in s:\n",
        "    print(i)"
      ],
      "id": "616c774d",
      "execution_count": null,
      "outputs": []
    },
    {
      "cell_type": "markdown",
      "metadata": {},
      "source": [
        ":::\n",
        "\n",
        "\n",
        "::: {.callout-tip collapse=\"true\"}\n",
        "# `zip()`\n",
        "The \"Pythonic way\" to write loops is to NOT use indexes. In this case how do we loop through two iterators if no indexes are used? We could use `zip()`.\n",
        "\n",
        "`zip()` is used to \"zip\" two iterators together to form one. Then we can use the zipped one for the loop and elements from both iterators are zipped into tuples. Please see the following examples."
      ],
      "id": "4cebed9b"
    },
    {
      "cell_type": "code",
      "metadata": {},
      "source": [
        "a = [1, 2, 3]\n",
        "b = ['a', 'b', 'c']\n",
        "for item in zip(a, b):\n",
        "    print(item)"
      ],
      "id": "9ece1afc",
      "execution_count": null,
      "outputs": []
    },
    {
      "cell_type": "code",
      "metadata": {},
      "source": [
        "c = range(3)\n",
        "d = 'abc'\n",
        "for item in zip(c, d):\n",
        "    print(item)"
      ],
      "id": "9b28a8be",
      "execution_count": null,
      "outputs": []
    },
    {
      "cell_type": "markdown",
      "metadata": {},
      "source": [
        ":::\n",
        "\n",
        "\n",
        "### `if` statement\n",
        "The `if` statement is straightforword. Here is a typical example."
      ],
      "id": "757e549b"
    },
    {
      "cell_type": "code",
      "metadata": {},
      "source": [
        "x = -1\n",
        "\n",
        "if x < 0:\n",
        "    x = 0\n",
        "    print('Negative changed to zero')\n",
        "elif x == 0:\n",
        "    print('Zero')\n",
        "elif x == 1:\n",
        "    print('Single')\n",
        "else:\n",
        "    print('More')"
      ],
      "id": "d3888946",
      "execution_count": null,
      "outputs": []
    },
    {
      "cell_type": "markdown",
      "metadata": {},
      "source": [
        "There can be zero or more `elif` parts, and the `else` part is optional.\n",
        "\n",
        "### Functions\n",
        "\n",
        "Functions are declared with the `def` keyword and returned from the `return` keyword. Here is a typical example of a function."
      ],
      "id": "27f29112"
    },
    {
      "cell_type": "code",
      "metadata": {},
      "source": [
        "def my_function(x, y, z=1.5):\n",
        "    if z > 1:\n",
        "        return z * (x + y)\n",
        "    else:\n",
        "        return z / (x + y)"
      ],
      "id": "6cc67b0c",
      "execution_count": null,
      "outputs": []
    },
    {
      "cell_type": "markdown",
      "metadata": {},
      "source": [
        "Each function can have *positional* arguments and *keyword* arguments. \n",
        "\n",
        "- `z=1.5` in above example means that the default value for `z` is `1.5`. Keyword arguments are most commonly used to specify default values.\n",
        "- If no keywords are given, all arguments will be recognized by the positions.\n",
        "- If both positional arguments and keyword arguments are given, positional arguments have to be in front. \n",
        "- The order of keyword arguments are not important.\n",
        "\n",
        "\n",
        "::: {.callout-note}\n",
        "Although there are global variable, it is always ecouraged to use local variables only. This means that the variables in and out of a function (as well as classes that we will talk about later) are not the same, even if they have the same name.\n",
        ":::\n",
        "\n",
        "\n",
        "\n",
        "\n",
        "::: {.callout-note collapse=\"true\"}\n",
        "## Lambda function\n",
        "*lambda* function is a way of writing functions consisting of a single statment. The format is `lambda x: output of x`. \n",
        "\n",
        "Please see the following examples."
      ],
      "id": "dd6bff35"
    },
    {
      "cell_type": "code",
      "metadata": {},
      "source": [
        "f = lambda x: 2*x+1\n",
        "\n",
        "f(3)"
      ],
      "id": "37348ece",
      "execution_count": null,
      "outputs": []
    },
    {
      "cell_type": "code",
      "metadata": {},
      "source": [
        "def apply_to_list(some_list, f):\n",
        "    return [f(x) for x in some_list]\n",
        "\n",
        "ints = [4, 0, 1, 5, 6]\n",
        "apply_to_list(ints, lambda x: x * 2)"
      ],
      "id": "64144617",
      "execution_count": null,
      "outputs": []
    },
    {
      "cell_type": "markdown",
      "metadata": {},
      "source": [
        "To fully understand the following example requires knowledge from @sec-dict."
      ],
      "id": "1348bc39"
    },
    {
      "cell_type": "code",
      "metadata": {},
      "source": [
        "fruits = {'banana': 3, 'apple': 4, 'pear': 1, 'orange': 2}\n",
        "\n",
        "fruits_sorted = sorted(fruits.items(), key=lambda x: x[1])\n",
        "fruits_sorted"
      ],
      "id": "25dd057f",
      "execution_count": null,
      "outputs": []
    },
    {
      "cell_type": "markdown",
      "metadata": {},
      "source": [
        "Lambda function is always used as a input parameter when it is not worth to use extra space to write a one line function. You will see several examples in the Chapter of `pandas`.\n",
        "\n",
        ":::\n",
        "\n",
        "\n",
        "\n",
        "\n",
        "\n",
        "::: {.callout-caution collapse=\"true\"}\n",
        "## This is a tricky but not very rare case: mutable objects as default values.\n",
        "It is highly recommended NOT to set any mutatable objects as the default value of an input of a function. The reason is that this default object is initialized when the function is defined, not when the function is called. Then all function calls will share the same default object.\n",
        "\n",
        "A typical example is an empty list. If you use an empty list as the defaul value, that list will be passed to the next function call, which is no longer empty. Please see the following example."
      ],
      "id": "461d2021"
    },
    {
      "cell_type": "code",
      "metadata": {},
      "source": [
        "def add(x=[]):\n",
        "    x.append(1)\n",
        "    return x\n",
        "\n",
        "add()"
      ],
      "id": "01bc9380",
      "execution_count": null,
      "outputs": []
    },
    {
      "cell_type": "code",
      "metadata": {},
      "source": [
        "add()"
      ],
      "id": "2b025f72",
      "execution_count": null,
      "outputs": []
    },
    {
      "cell_type": "code",
      "metadata": {},
      "source": [
        "add()"
      ],
      "id": "1f196519",
      "execution_count": null,
      "outputs": []
    },
    {
      "cell_type": "markdown",
      "metadata": {},
      "source": [
        "Every time the function is called with no arguments, the default value is used, which is the same list initialized at the beginning. The list at the begining is an empty list. But after we put things inside, it is no longer empty.\n",
        "\n",
        "If you want to set a mutable object as a default, the way is as follows:"
      ],
      "id": "cd791e26"
    },
    {
      "cell_type": "code",
      "metadata": {},
      "source": [
        "def add(x=None):\n",
        "    if x is None:\n",
        "        x = list()\n",
        "    x.append(1)\n",
        "    return x\n",
        "\n",
        "add()"
      ],
      "id": "f00fc9b2",
      "execution_count": null,
      "outputs": []
    },
    {
      "cell_type": "code",
      "metadata": {},
      "source": [
        "add()"
      ],
      "id": "13d03778",
      "execution_count": null,
      "outputs": []
    },
    {
      "cell_type": "code",
      "metadata": {},
      "source": [
        "add()"
      ],
      "id": "c1093eec",
      "execution_count": null,
      "outputs": []
    },
    {
      "cell_type": "markdown",
      "metadata": {},
      "source": [
        ":::\n",
        "\n",
        "\n",
        "## `list` \n",
        "\n",
        "`list` is a basic Python data structure. It is an ordered sequence of object types, and it is denoted by `[]`. A typical list example is `[0, 1, 2]`, which is a 3-element list.\n",
        "\n",
        "Main questions in `list` contain creating, indexing and applications.\n",
        "\n",
        "### Creating lists\n",
        "\n",
        "There are two built-in methods to create lists. \n",
        "\n",
        "::: {.callout-note collapse=\"true\"}\n",
        "# Naive way \n",
        "A `list` can be created simply by writing down all the elements in order and enclosed by `[]`. Please see the following typical example."
      ],
      "id": "c9f7319a"
    },
    {
      "cell_type": "code",
      "metadata": {},
      "source": [
        "L = [0, 1, 2]\n",
        "L"
      ],
      "id": "557704a8",
      "execution_count": null,
      "outputs": []
    },
    {
      "cell_type": "markdown",
      "metadata": {},
      "source": [
        "An empty list can be denoted by `[]`. \n",
        ":::\n",
        "\n",
        "::: {.callout-note collapse=\"true\"}\n",
        "# Use `list()` to convert objects into a list\n",
        "\n",
        "Similar to the type change for numeric types and `str`, you may use `list()` to convert other objects into a list, if able. The typical example is to convert other iterators into lists."
      ],
      "id": "50127bee"
    },
    {
      "cell_type": "code",
      "metadata": {},
      "source": [
        "s = 'abc'\n",
        "list(s)"
      ],
      "id": "517f0d83",
      "execution_count": null,
      "outputs": []
    },
    {
      "cell_type": "code",
      "metadata": {},
      "source": [
        "r = range(1, 6, 2)\n",
        "list(r)"
      ],
      "id": "cf68d5c1",
      "execution_count": null,
      "outputs": []
    },
    {
      "cell_type": "code",
      "metadata": {},
      "source": [
        "list(zip(s, r))"
      ],
      "id": "38b19183",
      "execution_count": null,
      "outputs": []
    },
    {
      "cell_type": "markdown",
      "metadata": {},
      "source": [
        "Empty list can be created by `list()`.\n",
        ":::\n",
        "\n",
        "::: {.callout-tip}\n",
        "The real difference between this above two methods are very subtle. You may just focus on which one can create the list you want, for now.\n",
        ":::\n",
        "\n",
        "\n",
        "\n",
        "\n",
        "### Indexing\n",
        "There are two ways to get access to elements in a list: by position or by slice. \n",
        "\n",
        "\n",
        "::: {.callout-note collapse=\"true\"}\n",
        "## By position\n",
        "\n",
        "Let `L` be a list. Then `L[i]` will return the `i`-th element in the list. \n",
        "\n",
        "- All index in Python starts from `0`. Therefore the first element is `L[0]`, the second is `L[1]`, etc..\n",
        "- Negative position means go backwards. So `L[-1]` means the last element, `L[-2]` means the second last element, etc..\n"
      ],
      "id": "1d4d31c7"
    },
    {
      "cell_type": "code",
      "metadata": {},
      "source": [
        "L = [1, 2, 3]\n",
        "L[0]"
      ],
      "id": "023fc6dc",
      "execution_count": null,
      "outputs": []
    },
    {
      "cell_type": "code",
      "metadata": {},
      "source": [
        "L[-2]"
      ],
      "id": "3fcdd922",
      "execution_count": null,
      "outputs": []
    },
    {
      "cell_type": "markdown",
      "metadata": {},
      "source": [
        ":::\n",
        "\n",
        "\n",
        "::: {.callout-note collapse=\"true\"}\n",
        "## By slicing\n",
        "`slice` is a Python object. It looks like `slice(start, stop, step)`. It represents an arithematic sequence, which starts from `start`, ends before `stop` with a step size `step`. The default step size is `1`. For example, `slice(0, 5, 1)` represents an arithematic sequence `0`, `1`, `2`, `3`, `4`. Note that `slice(0, 5, 1)` itself is a slice object, and it is NOT the list `[0, 1, 2, 3, 4]`. \n",
        "\n",
        "Let `L` be a list, and `s=slice(start, stop, step)` be a slice. `L[s]` is the portion of the original list `L` given by the index indicated by the slice `s`, as a list. A common way to write slice is through `:`. When slicing a list, you may also use "
      ],
      "id": "17244a80"
    },
    {
      "cell_type": "code",
      "metadata": {},
      "source": [
        "#| eval: false\n",
        "L[start:stop:step]"
      ],
      "id": "27dd5d69",
      "execution_count": null,
      "outputs": []
    },
    {
      "cell_type": "markdown",
      "metadata": {},
      "source": [
        "1. The slice ends before `stop`. Therefore the right end point `stop` is not in the slice.\n",
        "2. If `step` is not specified, `step=1` is the default value.\n",
        "3. If `start` or `stop` is not specified, the default value is the first of the list or the last.\n",
        "4. `start` and `stop` follows the rules of negative positions. \n",
        "5. When slicing, the result is always a list, even if it only contains one element.\n"
      ],
      "id": "6aaeed1d"
    },
    {
      "cell_type": "code",
      "metadata": {},
      "source": [
        "L = ['a', 'b', 'c', 'd', 'e']\n",
        "L[1:5:2]"
      ],
      "id": "a7154ea8",
      "execution_count": null,
      "outputs": []
    },
    {
      "cell_type": "code",
      "metadata": {},
      "source": [
        "L[1:3]"
      ],
      "id": "60a0757d",
      "execution_count": null,
      "outputs": []
    },
    {
      "cell_type": "code",
      "metadata": {},
      "source": [
        "L[:-1]"
      ],
      "id": "e6e20836",
      "execution_count": null,
      "outputs": []
    },
    {
      "cell_type": "code",
      "metadata": {},
      "source": [
        "L[-1:0:-1]"
      ],
      "id": "6dedab43",
      "execution_count": null,
      "outputs": []
    },
    {
      "cell_type": "markdown",
      "metadata": {},
      "source": [
        ":::\n",
        "\n",
        "\n",
        "\n",
        "### Methods\n",
        "\n",
        "::: {.callout-note collapse=\"true\"}\n",
        "## `in`\n",
        "`in` is used to check whether one object is in a list. Please see the following example."
      ],
      "id": "e04a20eb"
    },
    {
      "cell_type": "code",
      "metadata": {},
      "source": [
        "L = ['1', '2', '3']\n",
        "'1' in L"
      ],
      "id": "cb1968bd",
      "execution_count": null,
      "outputs": []
    },
    {
      "cell_type": "code",
      "metadata": {},
      "source": [
        "1 in L"
      ],
      "id": "227f2707",
      "execution_count": null,
      "outputs": []
    },
    {
      "cell_type": "markdown",
      "metadata": {},
      "source": [
        ":::\n",
        "\n",
        "\n",
        "::: {.callout-note collapse=\"true\"}\n",
        "## `.append()`\n",
        "`.append()` method is used to add one object to the list. The default setting is to add the object to the end of the list. Please see the following example."
      ],
      "id": "157f275e"
    },
    {
      "cell_type": "code",
      "metadata": {},
      "source": [
        "L = [1, 2, 3]\n",
        "L.append(4)\n",
        "L"
      ],
      "id": "b9e5525f",
      "execution_count": null,
      "outputs": []
    },
    {
      "cell_type": "markdown",
      "metadata": {},
      "source": [
        "Note that you may input any Python object. If appending another list, that list will be treated as an object. Please see the following example."
      ],
      "id": "993331c5"
    },
    {
      "cell_type": "code",
      "metadata": {},
      "source": [
        "L = [1, 2, 3]\n",
        "L.append([4, 5])\n",
        "L"
      ],
      "id": "f6024866",
      "execution_count": null,
      "outputs": []
    },
    {
      "cell_type": "markdown",
      "metadata": {},
      "source": [
        ":::\n",
        "\n",
        "\n",
        "::: {.callout-note collapse=\"true\"}\n",
        "## `.extend()` and `+`\n",
        "`.extend()` method is used to extend the original list by another list. The input has to be a list. Please see the following example."
      ],
      "id": "8b62a99f"
    },
    {
      "cell_type": "code",
      "metadata": {},
      "source": [
        "L = [1, 2, 3]\n",
        "L.extend([4, 5])\n",
        "L"
      ],
      "id": "bd955ba6",
      "execution_count": null,
      "outputs": []
    },
    {
      "cell_type": "code",
      "metadata": {},
      "source": [
        "#| error: true\n",
        "L = [1, 2, 3]\n",
        "L.extend(4)\n",
        "L"
      ],
      "id": "179bb1ab",
      "execution_count": null,
      "outputs": []
    },
    {
      "cell_type": "markdown",
      "metadata": {},
      "source": [
        "You may use `+` to represent `.extend()`. Please see the following example. It is exactly the same as `[1, 2, 3].extend(['a', 'b'])`."
      ],
      "id": "7ead82aa"
    },
    {
      "cell_type": "code",
      "metadata": {},
      "source": [
        "[1, 2, 3] + ['a', 'b']"
      ],
      "id": "57586468",
      "execution_count": null,
      "outputs": []
    },
    {
      "cell_type": "markdown",
      "metadata": {},
      "source": [
        ":::\n",
        "\n",
        "\n",
        "::: {.callout-note collapse=\"true\"}\n",
        "## `del`, `.remove()` and `.pop()`\n",
        "There are multiple ways to remove an element from a list.\n",
        "\n",
        "- `.remove()` is a `list` method, that is used as `L.remove(a)`. It removes element in-place and is based on values. In other words, it will remove the first element whose value equals to `a`."
      ],
      "id": "6bfd28d5"
    },
    {
      "cell_type": "code",
      "metadata": {},
      "source": [
        "L = [2, 3, 1, 3, 1, 2]\n",
        "L.remove(1)\n",
        "L"
      ],
      "id": "730b0df2",
      "execution_count": null,
      "outputs": []
    },
    {
      "cell_type": "markdown",
      "metadata": {},
      "source": [
        "- `.pop()` is also a `list` method. It removes element in-place, is based on position index, and will return the element removed. The default choice is to pop the last element."
      ],
      "id": "b325748c"
    },
    {
      "cell_type": "code",
      "metadata": {},
      "source": [
        "L = [1, 2, 3, 4]\n",
        "element_popped = L.pop()\n",
        "element_popped"
      ],
      "id": "90981a77",
      "execution_count": null,
      "outputs": []
    },
    {
      "cell_type": "code",
      "metadata": {},
      "source": [
        "L"
      ],
      "id": "bb976c33",
      "execution_count": null,
      "outputs": []
    },
    {
      "cell_type": "code",
      "metadata": {},
      "source": [
        "L = [1, 2, 3, 4]\n",
        "element_popped = L.pop(2)\n",
        "element_popped"
      ],
      "id": "c9e6e154",
      "execution_count": null,
      "outputs": []
    },
    {
      "cell_type": "code",
      "metadata": {},
      "source": [
        "L"
      ],
      "id": "7ac581db",
      "execution_count": null,
      "outputs": []
    },
    {
      "cell_type": "markdown",
      "metadata": {},
      "source": [
        "- `del` is a Python command, that is used to delete elements in a `list` based on position index. "
      ],
      "id": "094d1dee"
    },
    {
      "cell_type": "code",
      "metadata": {},
      "source": [
        "L = [3, 1, 2, 1, 2, 3]\n",
        "del L[3]\n",
        "L"
      ],
      "id": "975855a7",
      "execution_count": null,
      "outputs": []
    },
    {
      "cell_type": "markdown",
      "metadata": {},
      "source": [
        ":::\n",
        "\n",
        "\n",
        "::: {.callout-note collapse=true}\n",
        "## `sorted()` and `.sort()`\n",
        "Let `L` be a list of numbers. We could use `sorted(L)` or `L.sort()` to sort this list `L`. \n",
        "\n",
        "- `sorted()` is a Python built-in function. The syntax is straightforward."
      ],
      "id": "c251b0c9"
    },
    {
      "cell_type": "code",
      "metadata": {},
      "source": [
        "a = [3, 1, 2]\n",
        "b = sorted(a)\n",
        "b"
      ],
      "id": "1108d64c",
      "execution_count": null,
      "outputs": []
    },
    {
      "cell_type": "markdown",
      "metadata": {},
      "source": [
        "- `.sort()` is a `list` method. It sorts the list in place."
      ],
      "id": "ea893f00"
    },
    {
      "cell_type": "code",
      "metadata": {},
      "source": [
        "a = [3, 1, 2]\n",
        "a.sort()\n",
        "a"
      ],
      "id": "83014bed",
      "execution_count": null,
      "outputs": []
    },
    {
      "cell_type": "markdown",
      "metadata": {},
      "source": [
        "Note that `a.sort()` doesn't have any return values. `a` is altered during the process. If you want to catch the return value, you will get a `None` object."
      ],
      "id": "8a18c9ec"
    },
    {
      "cell_type": "code",
      "metadata": {},
      "source": [
        "b = a.sort()\n",
        "b is None"
      ],
      "id": "07387259",
      "execution_count": null,
      "outputs": []
    },
    {
      "cell_type": "markdown",
      "metadata": {},
      "source": [
        "::: {.callout-caution}\n",
        "## The importance of documents\n",
        "This example shows that similar functions may behaves differently. It is actually very hard to predict what would happen since it all depends on how the developer of the function thinks about the problems.\n",
        "\n",
        "Therefore it is very important to know how to find references. Other than simply asking questions on StackOverflow or other forums, the official documents are always your good friend. For example, you may find how these two functions work from [`sorted()`](https://docs.python.org/3/library/functions.html#sorted) and [`.sort()`](https://docs.python.org/3/library/stdtypes.html#list.sort).\n",
        ":::\n",
        "\n",
        ":::\n",
        "\n",
        "\n",
        "### Work with `str`\n",
        "There are many operations of `str` are related to `list`.\n",
        "\n",
        "\n",
        "::: {.callout-note collapse=\"true\"}\n",
        "## Slicing\n",
        "We already mentioned that we could use `s[n]` to get the nth letter of a string `s`. Similarly we could use slice to get part of a string. Note that the index shares the same rule as lists."
      ],
      "id": "db6cb564"
    },
    {
      "cell_type": "code",
      "metadata": {},
      "source": [
        "s = 'abcdef'\n",
        "s[1]"
      ],
      "id": "17326053",
      "execution_count": null,
      "outputs": []
    },
    {
      "cell_type": "code",
      "metadata": {},
      "source": [
        "s[1:3]"
      ],
      "id": "22a48ce8",
      "execution_count": null,
      "outputs": []
    },
    {
      "cell_type": "code",
      "metadata": {},
      "source": [
        "s[1:5:2]"
      ],
      "id": "f9b4460e",
      "execution_count": null,
      "outputs": []
    },
    {
      "cell_type": "markdown",
      "metadata": {},
      "source": [
        ":::\n",
        "\n",
        "\n",
        "::: {.callout-note collapse='true'}\n",
        "## `.split()`\n",
        "`split` is used to split a string `original_string` by a given substring `sep`. The result is a list of the remaining parts. The syntax is "
      ],
      "id": "b1de576d"
    },
    {
      "cell_type": "code",
      "metadata": {},
      "source": [
        "#| eval: false\n",
        "original_string.split(sep)"
      ],
      "id": "76e23550",
      "execution_count": null,
      "outputs": []
    },
    {
      "cell_type": "markdown",
      "metadata": {},
      "source": [
        "Please see the following example."
      ],
      "id": "a18e58c7"
    },
    {
      "cell_type": "code",
      "metadata": {},
      "source": [
        "s = 'abcabcadedeb'\n",
        "s.split('b')"
      ],
      "id": "1e79530d",
      "execution_count": null,
      "outputs": []
    },
    {
      "cell_type": "markdown",
      "metadata": {},
      "source": [
        "Note that the last element of the result is an empty string `''` since the last letter of `s` is `b`."
      ],
      "id": "8b25a601"
    },
    {
      "cell_type": "code",
      "metadata": {},
      "source": [
        "s = 'abcabcadedeb'\n",
        "s.split('ca')"
      ],
      "id": "340b5308",
      "execution_count": null,
      "outputs": []
    },
    {
      "cell_type": "markdown",
      "metadata": {},
      "source": [
        "::: {.callout-tip}\n",
        "This `.split()` is a very simple way to recognize patterns in a string. To fully explore this topic, the best practice is to use regular expressions.\n",
        ":::\n",
        ":::\n",
        "\n",
        "\n",
        "\n",
        "::: {.callout-note collapse='true'}\n",
        "## `.join()`\n",
        "Let `L` be a list of strings. We could connect them together to form a single string, by using `.join()`. We could put a separator string `sep` between each part in the list `L`. The result is the connected string. The syntax is "
      ],
      "id": "550cfc07"
    },
    {
      "cell_type": "code",
      "metadata": {},
      "source": [
        "#| eval: false\n",
        "sep.join(L)"
      ],
      "id": "c703b108",
      "execution_count": null,
      "outputs": []
    },
    {
      "cell_type": "markdown",
      "metadata": {},
      "source": [
        "Please see the following example."
      ],
      "id": "92bef796"
    },
    {
      "cell_type": "code",
      "metadata": {},
      "source": [
        "L = ['a', 'b', 'c', 'd']\n",
        "'+'.join(L)"
      ],
      "id": "677c98c4",
      "execution_count": null,
      "outputs": []
    },
    {
      "cell_type": "code",
      "metadata": {},
      "source": [
        "''.join(L)"
      ],
      "id": "8e511b84",
      "execution_count": null,
      "outputs": []
    },
    {
      "cell_type": "markdown",
      "metadata": {},
      "source": [
        "Note that in this example the separtor string is an empty string.\n",
        ":::\n",
        "\n",
        "\n",
        "## `dict` {#sec-dict}\n",
        "\n",
        "Dictionary `dict` is also very important built-in Python data structure. It is a flexibly sized collection of *key-value* pairs, where key and value are Python objects. One approach for creating a dictionary is to use `{}` and colons to separate keys and values."
      ],
      "id": "574ff5d5"
    },
    {
      "cell_type": "code",
      "metadata": {},
      "source": [
        "example = {'a': 'value',\n",
        "           'b': 1,\n",
        "           3: 'a',\n",
        "           4: [1, 2 ,3],}"
      ],
      "id": "d7562ca7",
      "execution_count": null,
      "outputs": []
    },
    {
      "cell_type": "markdown",
      "metadata": {},
      "source": [
        "You can access, insert, or set elements using the same syntax as for accessing elements\n",
        "of a list."
      ],
      "id": "c63809fb"
    },
    {
      "cell_type": "code",
      "metadata": {},
      "source": [
        "example['a']"
      ],
      "id": "080e5161",
      "execution_count": null,
      "outputs": []
    },
    {
      "cell_type": "code",
      "metadata": {},
      "source": [
        "example[4]"
      ],
      "id": "ba02aee1",
      "execution_count": null,
      "outputs": []
    },
    {
      "cell_type": "markdown",
      "metadata": {},
      "source": [
        "::: {.callout-note collapse=\"true\"}\n",
        "## Checking keys\n",
        "We can directly use `in` to check whether a dict contains a key."
      ],
      "id": "4c68e69f"
    },
    {
      "cell_type": "code",
      "metadata": {},
      "source": [
        "'a' in example"
      ],
      "id": "f3cca2e4",
      "execution_count": null,
      "outputs": []
    },
    {
      "cell_type": "code",
      "metadata": {},
      "source": [
        "1 in example"
      ],
      "id": "d9bd65c2",
      "execution_count": null,
      "outputs": []
    },
    {
      "cell_type": "markdown",
      "metadata": {},
      "source": [
        ":::\n",
        "\n",
        "\n",
        "::: {.callout-note collapse=\"true\"}\n",
        "## `.keys()`, `.values()` and `.items()`\n",
        "We could use `.keys()` to get all keys. The result is actually an iterator. We could either loop through it using `for`, or simply convert it to a list by `list()`."
      ],
      "id": "2323e8a2"
    },
    {
      "cell_type": "code",
      "metadata": {},
      "source": [
        "list(example.keys())"
      ],
      "id": "909990a9",
      "execution_count": null,
      "outputs": []
    },
    {
      "cell_type": "markdown",
      "metadata": {},
      "source": [
        "Similarly, to get all values, we could use `.values()` method. What we get is an iterator, and we could convert it to a list."
      ],
      "id": "b4181325"
    },
    {
      "cell_type": "code",
      "metadata": {},
      "source": [
        "list(example.values())"
      ],
      "id": "bd93548d",
      "execution_count": null,
      "outputs": []
    },
    {
      "cell_type": "markdown",
      "metadata": {},
      "source": [
        "Similar to the previous two, `.items()` is used to get key-value pairs, in the same style."
      ],
      "id": "45fdd17d"
    },
    {
      "cell_type": "code",
      "metadata": {},
      "source": [
        "list(example.items())"
      ],
      "id": "dec30b20",
      "execution_count": null,
      "outputs": []
    },
    {
      "cell_type": "markdown",
      "metadata": {},
      "source": [
        ":::\n",
        "\n",
        "\n",
        "::: {.callout-note collapse=\"true\"}\n",
        "## Update dictionaries\n",
        "\n",
        "1. To update a key-value pair, you may directly write"
      ],
      "id": "6270955e"
    },
    {
      "cell_type": "code",
      "metadata": {},
      "source": [
        "#| eval: false\n",
        "dictionary[key] = value"
      ],
      "id": "16a36ca0",
      "execution_count": null,
      "outputs": []
    },
    {
      "cell_type": "markdown",
      "metadata": {},
      "source": [
        "If this `key` exists, the key-value pair will be updated. If this `key` doesn't exist, this key-value pair will be added to the dictionary. See the following examples."
      ],
      "id": "8fbfcb91"
    },
    {
      "cell_type": "code",
      "metadata": {},
      "source": [
        "example['a'] = 'newvalue'\n",
        "example"
      ],
      "id": "0ee7af6c",
      "execution_count": null,
      "outputs": []
    },
    {
      "cell_type": "code",
      "metadata": {},
      "source": [
        "example['newkey'] = 'good!'\n",
        "example"
      ],
      "id": "b4fb1eb7",
      "execution_count": null,
      "outputs": []
    },
    {
      "cell_type": "markdown",
      "metadata": {},
      "source": [
        "2. To merge with another `dict`, you may use `.update()` method. This is very similar to `.extend()` for `list`. Note that if the same key exists in both dictionaries, the old value will be updated by the new one. Please see the following example."
      ],
      "id": "38e9ffd3"
    },
    {
      "cell_type": "code",
      "metadata": {},
      "source": [
        "example.update({'a': 'new', 10: [1, 2], 11: 'test'})\n",
        "example"
      ],
      "id": "5f6b8abe",
      "execution_count": null,
      "outputs": []
    },
    {
      "cell_type": "markdown",
      "metadata": {},
      "source": [
        ":::\n",
        "\n",
        "## More advanced topics\n",
        "\n",
        "### `list`/`dict` comprehension\n",
        "`list` comprehension is a convenient way to create lists based on the values of an existing `list`. It cannot provide any real improvement to the performance of the codes, but it can make the codes shorter and easier to read.\n",
        "\n",
        "The format of `list` comprehension is"
      ],
      "id": "aff8a03c"
    },
    {
      "cell_type": "code",
      "metadata": {},
      "source": [
        "#| eval: false\n",
        "newlist = [expression for item in iterable if condition == True]"
      ],
      "id": "4f88280a",
      "execution_count": null,
      "outputs": []
    },
    {
      "cell_type": "markdown",
      "metadata": {},
      "source": [
        "It is equivalent to the folowing code:"
      ],
      "id": "dc83e777"
    },
    {
      "cell_type": "code",
      "metadata": {},
      "source": [
        "#| eval: false\n",
        "newlist = []\n",
        "for item in iterable:\n",
        "    if condition == True:\n",
        "        newlist.append(expression)"
      ],
      "id": "9967edb3",
      "execution_count": null,
      "outputs": []
    },
    {
      "cell_type": "markdown",
      "metadata": {},
      "source": [
        "Similarly, there is a `dict` comprehension."
      ],
      "id": "d2925923"
    },
    {
      "cell_type": "code",
      "metadata": {},
      "source": [
        "#| eval: false\n",
        "newdict = {key-expr: value-expr for item in iterable if condition == True}"
      ],
      "id": "9f0beadf",
      "execution_count": null,
      "outputs": []
    },
    {
      "cell_type": "markdown",
      "metadata": {},
      "source": [
        "::: {.callout-caution}\n",
        "`list`/`dict` comprehension is very powerful, and it is able to create very complex nested `list`/`dict` comprehension to squeeze some complicated codes into one line. It is highly recommended **NOT** to do so. \n",
        "\n",
        "The purpose of `list`/`dict` comprehension is to improve readablity. Complicated nested `list`/`dict` comprehension actually makes your code hard to read. You can make `list`/`dict` comprehension with more than one layer only if you have a very good reason.\n",
        ":::\n",
        "\n",
        "\n",
        "\n",
        "::: {#exm-}\n",
        "Consider the following `dict`."
      ],
      "id": "a33c9b76"
    },
    {
      "cell_type": "code",
      "metadata": {},
      "source": [
        "example_dict = {'key1': 'value1',\n",
        "                'key2': 'value2',\n",
        "                'key3': 'value3'}"
      ],
      "id": "4e548001",
      "execution_count": null,
      "outputs": []
    },
    {
      "cell_type": "markdown",
      "metadata": {},
      "source": [
        "1. We want to go through the keys and generate a list whose elements are gotten by concatnating the keys and a fixed prefix `pre`. \n",
        "2. We want to go through the values and generate a list whose elements are gotten by concatnating the values and a fixed postfix `post`. \n",
        "\n",
        "\n",
        "::: {.callout-note collapse=\"true\"}\n",
        "## Solution\n",
        "\n",
        "a. `.keys()` can give an iterator which helps us to loop through all the keys.\n",
        "b. For each key, we may add `pre` to the front of it, and then put the result into a `list`.\n",
        "c. This process is exactly what `list` comprehension can do.\n",
        "\n",
        "Here is the sample code."
      ],
      "id": "d53d83d7"
    },
    {
      "cell_type": "code",
      "metadata": {},
      "source": [
        "prekeys = ['pre'+key for key in example_dict.keys()]\n",
        "postvalues = [value+'post' for value in example_dict.values()]"
      ],
      "id": "328ace21",
      "execution_count": null,
      "outputs": []
    },
    {
      "cell_type": "markdown",
      "metadata": {},
      "source": [
        ":::\n",
        "\n",
        "\n",
        ":::\n",
        "\n",
        "::: {#exm-}\n",
        "Given a string `s=abcde`, create a `dict` that relates a letter with its next (and the next of `e` is back to `a`).\n",
        "\n",
        "::: {.callout-note collapse=\"true\"}\n",
        "## Solution\n",
        "The problem actually creates a circle consisting of `a`, `b`, `c`, `d` and `e`. See the following diagram.  \n",
        "\n",
        "```{dot}\n",
        "//| fig-width: 4\n",
        "//| fig-height: 3\n",
        "\n",
        "digraph G {\n",
        "  layout = neato;\n",
        "  overlap = false;\n",
        "  a [label=\"s[0]=a\"];\n",
        "  b [label=\"s[1]=b\"];\n",
        "  c [label=\"s[2]=c\"];\n",
        "  d [label=\"s[3]=d\"];\n",
        "  e [label=\"s[4]=e\"];\n",
        "  a -> b -> c -> d -> e -> a;\n",
        "}\n",
        "```\n",
        "If we focus on the index, the transformation can be formulated as \"add 1 and then mod 5\". Therefore, every time when we get a letter `s[i]`, its next is `s[(i+1)%5]`. Then our code is as follows."
      ],
      "id": "27a6f1ca"
    },
    {
      "cell_type": "code",
      "metadata": {},
      "source": [
        "s = 'abcde'\n",
        "transform_dict = {}\n",
        "for i in range(len(s)):\n",
        "    transform_dict[s[i]] = s[(i+1)%5]"
      ],
      "id": "97a809e7",
      "execution_count": null,
      "outputs": []
    },
    {
      "cell_type": "markdown",
      "metadata": {},
      "source": [
        "Note that this process is exactly what a `dict` comprehension can do. Therefore we can simplify the above code as follows."
      ],
      "id": "6450024d"
    },
    {
      "cell_type": "code",
      "metadata": {},
      "source": [
        "s = 'abcde'\n",
        "transform_dict = {s[i]: s[(i+1)%5] for i in range(len(s))}"
      ],
      "id": "79855a4b",
      "execution_count": null,
      "outputs": []
    },
    {
      "cell_type": "markdown",
      "metadata": {},
      "source": [
        ":::\n",
        ":::\n",
        "\n",
        "\n",
        "\n",
        "\n",
        "\n",
        "\n",
        "\n",
        "\n",
        "## Examples\n",
        "\n",
        "### Monty Hall problem\n",
        "\n",
        "\n",
        "The Monty Hall problem is a brain teaser, in the form of a probability puzzle, loosely based on the American television game show *Let's Make a Deal* and named after its original host, Monty Hall. The problem is stated as follows:\n",
        "\n",
        "Suppose you're on a game show, and you're given the choice of three doors: Behind one door is a car; behind the others, goats. You pick a door, say No. 1, and the host, who knows what's behind the doors, opens another door, say No. 3, which has a goat. He then says to you, \"Do you want to pick door No. 2?\" Is it to your advantage to switch your choice?\n",
        "\n",
        "Here is a YouTube video of the Monty Hall problem.\n",
        "\n",
        "{{< video https://youtu.be/4Lb-6rxZxx0 >}}\n",
        "\n",
        "\n",
        "We would like to use code to simulate this process. Here are the steps. \n",
        "\n",
        "\n",
        "::: {.callout-note collapse=\"true\"}\n",
        "## Setup\n",
        "We use `1`, `2`, `3` to denote the three doors. We could put it in a list `doors = [1, 2, 3]`. Later after the game, we may record our result. There are only two possibilites: remains with the initial choice wins or switch to the new choice wins. We may record the result in a dictionary `results={'remain': 0, 'switch': 0}`, and update the corresponding key after one game."
      ],
      "id": "83ec2754"
    },
    {
      "cell_type": "code",
      "metadata": {},
      "source": [
        "doors = [1, 2, 3]\n",
        "results = {'remain': 0, 'switch': 0}"
      ],
      "id": "1e699758",
      "execution_count": null,
      "outputs": []
    },
    {
      "cell_type": "markdown",
      "metadata": {},
      "source": [
        ":::\n",
        "\n",
        "\n",
        "::: {.callout-note collapse='true'}\n",
        "## 1. Put the car behind a door.\n",
        "We randomly pick one door and put the car behind it. \n",
        "\n",
        "\"Randomly pick\" can be done by `random.choice()`. What it does is to take a sample chosen from the list. In our case, we would like to take a sample from `doors`. Therefore we want to use `random.choice(doors)`. The output is the door we randomly pick to put the car. So we set it to a variable `door_with_car` to remind us.\n"
      ],
      "id": "d8cf28c3"
    },
    {
      "cell_type": "code",
      "metadata": {},
      "source": [
        "import random\n",
        "door_with_car = random.choice(doors)"
      ],
      "id": "e8f5e922",
      "execution_count": null,
      "outputs": []
    },
    {
      "cell_type": "markdown",
      "metadata": {},
      "source": [
        "This is a function in the package `random`. So to use it you should first `import random`. You may get more information from [the official document](https://docs.python.org/3/library/random.html#random.choice). \n",
        "\n",
        ":::\n",
        "\n",
        "\n",
        "::: {.callout-note collapse=\"true\"}\n",
        "## 2. Make the initial choice.\n",
        "We make our initial choice. We could also randomly pick one door as our initial choice. The code is similar to the previous one. "
      ],
      "id": "6f1a525f"
    },
    {
      "cell_type": "code",
      "metadata": {},
      "source": [
        "initial_choice = random.choice(doors)"
      ],
      "id": "faf52fa2",
      "execution_count": null,
      "outputs": []
    },
    {
      "cell_type": "markdown",
      "metadata": {},
      "source": [
        ":::\n",
        "\n",
        "\n",
        "::: {.callout-note collapse=\"true\"}\n",
        "## 3. The host opens another door.\n",
        "Based on the door with car and our inital choice, the host chooses a door without car to open. This door is denoted by `door_host_open`.\n",
        "\n",
        "There are two possibility here:\n",
        "\n",
        "- If we haapen to pick the door with car, the host will randomly open one of the other two doors, since neither of them has car inside. In other words, we remove `door_with_car` from `doors`, and randomly pick one from the rest.\n",
        "- If we didn't pick the door with car, the car is in one of the other two doors, and the host has to open the other door. In other words, this door is the door that is neither `door_with_car` nor `initial_choice`.\n",
        "\n",
        "The above analysis can be translated directly into the following code."
      ],
      "id": "528348e7"
    },
    {
      "cell_type": "code",
      "metadata": {},
      "source": [
        "rest_doors = doors[:]\n",
        "if door_with_car == initial_choice:\n",
        "    rest_doors.remove(door_with_car)\n",
        "    door_host_open = random.choice(rest_doors)\n",
        "elif door_with_car != initial_choice:\n",
        "    rest_doors.remove(door_with_car)\n",
        "    rest_doors.remove(initial_choice)\n",
        "    door_host_open = random.choice(rest_doors)"
      ],
      "id": "c7d8f0f2",
      "execution_count": null,
      "outputs": []
    },
    {
      "cell_type": "markdown",
      "metadata": {},
      "source": [
        "Note that in this part, we directly remove elements from `doors`. Since we don't want to alter the original variable `doors`, and also `.remove()` works in-place, we make a copy of `doors` and call it `rest_doors` for us to remove doors. \n",
        "\n",
        "The code `[:]` is used to make copies of list. This may be the fastest way to copy plain `list` in Python.\n",
        ":::\n",
        "\n",
        "\n",
        "::: {.callout-note collapse=\"true\"}\n",
        "## 4. Check the result.\n",
        "After the host opens `door_host_open`, two doors are left: our initial choice and the door unopened. The door unopened is actually the door that is neither our initial choice or the door host opens. It is the only element in `tmpdoors` after removing `initial_choice` and `door_host_open`. So we could directly get it by calling index `0`. The code is as follows. Note that we make another copy of `doors` at the beginning due to the same reason as the previous step."
      ],
      "id": "9cebd59b"
    },
    {
      "cell_type": "code",
      "metadata": {},
      "source": [
        "tmpdoors = doors[:]\n",
        "tmpdoors.remove(door_host_open)\n",
        "tmpdoors.remove(initial_choice)\n",
        "door_unopened = tmpdoors[0]"
      ],
      "id": "11ab7e07",
      "execution_count": null,
      "outputs": []
    },
    {
      "cell_type": "markdown",
      "metadata": {},
      "source": [
        "Then we could start the check the result. \n",
        "\n",
        "- If `door_with_car` equals `initial_choice`, remaining with the initial choice wins. \n",
        "- If `door_with_car` equals `door_unopened`, switching to the new door wins.\n",
        "We could update the result dictionary accordingly."
      ],
      "id": "29571dd6"
    },
    {
      "cell_type": "code",
      "metadata": {},
      "source": [
        "if door_with_car == initial_choice:\n",
        "    winner = 'remain'\n",
        "elif door_with_car == door_unopened:\n",
        "    winner = 'switch'\n",
        "\n",
        "results[winner] = results[winner] + 1"
      ],
      "id": "f9b357f6",
      "execution_count": null,
      "outputs": []
    },
    {
      "cell_type": "markdown",
      "metadata": {},
      "source": [
        ":::\n",
        "\n",
        "\n",
        "\n",
        "::: {.callout-note collapse=\"true\"}\n",
        "## Put things together\n",
        "We now put the above steps together."
      ],
      "id": "39a16278"
    },
    {
      "cell_type": "code",
      "metadata": {},
      "source": [
        "import random\n",
        "doors = [1, 2, 3]\n",
        "results = {'remain': 0, 'switch': 0}\n",
        "\n",
        "door_with_car = random.choice(doors)\n",
        "initial_choice = random.choice(doors)\n",
        "\n",
        "rest_doors = doors[:]\n",
        "if door_with_car == initial_choice:\n",
        "    rest_doors.remove(door_with_car)\n",
        "    door_host_open = random.choice(rest_doors)\n",
        "elif door_with_car != initial_choice:\n",
        "    rest_doors.remove(door_with_car)\n",
        "    rest_doors.remove(initial_choice)\n",
        "    door_host_open = random.choice(rest_doors)\n",
        "\n",
        "tmpdoors = doors[:]\n",
        "tmpdoors.remove(door_host_open)\n",
        "tmpdoors.remove(initial_choice)\n",
        "door_unopened = tmpdoors[0]\n",
        "\n",
        "if door_with_car == initial_choice:\n",
        "    winner = 'remain'\n",
        "elif door_with_car == door_unopened:\n",
        "    winner = 'switch'\n",
        "\n",
        "results[winner] = results[winner] + 1"
      ],
      "id": "08e54b40",
      "execution_count": null,
      "outputs": []
    },
    {
      "cell_type": "markdown",
      "metadata": {},
      "source": [
        "The code can be simplified in multiple ways. However here I would like to show how to translate something directly into codes. So I will just keep it as it is.\n",
        ":::\n",
        "\n",
        "\n",
        "::: {.callout-note collapse=\"true\"}\n",
        "## Wrapped in a function\n",
        "The above game process can be wrapped in a function."
      ],
      "id": "a433fa56"
    },
    {
      "cell_type": "code",
      "metadata": {},
      "source": [
        "import random\n",
        "\n",
        "def MontyHall():\n",
        "    doors = [1, 2, 3]\n",
        "\n",
        "    door_with_car = random.choice(doors)\n",
        "    initial_choice = random.choice(doors)\n",
        "\n",
        "    rest_doors = doors[:]\n",
        "    if door_with_car == initial_choice:\n",
        "        rest_doors.remove(door_with_car)\n",
        "        door_host_open = random.choice(rest_doors)\n",
        "    elif door_with_car != initial_choice:\n",
        "        rest_doors.remove(door_with_car)\n",
        "        rest_doors.remove(initial_choice)\n",
        "        door_host_open = random.choice(rest_doors)\n",
        "\n",
        "    tmpdoors = doors[:]\n",
        "    tmpdoors.remove(door_host_open)\n",
        "    tmpdoors.remove(initial_choice)\n",
        "    door_unopened = tmpdoors[0]\n",
        "\n",
        "    if door_with_car == initial_choice:\n",
        "        winner = 'remain'\n",
        "    elif door_with_car == door_unopened:\n",
        "        winner = 'switch'\n",
        "    return winner"
      ],
      "id": "49d0a7bd",
      "execution_count": null,
      "outputs": []
    },
    {
      "cell_type": "markdown",
      "metadata": {},
      "source": [
        ":::\n",
        "\n",
        "Now we may play the game by calling the function `MontyHall()`. The return value is the winner, which can be used to update `results`."
      ],
      "id": "9c0b94e0"
    },
    {
      "cell_type": "code",
      "metadata": {},
      "source": [
        "results = {'remain': 0, 'switch': 0}\n",
        "winner = MontyHall()\n",
        "results[winner] = results[winner] + 1"
      ],
      "id": "4ac06a48",
      "execution_count": null,
      "outputs": []
    },
    {
      "cell_type": "markdown",
      "metadata": {},
      "source": [
        "Then we may play the game multiple times, and see which strategy wins more. The following is the result of 100 games."
      ],
      "id": "a07ded74"
    },
    {
      "cell_type": "code",
      "metadata": {},
      "source": [
        "results = {'remain': 0, 'switch': 0}\n",
        "\n",
        "for i in range(100):\n",
        "    winner = MontyHall()\n",
        "    results[winner] = results[winner] + 1\n",
        "\n",
        "results"
      ],
      "id": "9ca2cd2b",
      "execution_count": null,
      "outputs": []
    },
    {
      "cell_type": "markdown",
      "metadata": {},
      "source": [
        "From this result, you may guess that switch might be the better strategy.\n",
        "\n",
        "\n",
        "### `N`-door Monty Hall problem {#sec-ndoormh}\n",
        "\n",
        "\n",
        "The Monty Hall problem can be modified to `N` doors. The host will open `N-2` doors which don't have the car behind, and only leave one door left for us to choose. What will you choose?\n",
        "\n",
        "We only need to modify our codes a little bit for the change. You may bring the idea \"there are `N` doors\" to the process mentioned above to see what should be modified. However when writing the code, you may still set `N=3` and change it later after you finish.\n",
        "\n",
        "::: {.callout-note collapse=\"true\"}\n",
        "## 1. Change `doors`\n",
        "<!-- The initial setup for `doors` becomes `list(range(1, N+1))`. -->"
      ],
      "id": "fa83f106"
    },
    {
      "cell_type": "code",
      "metadata": {},
      "source": [
        "#| echo: false\n",
        "N = 3\n",
        "doors = list(range(1, N+1))"
      ],
      "id": "a6ba0df3",
      "execution_count": null,
      "outputs": []
    },
    {
      "cell_type": "markdown",
      "metadata": {},
      "source": [
        ":::\n",
        "\n",
        "\n",
        "::: {.callout-note collapse=\"true\"}\n",
        "## 2. The host opens multiple doors\n",
        "<!-- The major change is that now the host has to open `N-2` to only leave one unopened door for us. In other words, during Step 3, we need to take a length `N-2` sample for the host to open. \n",
        "\n",
        "Using the package `random`, to take a length `N-2` sample, we could use the function `random.sample(L, N-2)`. Please go to [the official document](https://docs.python.org/3/library/random.html#random.sample) for more information. -->"
      ],
      "id": "613ed305"
    },
    {
      "cell_type": "code",
      "metadata": {},
      "source": [
        "#| echo: false\n",
        "rest_doors = doors[:]\n",
        "if door_with_car == initial_choice:\n",
        "    rest_doors.remove(door_with_car)\n",
        "    door_host_open = random.sample(rest_doors, N-2)\n",
        "elif door_with_car != initial_choice:\n",
        "    rest_doors.remove(door_with_car)\n",
        "    rest_doors.remove(initial_choice)\n",
        "    door_host_open = random.sample(rest_doors, N-2)"
      ],
      "id": "8346c115",
      "execution_count": null,
      "outputs": []
    },
    {
      "cell_type": "markdown",
      "metadata": {},
      "source": [
        "<!-- Note that the logic of the last line is similar to `N=3` case. The host has to open `N-2` doors that are neither `door_with_car` nor `initial_choice`. If the two doors are different, the host has to open all the rest doors. That's why `door_host_open = rest_doors`. -->\n",
        "\n",
        ":::\n",
        "\n",
        "\n",
        "::: {.callout-note collapse=\"true\"}\n",
        "## 3. Remove multiple `door_host_open`\n",
        "<!-- Because now the host opens more than 1 door, `door_host_open` is now a list, which contains all the doors opened by the host. Then in Step 4 when we remove `door_host_open`, we have to run a `for` loop to remove those doors one by one. -->"
      ],
      "id": "a1b1d960"
    },
    {
      "cell_type": "code",
      "metadata": {},
      "source": [
        "#| echo: false\n",
        "tmpdoors = doors[:]\n",
        "tmpdoors.remove(initial_choice)\n",
        "for door in tmpdoors:\n",
        "    tmpdoors.remove(door)\n",
        "door_unopened = tmpdoors[0]"
      ],
      "id": "0bd48339",
      "execution_count": null,
      "outputs": []
    },
    {
      "cell_type": "markdown",
      "metadata": {},
      "source": [
        "<!-- Then the codes are  -->\n",
        ":::\n",
        "\n",
        "\n",
        "::: {.callout-note collapse=\"true\"}\n",
        "## Put things together\n",
        "<!-- Here is the updated function. -->"
      ],
      "id": "e84a8528"
    },
    {
      "cell_type": "code",
      "metadata": {},
      "source": [
        "#| echo: false\n",
        "import random\n",
        "\n",
        "def MontyHall(N=3):\n",
        "    doors = list(range(1, N+1))\n",
        "\n",
        "    door_with_car = random.choice(doors)\n",
        "    initial_choice = random.choice(doors)\n",
        "\n",
        "    rest_doors = doors[:]\n",
        "    if door_with_car == initial_choice:\n",
        "        rest_doors.remove(door_with_car)\n",
        "        door_host_open = random.sample(rest_doors, N-2)\n",
        "    elif door_with_car != initial_choice:\n",
        "        rest_doors.remove(door_with_car)\n",
        "        rest_doors.remove(initial_choice)\n",
        "        door_host_open = random.sample(rest_doors, N-2)\n",
        "\n",
        "    tmpdoors = doors[:]\n",
        "    tmpdoors.remove(initial_choice)\n",
        "    for door in door_host_open:\n",
        "        tmpdoors.remove(door)\n",
        "    door_unopened = tmpdoors[0]\n",
        "\n",
        "    if door_with_car == initial_choice:\n",
        "        winner = 'remain'\n",
        "    elif door_with_car == door_unopened:\n",
        "        winner = 'switch'\n",
        "    return winner"
      ],
      "id": "9ebf606d",
      "execution_count": null,
      "outputs": []
    },
    {
      "cell_type": "markdown",
      "metadata": {},
      "source": [
        "<!-- Note that we set the default value of `N` is `3`. So if we call `MontyHall()` it will run the `3`-door version.  -->\n",
        ":::\n",
        "\n",
        "Now we can start to play the game. We may test our code by using the default `N` which is `3`."
      ],
      "id": "7dd1510a"
    },
    {
      "cell_type": "code",
      "metadata": {},
      "source": [
        "# | eval: false\n",
        "results = {'remain': 0, 'switch': 0}\n",
        "\n",
        "for i in range(100):\n",
        "    winner = MontyHall()\n",
        "    results[winner] = results[winner] + 1\n",
        "\n",
        "results"
      ],
      "id": "784d1daf",
      "execution_count": null,
      "outputs": []
    },
    {
      "cell_type": "markdown",
      "metadata": {},
      "source": [
        "```\n",
        "{'remain': 34, 'switch': 66}\n",
        "```\n",
        "\n",
        "You will see that we get a similar result as our previous version.\n",
        "\n",
        "Now we will try `10`-door version."
      ],
      "id": "e8a0548b"
    },
    {
      "cell_type": "code",
      "metadata": {},
      "source": [
        "#| eval: false\n",
        "results = {'remain': 0, 'switch': 0}\n",
        "\n",
        "for i in range(100):\n",
        "    winner = MontyHall(10)\n",
        "    results[winner] = results[winner] + 1\n",
        "\n",
        "results"
      ],
      "id": "589c3fbf",
      "execution_count": null,
      "outputs": []
    },
    {
      "cell_type": "markdown",
      "metadata": {},
      "source": [
        "```\n",
        "{'remain': 9, 'switch': 91}\n",
        "```\n",
        "\n",
        "The result also shows that switch is a better strategy. This is the simulation approach for this classic problem. You may compare it with theorical calculations using Probability theory.\n",
        "\n",
        "\n",
        "\n",
        "\n",
        "### Color the Gnomic data\n",
        "\n",
        "We can use ASCII color codes in the string to change the color of strings. As an example, `\\033[91m` is for red and `\\033[94m` is for blue. See the following example."
      ],
      "id": "18793469"
    },
    {
      "cell_type": "code",
      "metadata": {},
      "source": [
        "#| eval: false\n",
        "print('\\033[91m'+'red'+'\\033[92m'+'green'+'\\033[94m'+'blue'+'\\033[93m'+'yellow')"
      ],
      "id": "bd270d03",
      "execution_count": null,
      "outputs": []
    },
    {
      "cell_type": "markdown",
      "metadata": {},
      "source": [
        "This example works in IPython console or Jupyter notebook. \n",
        "\n",
        "\n",
        "Consider an (incomplete) Gnomic data given below which is represented by a long sequence of `A`, `C`, `T` and `G`. Please color it using ASCII color codes."
      ],
      "id": "43a1ebad"
    },
    {
      "cell_type": "code",
      "metadata": {},
      "source": [
        "gnomicdata = 'TCGATCTCTTGTAGATCTGTTCTCTAAACGAACTTTAAAATCTGTGTGGCTGTCACTCGG'\\\n",
        "             'CTGCATGCTTAGTGCACTCACGCAGTATAATTAATAACTAATTACTGTCGTTGACAGGAC'\\\n",
        "             'ACGAGTAACTCGTCTATCTTCTGCAGGCTGCTTACGGTTTCGTCCGTGTTGCAGCCGATC'\\\n",
        "             'ATCAGCACATCTAGGTTTTGTCCGGGTGTGACCGAAAGGTAAGATGGAGAGCCTTGTCCC'\\\n",
        "             'TGGTTTCAACGAGAAAACACACGTCCAACTCAGTTTGCCTGTTTTACAGGTTCGCGACGT'\\\n",
        "             'GCTCGTACGTGGCTTTGGAGACTCCGTGGAGGAGGTCTTATCAGAGGCACGTCAACATCT'\\\n",
        "             'TAAAGATGGCACTTGTGGCTTAGTAGAAGTTGAAAAAGGCGTTTTGCCTCAACTTGAACA'\\\n",
        "             'GCCCTATGTGTTCATCAAACGTTCGGATGCTCGAACTGCACCTCATGGTCATGTTATGGT'\\\n",
        "             'TGAGCTGGTAGCAGAACTCGAAGGCATTCAGTACGGTCGTAGTGGTGAGACACTTGGTGT'\\\n",
        "             'CCTTGTCCCTCATGTGGGCGAAATACCAGTGGCTTACCGCAAGGTTCTTCTTCGTAAGAA'\\\n",
        "             'CGGTAATAAAGGAGCTGGTGGCCATAGTTACGGCGCCGATCTAAAGTCATTTGACTTAGG'\\\n",
        "             'CGACGAGCTTGGCACTGATCCTTATGAAGATTTTCAAGAAAACTGGAACACTAAACATAG'"
      ],
      "id": "716e4a0d",
      "execution_count": null,
      "outputs": []
    },
    {
      "cell_type": "markdown",
      "metadata": {},
      "source": [
        "The way to color `A` as a red `A` is to change the character into `\\033[91mA`. Then using in IPython console or Jupyter notebook after you print it, you can see a red `A`. Therefore the core idea to solve this problem is to replace `A` in the string by `\\033[91mA`, etc..\n",
        "\n",
        "There are multiple ways to implement this idea.\n",
        "\n",
        "::: {.callout-note collapse=\"true\"}\n",
        "## `if-elif-else`\n",
        "We loop through the whole string. Every time when we get an `A`, we replace it with `\\033[91mA`. The same applies to `C`, `T` and `G`.\n",
        "\n",
        "To implement this idea, we actually make another list `newlist`. Every time we read `A` from `gnomicdata`, we add `033[91mA` to the `newlist`. Then at the end we could combine all strings in `newlist` to get the string we need.\n",
        "\n",
        "Here is the code."
      ],
      "id": "72891b29"
    },
    {
      "cell_type": "code",
      "metadata": {},
      "source": [
        "newlist = []\n",
        "for letter in gnomicdata:\n",
        "    if letter == 'A':\n",
        "        newlist.append('\\033[91mA')\n",
        "    elif letter == 'C':\n",
        "        newlist.append('\\033[92mC')\n",
        "    elif letter == 'T':\n",
        "        newlist.append('\\033[93mT')\n",
        "    elif letter == 'G':\n",
        "        newlist.append('\\033[94mG')\n",
        "gnomicstring = ''.join(newlist)"
      ],
      "id": "0ba087b2",
      "execution_count": null,
      "outputs": []
    },
    {
      "cell_type": "markdown",
      "metadata": {},
      "source": [
        ":::\n",
        "\n",
        "::: {.callout-note collapse=\"true\"}\n",
        "## Upgrade using `dict`\n",
        "In the previous method, the big `if...elif...` doesn't look very good. We could use `dict` to simplify the code.\n",
        "\n",
        "The key idea of the `if...elif...` statement is to make a relation between `A` and `\\033[91mA`, etc.. This is exactly what a `dict` can do.\n",
        "\n",
        "Here is the sample code."
      ],
      "id": "2bbd4db9"
    },
    {
      "cell_type": "code",
      "metadata": {},
      "source": [
        "color_pattern = {\n",
        "    'A': '\\033[91mA',\n",
        "    'C': '\\033[92mC',\n",
        "    'T': '\\033[93mT',\n",
        "    'G': '\\033[94mG',\n",
        "}\n",
        "\n",
        "newlist = []\n",
        "for letter in gnomicdata:\n",
        "    newlist.append(color_pattern[letter])\n",
        "gnomicstring = ''.join(newlist)"
      ],
      "id": "ebd23226",
      "execution_count": null,
      "outputs": []
    },
    {
      "cell_type": "markdown",
      "metadata": {},
      "source": [
        ":::\n",
        "\n",
        "\n",
        "::: {.callout-note collapse=\"true\"}\n",
        "## Upgrade using `list` comprehension\n",
        "In the previous method, there is a `new list, for...list.append()` structure. This is exactly what `list` compreshension can do.\n",
        "\n",
        "Here is the sample code."
      ],
      "id": "9fb5fa51"
    },
    {
      "cell_type": "code",
      "metadata": {},
      "source": [
        "color_pattern = {\n",
        "    'A': '\\033[91mA',\n",
        "    'C': '\\033[92mC',\n",
        "    'T': '\\033[93mT',\n",
        "    'G': '\\033[94mG',\n",
        "}\n",
        "\n",
        "gnomicstring = ''.join([color_pattern[letter] for letter in gnomicdata])"
      ],
      "id": "f1ae45b4",
      "execution_count": null,
      "outputs": []
    },
    {
      "cell_type": "markdown",
      "metadata": {},
      "source": [
        "The last piece of code is the best of the three. On the one side it is more condense and easy to read. On the other side, it is actually split into two pieces explicitly: the sytle part (`color_pattern`) and the code part (`gnomicstring`). The code part only controls changing colors, but the colors of the letters are controlled by the style part. This split make the code easier to maintain.\n",
        ":::\n",
        "\n",
        "\n",
        "## Exercises\n",
        "Most problems are based on @Sha2017, @You2020, @Swe2020, @McK2017 and @Klo2021.\n",
        "\n",
        "\n",
        "::: {#exr-}\n",
        "## Indentation\n",
        "Please tell the differences between the following codes. Write your answers in the Markdown cells."
      ],
      "id": "684fc12a"
    },
    {
      "cell_type": "code",
      "metadata": {},
      "source": [
        "#| eval: false\n",
        "\n",
        "for i in range(5):\n",
        "    print('Hello world!')\n",
        "print('Hello world!')"
      ],
      "id": "23a6795e",
      "execution_count": null,
      "outputs": []
    },
    {
      "cell_type": "code",
      "metadata": {},
      "source": [
        "#| eval: false\n",
        "\n",
        "for i in range(5):\n",
        "    print('Hello world!')\n",
        "    print('Hello world!')"
      ],
      "id": "4a2858e8",
      "execution_count": null,
      "outputs": []
    },
    {
      "cell_type": "code",
      "metadata": {},
      "source": [
        "#| eval: false\n",
        "\n",
        "for i in range(5):\n",
        "print('Hello world!')\n",
        "print('Hello world!')"
      ],
      "id": "18cc1722",
      "execution_count": null,
      "outputs": []
    },
    {
      "cell_type": "code",
      "metadata": {},
      "source": [
        "#| eval: false\n",
        "\n",
        "for i in range(5):\n",
        "    pass\n",
        "print('Hello world!')\n",
        "print('Hello world!')"
      ],
      "id": "4967ad8e",
      "execution_count": null,
      "outputs": []
    },
    {
      "cell_type": "markdown",
      "metadata": {},
      "source": [
        ":::\n",
        "\n",
        "\n",
        "\n",
        "\n",
        "::: {#exr-}\n",
        "## Play with built-in data types\n",
        "\n",
        "Please first guess the results of all expressions below, and then run them to check your answers."
      ],
      "id": "12cd510e"
    },
    {
      "cell_type": "code",
      "metadata": {},
      "source": [
        "#| eval: false\n",
        "True and True\n",
        "True or True\n",
        "False and True\n",
        "(1+1>2) or (1-1<1)"
      ],
      "id": "55dbe877",
      "execution_count": null,
      "outputs": []
    },
    {
      "cell_type": "markdown",
      "metadata": {},
      "source": [
        ":::\n",
        "\n",
        "\n",
        "\n",
        "::: {#exr-}\n",
        "## `==` vs `is`\n",
        "Please explain what happens below."
      ],
      "id": "06605fb9"
    },
    {
      "cell_type": "code",
      "metadata": {},
      "source": [
        "a = 1\n",
        "b = 1.0\n",
        "type(a)"
      ],
      "id": "7cccaaff",
      "execution_count": null,
      "outputs": []
    },
    {
      "cell_type": "code",
      "metadata": {},
      "source": [
        "type(b)"
      ],
      "id": "a59b9332",
      "execution_count": null,
      "outputs": []
    },
    {
      "cell_type": "code",
      "metadata": {},
      "source": [
        "a == b"
      ],
      "id": "17491588",
      "execution_count": null,
      "outputs": []
    },
    {
      "cell_type": "code",
      "metadata": {},
      "source": [
        "a is b"
      ],
      "id": "e49f710b",
      "execution_count": null,
      "outputs": []
    },
    {
      "cell_type": "markdown",
      "metadata": {},
      "source": [
        ":::\n",
        "\n",
        "\n",
        "::: {#exr-}\n",
        "## Play with strings\n",
        "\n",
        "1. Please use `.format()` to generate the following sentences."
      ],
      "id": "0362f5b9"
    },
    {
      "cell_type": "code",
      "metadata": {},
      "source": [
        "#| eval: false\n",
        "\"The answer to this question is 1. If you got 2, you are wrong.\"\n",
        "\"The answer to this question is 2. If you got x, you are wrong.\"\n",
        "\"The answer to this question is True. If you got 23, you are wrong.\"\n",
        "\"The answer to this question is 4. If you got 32, you are wrong.\""
      ],
      "id": "1c3a2c6f",
      "execution_count": null,
      "outputs": []
    },
    {
      "cell_type": "markdown",
      "metadata": {},
      "source": [
        "2. Please use `.format()` and `for` loop to generate the following sentence and replace the number `1` inside with all positive odd numbers under `10`."
      ],
      "id": "184f43b7"
    },
    {
      "cell_type": "code",
      "metadata": {},
      "source": [
        "#| eval: false\n",
        "\"I like 1 most among all numbers.\""
      ],
      "id": "52cadffe",
      "execution_count": null,
      "outputs": []
    },
    {
      "cell_type": "markdown",
      "metadata": {},
      "source": [
        ":::\n",
        "\n",
        "\n",
        "\n",
        "\n",
        "::: {#exr-}\n",
        "# Toss a coin\n",
        "\n",
        "1. Please write a function `tossacoin()` to simulate tossing a coin. The output is `H` or `T`, and each call of the function has a 50/50 chance of getting `H` or `T`. Please use the following code to get a random number between `0` and `1`."
      ],
      "id": "7a247aee"
    },
    {
      "cell_type": "code",
      "metadata": {},
      "source": [
        "#| eval: false\n",
        "import numpy as np\n",
        "np.random.rand()"
      ],
      "id": "9cce2bf0",
      "execution_count": null,
      "outputs": []
    },
    {
      "cell_type": "markdown",
      "metadata": {},
      "source": [
        "2. Please simulate tossing a coin 20 times, and print out the results.\n",
        "3. The coin might be uneven. In this case the probability to get `H` is no longer `0.5`. We would like to use an argument `p` to represent the probability of getting `H`. Please upgrade your function `tossacoin()` to be compatible with uneven coins. Then please simulate tossing a coin  (with `p=0.1`, for example) 20 times, and print out the results.\n",
        "4. Tossing a coin 100 times, and record the results in a `list`.\n",
        "\n",
        ":::\n",
        "\n",
        "\n",
        "\n",
        "::: {#exr-}\n",
        "## `split` and `join`\n",
        "\n",
        "1. Please get the list of words `wordlist` of the following sentence."
      ],
      "id": "9008d25e"
    },
    {
      "cell_type": "code",
      "metadata": {},
      "source": [
        "#| eval: false\n",
        "sentence = 'This is an example of a sentence that I expect you to split.'"
      ],
      "id": "8b6d230f",
      "execution_count": null,
      "outputs": []
    },
    {
      "cell_type": "markdown",
      "metadata": {},
      "source": [
        "2. Please combine the `wordlist` gotten from part 1 to get a string `newsentence`, where all spaces are replaced by `\\n`.\n",
        "\n",
        ":::\n",
        "\n",
        "\n",
        "::: {#exr-}\n",
        "## List reference\n",
        "\n",
        "Please finish the following tasks.\n",
        "\n",
        "1. Given the list `a`, make a new reference `b` to `a`. Update the first entry in `b` to be `0`. What happened to the first entry in `a`? Explain your answer in a text block.\n",
        "\n",
        "2. Given the list `a`, make a new copy `b` of the list `a` using the function `list`. Update the first entry in `b` to be `0`. What happened to the first entry in `a`? Explain your answer in a text block. \n",
        ":::\n",
        "\n",
        "\n",
        "\n",
        "::: {#exr-}\n",
        "Please tell the differences of the following objects.\n",
        "\n",
        "1. `[1, 2, 3, 4, 5, 6]`\n",
        "2. `[[1, 2], [3, 4], [5, 6]]`\n",
        "3. `{1: 2, 3: 4, 5: 6}`\n",
        "4. `{1: [2], 3: [4], 5: [6]}`\n",
        "5. `[{1: 2}, {3: 4}, {5: 6}]`\n",
        ":::\n",
        "\n",
        "\n",
        "::: {#exr-}\n",
        "## List comprehension\n",
        "\n",
        "1. Given a list of numbers, use list comprehension to remove all odd numbers from the list:"
      ],
      "id": "615a4b90"
    },
    {
      "cell_type": "code",
      "metadata": {},
      "source": [
        "numbers = [3,5,45,97,32,22,10,19,39,43]"
      ],
      "id": "de459620",
      "execution_count": null,
      "outputs": []
    },
    {
      "cell_type": "markdown",
      "metadata": {},
      "source": [
        "2. Use list comprehension to find all of the numbers from 1-1000 that are divisible by 7.\n",
        "3. Use list comprehension to get the index and the value as a tuple for items in the list `['hi', 4, 8.99, 'apple', ('t,b', 'n')]`. Result would look like `[(index, value), (index, value), ...]`.\n",
        "4. Use list comprehension to find the common numbers in two lists (without using a tuple or set) `list_a = [1, 2, 3, 4]`, `list_b = [2, 3, 4, 5]`.\n",
        ":::\n",
        "\n",
        "\n",
        "::: {#exr-}\n",
        "\n",
        "1. Given a string, use list comprehension to count the number of spaces in it.\n",
        "2. Write a function that counts the number of spaces in a string.\n",
        ":::\n",
        "\n",
        "::: {#exr-}\n",
        "## Probability\n",
        "Compute the probability that two people out of 23 share the same birthday. The math formula for this is \n",
        "$$1-\\frac{365!/(365-23)!}{365^{23}}=1-\\frac{365}{365}\\cdot\\frac{365-1}{365}\\cdot\\frac{365-2}{365}\\cdot\\ldots\\cdot\\frac{365-22}{365}.$$\n",
        "\n",
        "1. To directly use the formula we have to use a high performance math package, e.g. `math`. Please use `math.factorial()` to compute the left hand side of the above formula. You should `import math` to use the function since it is in the `math` package.\n",
        "\n",
        "2. Please use the right hand side of the above formula to compute the probability using the following steps.\n",
        "    a. Please use the list comprehension to create a list $\\left[\\frac{365}{365},\\frac{365-1}{365},\\frac{365-2}{365},\\ldots,\\frac{365-22}{365}\\right]$. \n",
        "    b. Use `math.prod()` to compute the product of elements of the above list. You should `import math` to use the function since it is in the `math` package.\n",
        "    c. Compute the probability by finishing the formula.\n",
        "\n",
        "3. Please use `time` to test which method mentioned above is faster.\n",
        ":::\n",
        "\n",
        "\n",
        "\n",
        "::: {#exr-}\n",
        "## Determine the indefinite article\n",
        "Please finish the following tasks.\n",
        "\n",
        "1. Please construct a list `aeiou` that contains all vowels.\n",
        "2. Given a word `word`, we would like to find the indefinite article `article` before `word`. (Hint: the article should be `an` if the first character of `word` is a vowel, and `a` if not.)\n",
        ":::\n",
        "<details>\n",
        "<summary> Click for Hint.</summary>\n",
        "::: {.solution}\n",
        "Consider `in`, `.lower()` and `if` structure.\n",
        ":::\n",
        "</details>\n",
        "\n",
        "\n",
        "\n",
        "::: {#exr-}\n",
        "## File names\n",
        "\n",
        "1. Please use Python code to generate the following list of file names: `file0.txt`, `file1.txt`, `file2.txt`, ... `file9.txt`. \n",
        "2. Please use Python code to generate the following list of file names: `file0.txt`, `file1.txt`, `file2.txt`, ... `file10.txt`, `file11.txt`, ..., `file99.txt`, `file100.txt`. \n",
        "3. Please use Python code to generate the following list of file names: `file000.txt`, `file001.txt`, `file002.txt`, ... `file100.txt`. You may consider `.zfill()` to fill the zeros.\n",
        ":::\n",
        "\n",
        "::: {#exr-}\n",
        "## Datetime and files names\n",
        "We would like to write a program to quickly generate many files. (For example, we want to take random samples multiple times and we want to keep all our samples. Another example is to generate AI pictures.) Every time we run the code, many files will be generated. We hope to store all files generated and organize them in a neat way. To achieve this, one way is to create a subfolder for each run and store all files generated during that run in the particular subfolder. Since we would like to make it fast, the real point of this task is to find a way to automatically generate the filenames for the files generated and the folder names for the subfolders generated. \n",
        "\n",
        "One way to automatically generate file names and folder names is to use the date and the time when the code is run. Please check `datetime` package for getting and formatting date/time, and `os` packages for playing with files and folders. Here are some suggested steps.\n",
        "\n",
        "1. Use `datetime` packages to get the current date and time. You may read [this article](https://docs.python.org/3/library/datetime.html) to learn how to use `datetime` package.\n",
        "2. Use the current date and time to form two strings `currentdate` and `currenttime`.\n",
        "3. Assume that we would like to generate 100 files. Then please generate a list of strings that each one is string that represents a path with folder `currentdate`, subfolder `currenttime` and file name `X.txt` where `X` is a number from `0` to `99`.\n",
        ":::\n",
        "<details>\n",
        "<summary>Click for Hint.</summary>\n",
        "You may try `datetime.datetime.now()` and `.strftime()` method for the `datetime` object.\n",
        "</details>\n",
        "\n",
        "\n",
        "\n",
        "\n",
        "::: {#exr-}\n",
        "## Caesar cipher\n",
        "In cryptography, a *Caesar cipher* is one of the simplest and most widely known encryption techniques. It is a type of substitution cipher in which each letter in the plaintext is replaced by a letter some fixed number of positions down the alphabet. For example, with a left shift of 3, `D` would be replaced by `A`, `E` would become `B`, and so on. The method is named after Julius Caesar, who used it in his private correspondence.\n",
        "\n",
        "Please write two functions to implement Caesar cipher and decipher. To make things easier, we implement the following two rules.\n",
        "\n",
        "1. Spaces, `,`, numbers or other non-alphabic letters will NOT be changed.\n",
        "2. Upper case and lower case will NOT be changed.\n",
        "\n",
        "Note that you may add the number of shifts as a parameter in your function.\n",
        ":::\n",
        "\n",
        "\n",
        "\n",
        "::: {#exr-}\n",
        "## `sorted`\n",
        "Please read through the Key Funtions section in this [article](https://docs.python.org/3/howto/sorting.html#key-functions), and sort the following two lists.\n",
        "\n",
        "1. Sort `list1 = [[11,2,3], [2, 3, 1], [5,-1, 2], [2, 3,-8]]` according to the sum of each list.\n",
        "\n",
        "2. Sort `list2 = [{'a': 1, 'b': 2}, {'a': 3, 'b': 4},{'a': 5, 'b': 2}]` according to the `b` value of each dictionary.\n",
        ":::\n",
        "\n",
        "\n",
        "\n",
        "\n",
        "::: {#exr-fantasyinventorycode}\n",
        "## Fantasy Game Inventory\n",
        "\n",
        "You are creating a fantasy video game. The data structure to model the player’s inventory will be a dictionary where the keys are string values describing the item in the inventory and the value is an integer value detailing how many of that item the player has. For example, the dictionary value `{'rope': 1, 'torch': 6, 'gold coin': 42, 'dagger': 1, 'arrow': 12}` means the player has 1 rope, 6 torches, 42 gold coins, and so on.\n",
        "\n",
        "1. Write some code to take any possible `inventory` and display it like the following. Note that the order of items doesn't matter. The purpose of this exercise is to read information from a `dict` and translate it into a format you need."
      ],
      "id": "ee212063"
    },
    {
      "cell_type": "code",
      "metadata": {},
      "source": [
        "#| eval: false\n",
        "Inventory:\n",
        "12 arrow\n",
        "42 gold coin\n",
        "1 rope\n",
        "6 torch\n",
        "1 dagger\n",
        "Total number of items: 62"
      ],
      "id": "e0e3bedb",
      "execution_count": null,
      "outputs": []
    },
    {
      "cell_type": "markdown",
      "metadata": {},
      "source": [
        "2. Write a function named `displayInventory()` that would take any possible `inventory` and display it in the above way.\n",
        ":::\n",
        "\n",
        "\n",
        "\n",
        "::: {#exr-ndoormontyhall}\n",
        "# `N`-door Monty Hall problem\n",
        "Please finish the function `MontyHall()` for the `N`-door Monty Hall problem described in @sec-ndoormh.\n",
        ":::\n"
      ],
      "id": "df5bea59"
    }
  ],
  "metadata": {
    "kernelspec": {
      "name": "ds24",
      "language": "python",
      "display_name": "ds24"
    }
  },
  "nbformat": 4,
  "nbformat_minor": 5
}