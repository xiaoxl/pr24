{
  "cells": [
    {
      "cell_type": "markdown",
      "metadata": {},
      "source": [
        "# Package: `numpy`\n",
        "\n",
        "The main reference for this chapter is [@McK2017].\n",
        "\n",
        "\n",
        "## Basics\n",
        "\n",
        "The core data structure for `numpy` is `numpy.ndarray`. It is called *NumPy Nd array*. In most cases we will use its alias `array` for simplicity. You may treat it as a generalized version of `list`. However it can do so much more than the built-in `list`. \n",
        "\n",
        "To use `numpy`, we just import it. In most cases you would like to use the alias `np`."
      ],
      "id": "7a174826"
    },
    {
      "cell_type": "code",
      "metadata": {},
      "source": [
        "import numpy as np"
      ],
      "id": "6f11c59b",
      "execution_count": null,
      "outputs": []
    },
    {
      "cell_type": "markdown",
      "metadata": {},
      "source": [
        "<!-- Using alias, we will just call NumPy Nd array `np.array`. -->\n",
        "\n",
        "### Understanding `ndarray`\n",
        "The simplest way to look at an `ndarray` is to think it as lists of list. Here are some examples.\n",
        "\n",
        "- This is an example of a 1d array. Note that it can be treated as a list. You may get access to its entries by 1 index, e.g. `a[0]`. This means that: we have a list, and we want to get the `0`th element in the list."
      ],
      "id": "8f50f2e0"
    },
    {
      "cell_type": "code",
      "metadata": {},
      "source": [
        "a = np.array([1, 2])\n",
        "a"
      ],
      "id": "8388fa41",
      "execution_count": null,
      "outputs": []
    },
    {
      "cell_type": "markdown",
      "metadata": {},
      "source": [
        "- This is an example of a 2d array. Note that it can be treated as a list of lists. You may get access to its entries by 2 indexes, e.g. `b[0, 0]`. This means that: we have a list of lists. We first get the `0`th element (which is a list), and then get the `0`th element from this `0`th list (which is a number)."
      ],
      "id": "c3ce6e50"
    },
    {
      "cell_type": "code",
      "metadata": {},
      "source": [
        "b = np.array([[1, 2], [3,4]])\n",
        "b"
      ],
      "id": "db1beff1",
      "execution_count": null,
      "outputs": []
    },
    {
      "cell_type": "markdown",
      "metadata": {},
      "source": [
        "- This is an example of a 3d array. Note that it can be treated as a list of lists of lists. You may get access to its entries by 3 indexes, e.g. `c[0, 0, 0]`. This means that: we have a list of lists of lists. We first get the `0`th element (which is a list of lists), and then get the `0`th element (which is a list) from this `0`th list of lists, and then get the `0`th element (which is a number) from the previous list."
      ],
      "id": "69f04641"
    },
    {
      "cell_type": "code",
      "metadata": {},
      "source": [
        "c = np.array([[[1, 2], [3,4]], [[1, 2], [3,4]]])\n",
        "c"
      ],
      "id": "5b62559b",
      "execution_count": null,
      "outputs": []
    },
    {
      "cell_type": "markdown",
      "metadata": {},
      "source": [
        "#### The dimension of `ndarray`\n",
        "There is a very confusing terminology for `ndarray`: dimension. The actual word using in documents is actually `axes`. It refers to the number of coordinates required to describe the location. \n",
        "\n",
        "In the previous example, `a` is a 1d array since you only need 1 index to get entries, `b` is a 2d array since you need 2 indexes to get entries, and `c` is a 3d array since you need 3 indexes to get entries.\n",
        "\n",
        "We could use `.ndim` to check the dimension of a `ndarray`."
      ],
      "id": "50029f33"
    },
    {
      "cell_type": "code",
      "metadata": {},
      "source": [
        "d = np.array([[1, 2, 3], [4, 5, 6]])\n",
        "d.ndim"
      ],
      "id": "8b45aed7",
      "execution_count": null,
      "outputs": []
    },
    {
      "cell_type": "markdown",
      "metadata": {},
      "source": [
        "::: {.callout-note}\n",
        "## Comparing to Linear algebras\n",
        "The dimension of an `ndarray` and the dimenion of a vector in Linear algebras are totally different. In this example, as a `ndarray`, `a=np.array([1, 2])` is a 1d `ndarray`, of length `2`. As a vector, it is a 2d vector.\n",
        ":::\n",
        "\n",
        "To describe the length of each axes, we could use `.shape`. It will tells us the length of each axis. In other words, it tells us the maximal index of each axis.\n",
        "\n",
        "\n",
        "::: {#exm-}"
      ],
      "id": "af78e2a1"
    },
    {
      "cell_type": "code",
      "metadata": {},
      "source": [
        "d = np.array([[1, 2, 3], [4, 5, 6]])\n",
        "d.shape"
      ],
      "id": "ceed610a",
      "execution_count": null,
      "outputs": []
    },
    {
      "cell_type": "markdown",
      "metadata": {},
      "source": [
        "The shape of `d` is `(2, 3)`, which means that the length of axis 0 is `2` and the length of axis 1 is `3`. \n",
        "\n",
        "- Axis 0 is the vertical axis, and its index is corresponding to rows. The length of axis 0 is actually the number of rows.\n",
        "- Axis 1 is the horizental axis, and its index is corresponding to columns. The length of axis 1 is actually the number of columns.\n",
        "\n",
        "So a 2d array can be treated as a matrix, and the shape being `(2, 3)` means that the matrix has `2` rows and `3` columns.\n",
        ":::\n",
        "\n",
        "::: {.callout-caution}\n",
        "`.ndim` and `.shape` are not methods. There is no `()` behind.\n",
        ":::\n",
        "\n",
        "\n",
        "#### Moving along axis {#sec-moving-along-axis}\n",
        "A lot of `numpy` methods has an argument `axis=`, which let you to specify performing the action along which axis. You may understand this \"along axis\" in the following way. `axis=i` means that when we perform the action, we keep all other indexes the same, only changing the index on axis `i`.\n",
        "\n",
        "For example, `b.sum(axis=0)` means that we want to add all entries along axis `0`. So we start from a certain entry, keeping all other index the same when changing index on axis `0` only, and add all these entries together. Since axis `0` is corresponding to rows index, only changing row index means we are moving vertically. So if `b` is a 2d array, `b.sum(axis=0)` means we are adding all column together.\n",
        "\n",
        "We will do more examples later this section.\n",
        "\n",
        "\n",
        "\n",
        "### Create `ndarrays`\n",
        "There are many ways to create `ndarrays`. We list some basic ways below.\n",
        "\n",
        "\n",
        "::: {.callout-note collapse=\"true\"}\n",
        "# Converting from a Python `list`\n",
        "You may apply `np.array()` to a `list` to convert it into a `ndarray`.\n",
        "\n",
        "1. A list of numbers will create a 1d `ndarray`.\n",
        "2. A list of lists will create a 2d `ndarray`.\n",
        "3. Further nested lists will create a higher-dimensional `ndarray`.\n",
        "\n",
        "All arrays in the previous sections are created in this way.\n",
        ":::\n",
        "\n",
        "::: {.callout-note collapse=\"true\"}\n",
        "# Intrinsic `numpy` array creation functions\n",
        "Here is an incomplete list of such functions.\n",
        "\n",
        "1. `np.ones()` and `np.zeros()`\n",
        "    - Both of them will create `ndarrays` with the specified shape.\n",
        "2. `np.eye()` and `np.diag()`\n",
        "    - Both will create 2d array. So they can also be treated as creating matrices.\n",
        "\n",
        "3. `np.arange(start, stop, step)`\n",
        "    - It will only create 1d array, which start from `start` to `stop` with the step size `step`.\n",
        "    - `start` is by default `0` and `step` is by default `1`.\n",
        "    - In most cases the `stop` is NOT included, which is similar to Python list.\n",
        "    - The syntax is very similar to `range()`. The main difference between them is the object type of the output.\n",
        "\n",
        "4. `np.linspace(start, stop, num)`\n",
        "    - It will only create 1d array, which starts from `start`, stops at `stop` with totally `num` of points in the array, each of which are equally spread.\n",
        "    - `start` and `stop` are always INCLUDED in the array.\n",
        "\n",
        "5. `np.random.rand()` and many other functions in `np.random` package.\n",
        "\n",
        "These functions are straightforward. You may go to the official documents for more details. For example [this](https://numpy.org/doc/stable/reference/generated/numpy.arange.html) is the page for `np.arange()`. You may find other functions on the left navigation bar, or you may use the search function to locate them.\n",
        ":::\n",
        "\n",
        "\n",
        "::: {.callout-note collapse=\"true\"}\n",
        "# Reading from files\n",
        "`numpy` provides several functions to read and write files. We discuss the most commonly used one: `np.genfromtxt()`.\n",
        "\n",
        "`np.genfromtxt()` is used to load data from a text file, with missing values handled as specified. The idea of this function is to first read the file as a string and then parse the structure of the string, automatically. \n",
        "\n",
        "There are many arguments. Here are a few commonly used. For more details please read the [official tutorial](https://numpy.org/doc/stable/user/basics.io.genfromtxt.html).\n",
        "\n",
        "- `dtype`: Data type of the resulting array. If `None`, the dtypes will be determined by the contents of each column, individually.\n",
        "- `delimiter`: The string used to separate values. By default, any consecutive whitespaces act as delimiter. \n",
        "- `usecols`: Which columns to read, with 0 being the first. \n",
        "- `encoding`: This is used to decode the inputfile. The default setting for `encoding` is `bytes`. If it is set to `None` the system default is used. Please pay attention to the differences between these two.\n",
        "\n",
        "Note that when choosing `dtype`, if the type is NOT a single type, the output will be a 1d array with each entry being a tuple. If it is a single type, the output will be a 2d array. Please see the following example."
      ],
      "id": "b63810c0"
    },
    {
      "cell_type": "code",
      "metadata": {},
      "source": [
        "import numpy as np\n",
        "\n",
        "url = 'https://archive.ics.uci.edu/ml/machine-learning-databases/iris/iris.data'\n",
        "iris_1d = np.genfromtxt(url, delimiter=',', dtype=None, encoding=None)\n",
        "iris_2d = np.genfromtxt(url, delimiter=',', dtype='float', encoding=None)\n",
        "iris_2d_str = np.genfromtxt(url, delimiter=',', dtype='str', encoding=None)\n",
        "iris_1d[:10]"
      ],
      "id": "4fb57eda",
      "execution_count": null,
      "outputs": []
    },
    {
      "cell_type": "code",
      "metadata": {},
      "source": [
        "iris_2d[:10]"
      ],
      "id": "3485dcf7",
      "execution_count": null,
      "outputs": []
    },
    {
      "cell_type": "code",
      "metadata": {},
      "source": [
        "iris_2d_str[:10]"
      ],
      "id": "51a65af3",
      "execution_count": null,
      "outputs": []
    },
    {
      "cell_type": "markdown",
      "metadata": {},
      "source": [
        "We only show the first 10 rows to save some display room.\n",
        "\n",
        "You may also download the datafile from the `url` provided in the code. The file can be opened with any editor. It is displayed below for reference. "
      ],
      "id": "42b16742"
    },
    {
      "cell_type": "code",
      "metadata": {},
      "source": [
        "#| echo: false\n",
        "import urllib\n",
        "datafile = urllib.request.urlopen(url).read()\n",
        "print(datafile)"
      ],
      "id": "2ca9bd31",
      "execution_count": null,
      "outputs": []
    },
    {
      "cell_type": "markdown",
      "metadata": {},
      "source": [
        "The file can be understood as follows. `\\n` separates rows and `,` separates columns. Each row contains five columns, where the last one is definitely a string, and the first four are numeric. Therefore the whole dataset is a mixed type dataset. \n",
        "\n",
        "1. In the first command, `dtype=None`. Since any types are accepted, it returns an 1d array with each row being a tuple. \n",
        "2. In the second command, `dtype='float'`. Then only `float` data is accepted. Then we have a 2d array with the last column (string data that cannot be tranlated into a float) being `np.nan`.\n",
        "3. In the third command, `dtype='string'`. Then all data are tranlated into strings, and we get a 2d array.\n",
        "\n",
        "\n",
        "\n",
        "<!-- - Binary files\n",
        "    - `np.save()` is used to save one `np.array` array into the binary `.npy` format. \n",
        "    - `np.savez()` is used to save multiple `np.array` arries into one uncompressed `.npz` format. \n",
        "    - `np.load()` is used to load the `np.array` data from either `.npy` or `.npz`.\n",
        "\n",
        "    `.npy` is the standard binary file format in `numpy`. `.npz` is a ZipFile containing multiple `.npy` files. These file formats are used in `numpy` naively so `numpy` work with them very fast, comparing to other file formats like `.txt` and `.csv`. \n",
        "    \n",
        "    The downside is that these files are not human-readable, and are hard to be understood by other programs. So if you would use other ways to deal with these data, you may want to save the data in other formats. -->\n",
        ":::\n",
        "\n",
        "\n",
        "\n",
        "::: {.callout-note collapse=\"true\"}\n",
        "# Changing the shape of other `ndarrays`\n",
        "There are multiple ways to manipulate the shapes of `ndarrays`. We will only mention some commonly used ones in this section.\n",
        "\n",
        "1. `np.concatenate()`\n",
        "\n",
        "`np.concatenate()` is used to join a sequence of `ndarrays` along an existing axis. Therefore the major input arugments including:\n",
        "\n",
        "- A tuple which represents the sequence of `ndarrays`.\n",
        "- The axis for the `ndarrays` to be concatenated. The default is `axis=0`.\n",
        "\n",
        "The setting for `axis` is the same as in @sec-moving-along-axis. That is, `axis=i` along the axis `i` means that all we collect all the entries with the same other indexes and different `i`th index.\n",
        "\n",
        "A quick example is about a 2d `ndarrays`. When talking about `axis=0`, we are looking at entries that have the same `1st` index and different `0th` index. This refers to all the entries in one column. So if we want to do something vertically, we need to set `axis=0`.\n",
        "\n",
        "Similarly, `axis=1` means that we are looking at the entries wich the same `0th` index and different `1st` index. These are entries in the same row. So `axis=1` menas horizontally. Please see the following example.\n",
        "\n",
        "::: {#exm-}\n",
        "## Axis\n",
        "Given `A = np.array([[1,2],[3,4]])` and `B = np.array([[5,6],[7,8]])`, please use `np.concatenate` to concatencate these two matrices to get a new matrix, in the order:"
      ],
      "id": "1dadd115"
    },
    {
      "cell_type": "code",
      "metadata": {},
      "source": [
        "#| echo: false\n",
        "A = np.array([[1,2],[3,4]])\n",
        "B = np.array([[5,6],[7,8]])"
      ],
      "id": "208296c5",
      "execution_count": null,
      "outputs": []
    },
    {
      "cell_type": "markdown",
      "metadata": {},
      "source": [
        "- `A` left, `B` right"
      ],
      "id": "deb5b292"
    },
    {
      "cell_type": "code",
      "metadata": {},
      "source": [
        "np.concatenate((A, B), axis=1)"
      ],
      "id": "3f48d5fa",
      "execution_count": null,
      "outputs": []
    },
    {
      "cell_type": "markdown",
      "metadata": {},
      "source": [
        "- `A` right, `B` left"
      ],
      "id": "2ab01223"
    },
    {
      "cell_type": "code",
      "metadata": {},
      "source": [
        "np.concatenate((B, A), axis=1)"
      ],
      "id": "768cac55",
      "execution_count": null,
      "outputs": []
    },
    {
      "cell_type": "markdown",
      "metadata": {},
      "source": [
        "- `A` up, `B` down"
      ],
      "id": "a9322b1b"
    },
    {
      "cell_type": "code",
      "metadata": {},
      "source": [
        "np.concatenate((A, B), axis=0)"
      ],
      "id": "ee340964",
      "execution_count": null,
      "outputs": []
    },
    {
      "cell_type": "markdown",
      "metadata": {},
      "source": [
        "- `A` down, `B` up"
      ],
      "id": "ea844cec"
    },
    {
      "cell_type": "code",
      "metadata": {},
      "source": [
        "np.concatenate((B, A), axis=0)"
      ],
      "id": "88173e6f",
      "execution_count": null,
      "outputs": []
    },
    {
      "cell_type": "markdown",
      "metadata": {},
      "source": [
        ":::\n",
        "\n",
        "2. Reshape\n",
        "\n",
        "`np.reshape()` functions and `.reshape()` methods are equivalent. They are used to change the shape of the original `ndarray`. Please see the following example.\n"
      ],
      "id": "bbd425e4"
    },
    {
      "cell_type": "code",
      "metadata": {},
      "source": [
        "A = np.array([[1, 2, 3], [4, 5, 6]])\n",
        "A.reshape((6, 1))"
      ],
      "id": "182feb95",
      "execution_count": null,
      "outputs": []
    },
    {
      "cell_type": "markdown",
      "metadata": {},
      "source": [
        "3. Transpose\n",
        "\n",
        "There are three ways to perform transpose.\n",
        "\n",
        "- `np.transpose()` function\n",
        "- `.transpose()` method\n",
        "- `.T` attribute\n",
        "Please see the following example."
      ],
      "id": "1d2d6dc2"
    },
    {
      "cell_type": "code",
      "metadata": {},
      "source": [
        "A = np.array([[1, 2, 3], [4, 5, 6]])\n",
        "A.T"
      ],
      "id": "265dd50d",
      "execution_count": null,
      "outputs": []
    },
    {
      "cell_type": "markdown",
      "metadata": {},
      "source": [
        "Note that in the third method, `.T` is NOT a function that there are no `()` at the end.\n",
        "\n",
        ":::\n",
        "\n",
        "\n",
        "::: {.callout-caution collapse=\"true\"}\n",
        "# Pay attention to the format of inputs\n",
        "Please be very careful about the format of the input. For example, when you want to specify the dimension of the array, using `np.zeros`, you need to input a `tuple`. On the other hand, when using `np.random.rand`, you just directly input the dimensions one by one."
      ],
      "id": "c530a2f2"
    },
    {
      "cell_type": "code",
      "metadata": {},
      "source": [
        "#| eval: false\n",
        "import numpy as np\n",
        "\n",
        "np.zeros((3, 2))\n",
        "np.random.rand(3, 2)"
      ],
      "id": "7cb7deec",
      "execution_count": null,
      "outputs": []
    },
    {
      "cell_type": "markdown",
      "metadata": {},
      "source": [
        "In this case, the official documents are always your friend.\n",
        ":::\n",
        "\n",
        "\n",
        "\n",
        "### Mathematical and Statistical Methods\n",
        "Many functions performs element-wise operations on data in `ndarrays`, and supports array broadcasting, type casting, and several other standard features. This type of functions is called a universal function (or *ufunc* for short). \n",
        "\n",
        "With ufuncs, using `ndarrays` enables you to express many kinds of data processing tasks as concise array expressions that might otherwise require writing loops. This practice of replacing explicit loops with array expressions is commonly referred to as *vectorization*.\n",
        "\n",
        "Please see the following example.\n",
        "\n",
        "::: {#exm-}"
      ],
      "id": "6f4d1552"
    },
    {
      "cell_type": "code",
      "metadata": {},
      "source": [
        "import numpy as np\n",
        "x = np.linspace(0, 1, 101)\n",
        "y = np.sin(x)\n",
        "z = y**2 + 2*y-3"
      ],
      "id": "5371b60e",
      "execution_count": null,
      "outputs": []
    },
    {
      "cell_type": "markdown",
      "metadata": {},
      "source": [
        "This example defines two functions $y=\\sin(x)$ and $z=y^2+2y-3$. The syntax is very similar to the math language.\n",
        ":::\n",
        "\n",
        "\n",
        "::: {.callout-caution} \n",
        "Please pay attention to the difference between `numpy` functions and `ndarray` methods. `numpy` functions are functions defined in the `numpy` package that you use it by applying it to the arguments. `ndarray` methods are function defined specific for one `ndarray`, and it is used by calling it after the `ndarray` with `.` symbol. In the official documents, a `numpy` function looks like `numpy.XXX()` while a `ndarray` method looks like `numpy.ndarray.XXX()`. Please see the following example.\n",
        "\n",
        "- [`np.amax()`](https://numpy.org/doc/stable/reference/generated/numpy.amax.html#numpy.amax) is a numpy function. It is used to find the maximum of an array. Assuming `a` is a `np.array`, then the syntax is `np.amax(a)`.\n",
        "- [`.max()`](https://numpy.org/doc/stable/reference/generated/numpy.ndarray.max.html) is a `np.array` method. It is used to find the maximum of an array. Assuming `a` is a `np.array`, then the syntax is `a.max()`.\n",
        ":::\n",
        "Here is an incomplete list of ufuncs. Some functions come with brief introductions. For more details please read the official documents.\n",
        "\n",
        "- `numpy` functions\n",
        "    - `+`, `-`, `*`, `/`, `**`, etc.. \n",
        "    - `>`, `<`, `>=`, `<=`, `==`, `!=`, etc..\n",
        "    - `np.sin()`, `np.exp()`, `np.sqrt()`, etc..\n",
        "    - `np.dot()`: Matrix multiplication.\n",
        "    - `np.unique()`: Find out all unique values from the array.\n",
        "    - `np.maximum()` and `np.minimum()`: These are used to find the maximum/minimum between two `np.array`.\n",
        "    - `np.argmax()` and `np.argmin()`: Return the indices of the maximum/minimum values. There are also `.argmin()` and `.argmax()` methods.\n",
        "    - `np.sort()`: Sort the array. There is also a `.sort()` method.    \n",
        "- `ndarray` methods\n",
        "    - `.mean()`, `.sum()`, `.std()`, `.var()`: Array methods that are used to compute corresponding properties of the array.\n",
        "    - `.cumsum()`: Return the cumulative sum of the elements along a given axis. \n",
        "    - `.max()` and `.min()`: This is used to find the maximal/minimal entry of one `np.array`.    \n",
        "    - `.argmax()` and `.argmin()`: Return the indices of the maximum/minimum values. There are also `np.argmax()` and `np.argmin()` functions.\n",
        "    - `.sort()`: Sort the array. There is also a `np.sort()` function.\n",
        "\n",
        "\n",
        "::: {.callout-tip}\n",
        "Don't forget that most functions and methods have `axis` arguments to specify which axis you want to move along with.\n",
        ":::\n",
        "\n",
        "#### Broadcasting \n",
        "\n",
        "Although most `numpy` functions and `ndarray` methods are computing entry-wise, when we perform binary operations, the size of the two arrays don't have to be the same. If they are not the same, the Broadcasting Rule applies, and some entries will be filled automatically by repeating themselves.\n",
        "\n",
        "\n",
        "::: {.callout-note}\n",
        "# The Broadcasting Rule\n",
        "Two arrays are compatible for broadcasting if for each dimension the axis lengths match or if either of the lengths is 1. Broadcasting is then performed over the missing or length 1 dimensions.\n",
        ":::\n",
        "\n",
        "Please see the following examples."
      ],
      "id": "1cd3bdff"
    },
    {
      "cell_type": "code",
      "metadata": {},
      "source": [
        "import numpy as np\n",
        "a = np.array([1, 2])\n",
        "a + 1"
      ],
      "id": "88d14d55",
      "execution_count": null,
      "outputs": []
    },
    {
      "cell_type": "code",
      "metadata": {},
      "source": [
        "b = np.array([[3, 4], [5, 6]])\n",
        "a + b"
      ],
      "id": "677ed6e6",
      "execution_count": null,
      "outputs": []
    },
    {
      "cell_type": "code",
      "metadata": {},
      "source": [
        "c = np.array([[1], [2]])\n",
        "b + c"
      ],
      "id": "383cdbb1",
      "execution_count": null,
      "outputs": []
    },
    {
      "cell_type": "markdown",
      "metadata": {},
      "source": [
        "## Indexing\n",
        "\n",
        "### Basic indexing\n",
        "\n",
        "Basic indexing is very similar to indexing and slicing for `list`. Please see the following examples.\n",
        "\n",
        "\n",
        "::: {#exm-}"
      ],
      "id": "bf4006f7"
    },
    {
      "cell_type": "code",
      "metadata": {},
      "source": [
        "import numpy as np\n",
        "arr = np.arange(10)\n",
        "arr"
      ],
      "id": "716ad65d",
      "execution_count": null,
      "outputs": []
    },
    {
      "cell_type": "code",
      "metadata": {},
      "source": [
        "arr[5]"
      ],
      "id": "dce379b8",
      "execution_count": null,
      "outputs": []
    },
    {
      "cell_type": "code",
      "metadata": {},
      "source": [
        "arr[5:8]"
      ],
      "id": "895aa677",
      "execution_count": null,
      "outputs": []
    },
    {
      "cell_type": "code",
      "metadata": {},
      "source": [
        "arr[5:8:2]"
      ],
      "id": "00c509ca",
      "execution_count": null,
      "outputs": []
    },
    {
      "cell_type": "code",
      "metadata": {},
      "source": [
        "arr[8:5:-1]"
      ],
      "id": "52160509",
      "execution_count": null,
      "outputs": []
    },
    {
      "cell_type": "code",
      "metadata": {},
      "source": [
        "arr[::-1]"
      ],
      "id": "d5615a8f",
      "execution_count": null,
      "outputs": []
    },
    {
      "cell_type": "code",
      "metadata": {},
      "source": [
        "arr[5:8] = 12\n",
        "arr"
      ],
      "id": "8ae6ee7b",
      "execution_count": null,
      "outputs": []
    },
    {
      "cell_type": "markdown",
      "metadata": {},
      "source": [
        ":::\n",
        "\n",
        "\n",
        "To do slicing in higher dimensional case, you may directly work with it with multiindexes.\n",
        "\n",
        "\n",
        "::: {#exm-}"
      ],
      "id": "d665e8e4"
    },
    {
      "cell_type": "code",
      "metadata": {},
      "source": [
        "import numpy as np\n",
        "arr3d = np.arange(12).reshape(2, 2, 3)\n",
        "arr3d"
      ],
      "id": "74b08ffc",
      "execution_count": null,
      "outputs": []
    },
    {
      "cell_type": "code",
      "metadata": {},
      "source": [
        "arr3d[0, 1, 2]"
      ],
      "id": "9799587a",
      "execution_count": null,
      "outputs": []
    },
    {
      "cell_type": "code",
      "metadata": {},
      "source": [
        "arr3d[:, 0: 2, 1]"
      ],
      "id": "548e85c0",
      "execution_count": null,
      "outputs": []
    },
    {
      "cell_type": "code",
      "metadata": {},
      "source": [
        "arr3d[:, 0: 2, 1:2]"
      ],
      "id": "a1803117",
      "execution_count": null,
      "outputs": []
    },
    {
      "cell_type": "markdown",
      "metadata": {},
      "source": [
        ":::\n",
        "\n",
        "\n",
        "::: {.callout-caution}\n",
        "# Nested indexes\n",
        "In theory, since `ndarrys` can be treated as lists of list, it is possible to use nested index to get access to entries. For example, assuming `a` is a 2d `ndarray`, we might use `a[0][0]` to get access to `a[0, 0]`. This is a legal syntax.\n",
        "\n",
        "However it is almost required NOT to do so. The main reason is due to the copy/view rules that will be described later. Nested indexes might cause many confusions and it is highly possible to casue unexpected errors.\n",
        ":::\n",
        "\n",
        "### Advanced Indexing\n",
        "Advanced indexing is triggered when the selection object satisfies some conditions. The concrete definition is technical and abstract. You may (not entirely correctly) understand it as \"everything other than basic indexing (concrete coordinates or slicing)\". Please read the [official document](https://numpy.org/doc/stable/user/basics.indexing.html#advanced-indexing) for more details. \n",
        "\n",
        "Here we mainly focus on some typical advaced indexing methods. \n",
        "\n",
        "::: {.callout-caution}\n",
        "There are some very exotic examples that are very hard to tell whether they belong to basic indexing or advanced indexing. Our suggestion is to avoid this type of code, and try to code in the most straight forward way. You could come back to understand this problem later when you are more expericened, but it is more of a Programming Language problem, instead of a Data Science problem.\n",
        ":::\n",
        "\n",
        "\n",
        "\n",
        "\n",
        "::: {.callout-note collapse=\"true\"}\n",
        "# Fancy indexing\n",
        "Fancy indexing is a term adopted by `numpy` to describe indexing using integer arrays. \n",
        "\n",
        "The basic idea is to use a `list` of indexes to select entries. The general rule is relative complicated. Here we will only talk about 1d and 2d cases.\n",
        "\n",
        "\n",
        "::: {.callout-tip}\n",
        "# 1d case\n",
        ":::\n",
        "\n",
        "When dealing with a 1d `ndarray`, indexing by a `list` is straight forward. Please see the following example."
      ],
      "id": "fc707f55"
    },
    {
      "cell_type": "code",
      "metadata": {},
      "source": [
        "import numpy as np\n",
        "arr = np.arange(16)\n",
        "\n",
        "arr[[1, 3, 0, 2]]"
      ],
      "id": "ab2ffaab",
      "execution_count": null,
      "outputs": []
    },
    {
      "cell_type": "markdown",
      "metadata": {},
      "source": [
        "::: {.callout-caution collapse=\"true\"}\n",
        "# A trick example\n",
        "Please consider the following two indexings. "
      ],
      "id": "abf6f368"
    },
    {
      "cell_type": "code",
      "metadata": {},
      "source": [
        "arr[1:2]"
      ],
      "id": "8bf13336",
      "execution_count": null,
      "outputs": []
    },
    {
      "cell_type": "code",
      "metadata": {},
      "source": [
        "arr[[1]]"
      ],
      "id": "6566692e",
      "execution_count": null,
      "outputs": []
    },
    {
      "cell_type": "markdown",
      "metadata": {},
      "source": [
        "From the first glance, the two outputs look the same. However they are from two different techniques. \n",
        "\n",
        "- The `1:2` in `arr[1:2]` is a `slice`. Therefore the first indexing is basic indexing. \n",
        "- The `[1]` in `arr[[1]]` is a `list`. Therefore the second indexing is advanced indexing.\n",
        "\n",
        "The main reason to distinguish these two indexings is about view and copy, which will be discussed in the next section.\n",
        ":::\n",
        "\n",
        "\n",
        "::: {.callout-tip}\n",
        "# 2d case\n",
        ":::\n",
        "\n",
        "When dealing with a 2d `ndarray`, there are multiple possibilities. In the following discussion we will use the following example."
      ],
      "id": "e9be019f"
    },
    {
      "cell_type": "code",
      "metadata": {},
      "source": [
        "A = np.arange(16).reshape((4, 4))\n",
        "A"
      ],
      "id": "bd9c17de",
      "execution_count": null,
      "outputs": []
    },
    {
      "cell_type": "markdown",
      "metadata": {},
      "source": [
        "::: {.callout-note collapse=\"true\"}\n",
        "# 1. If only one `list` is given\n",
        "If only one `list` is given, this `list` is considered as the list of row indexes. The resulted `ndarray` is always 2d."
      ],
      "id": "ae66f515"
    },
    {
      "cell_type": "code",
      "metadata": {},
      "source": [
        "A[[3, 1]]"
      ],
      "id": "5cb47f77",
      "execution_count": null,
      "outputs": []
    },
    {
      "cell_type": "markdown",
      "metadata": {},
      "source": [
        ":::\n",
        "\n",
        "\n",
        "::: {.callout-note collapse=\"true\"}\n",
        "# 2. If two arguments are given, one is a `list`, the other is `:`\n",
        "If two arguments are given, one is a `list`, the other is `:`, this `list` refers to row indexes if it is in the first argument place, and refers to column indexes if it is in the second argument place. The resulted `ndarray` is always 2d."
      ],
      "id": "ad72660c"
    },
    {
      "cell_type": "code",
      "metadata": {},
      "source": [
        "A[[3, 1], :]"
      ],
      "id": "15577d59",
      "execution_count": null,
      "outputs": []
    },
    {
      "cell_type": "code",
      "metadata": {},
      "source": [
        "A[:, [3, 1]]"
      ],
      "id": "6f929867",
      "execution_count": null,
      "outputs": []
    },
    {
      "cell_type": "markdown",
      "metadata": {},
      "source": [
        ":::\n",
        "\n",
        "\n",
        "::: {.callout-note collapse=\"true\"}\n",
        "# 3. If both two arguments are `lists` of the same length\n",
        "If both two arguments are `lists` of the same length, it is considered as the `list` of `axis 0` coordinates and the `list` of `axis 1` coordinates. In this case, the resulted `ndarray` is 1d."
      ],
      "id": "cc3fda0d"
    },
    {
      "cell_type": "code",
      "metadata": {},
      "source": [
        "A[[0, 1], [3, 1]]"
      ],
      "id": "7b418f42",
      "execution_count": null,
      "outputs": []
    },
    {
      "cell_type": "markdown",
      "metadata": {},
      "source": [
        "In this example, the two `lists` together gives two entries. \n",
        "\n",
        "- The coordinate of the first entry is `(0, 3)` since they are the first entry of each `list`. The `(0, 3)` entry in `A` is `3`.\n",
        "- The coordinate of the second entry is `(1, 1)` since they are the second entry of each `list`. The `(1, 1)` entry in `A` is `5`. \n",
        "\n",
        "Then the result is `array([3, 5])`, as shown above.\n",
        "\n",
        ":::\n",
        "\n",
        "\n",
        "::: {.callout-note collapse=\"true\"}\n",
        "# 4. If both two arguments are `lists`, and one of the `lists` is of length `1`\n",
        "If both two arguments are `lists`, and one of the `lists` is of length `1`, it is the same as the previous case, with the `list` of length `1` being broadcasted.\n"
      ],
      "id": "a287473b"
    },
    {
      "cell_type": "code",
      "metadata": {},
      "source": [
        "A[[0], [3, 1]]"
      ],
      "id": "ed0bf444",
      "execution_count": null,
      "outputs": []
    },
    {
      "cell_type": "markdown",
      "metadata": {},
      "source": [
        "In this example, after broadcasting, the result is the same as `A[[0,0], [3,1]]`.\n",
        "\n",
        "\n",
        ":::\n",
        "\n",
        "For higher dimensions, please read the documents to understand how it actually works. \n",
        "\n",
        "Note that `ndarray` can also be used as indexes and it behaves very similar to `list`.\n",
        "\n",
        ":::\n",
        "\n",
        "\n",
        "\n",
        "::: {.callout-note collapse=\"true\"}\n",
        "# Boolean Indexing\n",
        "`ndarray` can accept index in terms of `ndarrays` with boolean indexing.\n",
        "\n",
        "\n",
        "::: {#exm-}"
      ],
      "id": "2d759e69"
    },
    {
      "cell_type": "code",
      "metadata": {},
      "source": [
        "import numpy as np\n",
        "a = np.arange(4)\n",
        "b = np.array([True, True, False, True])\n",
        "a"
      ],
      "id": "83c75213",
      "execution_count": null,
      "outputs": []
    },
    {
      "cell_type": "code",
      "metadata": {},
      "source": [
        "b"
      ],
      "id": "9d5221ce",
      "execution_count": null,
      "outputs": []
    },
    {
      "cell_type": "code",
      "metadata": {},
      "source": [
        "a[b]"
      ],
      "id": "e70ea4a2",
      "execution_count": null,
      "outputs": []
    },
    {
      "cell_type": "markdown",
      "metadata": {},
      "source": [
        ":::\n",
        "\n",
        "We could combine this way with the logic computation to filter out the elements we want/don't want.\n",
        "\n",
        "::: {#exm-}\n",
        "Please find the odd numbers in `arr`. "
      ],
      "id": "a00ed1c1"
    },
    {
      "cell_type": "code",
      "metadata": {},
      "source": [
        "arr = np.arange(10)\n",
        "odd = (arr %2 == 1)\n",
        "arr[odd] "
      ],
      "id": "ff44bf04",
      "execution_count": null,
      "outputs": []
    },
    {
      "cell_type": "markdown",
      "metadata": {},
      "source": [
        ":::\n",
        ":::\n",
        "\n",
        "\n",
        "\n",
        "\n",
        "\n",
        "### [Copies and views](https://numpy.org/doc/stable/user/basics.copies.html)\n",
        "The view of an `ndarray` is a way to get access to the array without copying internel data. When operating with a view, the original data as well as all other views of the original data will be modified simutanously. \n",
        "\n",
        "::: {#exm-}"
      ],
      "id": "5c3e4499"
    },
    {
      "cell_type": "code",
      "metadata": {},
      "source": [
        "import numpy as np\n",
        "arr = np.arange(10)\n",
        "b = arr[5:8]\n",
        "print('arr is {}'.format(arr))\n",
        "print('b is {}'.format(b))"
      ],
      "id": "5aef001f",
      "execution_count": null,
      "outputs": []
    },
    {
      "cell_type": "code",
      "metadata": {},
      "source": [
        "b[0] = -1\n",
        "print('arr is {}'.format(arr))\n",
        "print('b is {}'.format(b))"
      ],
      "id": "fca22b0a",
      "execution_count": null,
      "outputs": []
    },
    {
      "cell_type": "code",
      "metadata": {},
      "source": [
        "arr[6] = -2\n",
        "print('arr is {}'.format(arr))\n",
        "print('b is {}'.format(b))"
      ],
      "id": "f998f9c6",
      "execution_count": null,
      "outputs": []
    },
    {
      "cell_type": "markdown",
      "metadata": {},
      "source": [
        ":::\n",
        "\n",
        "\n",
        "\n",
        "The default setting for copies and views is that, basic indexing will always make views, and advanced indexing (e.g. boolean indexing, fancy indexing, etc.) will make copies. For other operations, you need to check the documents to know how they work. For example, `np.reshape()` creates a view where possible, and `np.flatten()` always creates a copy.\n",
        "\n",
        "The way to check whether something is a view or not is the attribute `.base`. If it is a view of another `ndarray`, you may see that `ndarray` in the attribute `.base`. If it is not a view, in other words, if it is a copy, the `.base` attribute is `None`.\n",
        "\n",
        "\n",
        "::: {#exm-}"
      ],
      "id": "8e8e020c"
    },
    {
      "cell_type": "code",
      "metadata": {},
      "source": [
        "A = np.random.rand(3, 3)\n",
        "A"
      ],
      "id": "8b8a1ac4",
      "execution_count": null,
      "outputs": []
    },
    {
      "cell_type": "code",
      "metadata": {},
      "source": [
        "A[1:2].base"
      ],
      "id": "e0e0de30",
      "execution_count": null,
      "outputs": []
    },
    {
      "cell_type": "markdown",
      "metadata": {},
      "source": [
        "Basic indexing creates views. In this example, the `base` of `A[1:2]` is `A`, which means that `A[1:2]` is a view of `A`."
      ],
      "id": "576908e3"
    },
    {
      "cell_type": "code",
      "metadata": {},
      "source": [
        "print(A[[1]].base)"
      ],
      "id": "e3cdd75b",
      "execution_count": null,
      "outputs": []
    },
    {
      "cell_type": "markdown",
      "metadata": {},
      "source": [
        "Advanced indexing creates copys. In this example, the `base` is `None`. So `A[[1]]` is NOT a view of anything.\n",
        ":::\n",
        "\n",
        "\n",
        "\n",
        "\n",
        "You may use `np.view()` or `np.copy()` to make views or copies explicitly. \n",
        "\n",
        "::: {#exm-}"
      ],
      "id": "ef45c184"
    },
    {
      "cell_type": "code",
      "metadata": {},
      "source": [
        "arr = np.arange(10)\n",
        "b = arr[5:8].copy()\n",
        "print('arr is {}'.format(arr))\n",
        "print('b is {}'.format(b))"
      ],
      "id": "8876fd3f",
      "execution_count": null,
      "outputs": []
    },
    {
      "cell_type": "code",
      "metadata": {},
      "source": [
        "b[0] = -1\n",
        "print('arr is {}'.format(arr))\n",
        "print('b is {}'.format(b))"
      ],
      "id": "fac07a37",
      "execution_count": null,
      "outputs": []
    },
    {
      "cell_type": "code",
      "metadata": {},
      "source": [
        "arr[6] = -2\n",
        "print('arr is {}'.format(arr))\n",
        "print('b is {}'.format(b))"
      ],
      "id": "2c30d582",
      "execution_count": null,
      "outputs": []
    },
    {
      "cell_type": "code",
      "metadata": {},
      "source": [
        "print('The base of b is {}'.format(b.base))"
      ],
      "id": "f6b65b01",
      "execution_count": null,
      "outputs": []
    },
    {
      "cell_type": "markdown",
      "metadata": {},
      "source": [
        ":::\n",
        "\n",
        "\n",
        "## More functions\n",
        "\n",
        "We introduce a few more advanced functions here. All the following functions are somehow related to the indexes of entries.\n",
        "\n",
        "::: {.callout-note collapse=\"true\"}\n",
        "# `np.where()`\n",
        "`np.where()` is a very powerful function. The basic usage is `np.where(A satisfies condition)`. The output is an `ndarray` of indexes of entries of `A` that satisfies the condition.\n",
        "\n",
        "- When the `ndarray` in question is 1d, the output is a 1d `ndarray` of indexes."
      ],
      "id": "f6241e5b"
    },
    {
      "cell_type": "code",
      "metadata": {},
      "source": [
        "import numpy as np\n",
        "a = np.random.randint(10, size=10)\n",
        "a"
      ],
      "id": "de882738",
      "execution_count": null,
      "outputs": []
    },
    {
      "cell_type": "code",
      "metadata": {},
      "source": [
        "np.where(a%3 == 1)"
      ],
      "id": "67782c97",
      "execution_count": null,
      "outputs": []
    },
    {
      "cell_type": "markdown",
      "metadata": {},
      "source": [
        "Since the output is the `ndarray` of indexes, it is possible to directly use it to get those entries. "
      ],
      "id": "336d3b03"
    },
    {
      "cell_type": "code",
      "metadata": {},
      "source": [
        "a[np.where(a%3 == 1)]"
      ],
      "id": "78349afb",
      "execution_count": null,
      "outputs": []
    },
    {
      "cell_type": "markdown",
      "metadata": {},
      "source": [
        "Note that this is a fancy indexing, so the result is a copy.\n",
        "\n",
        "- When the `ndarray` in question is 2d, the output is a tuple which consists of two 2d `ndarray` of indexes. The two `ndarrays` are the arrays of the `axis 0` indexes and the `axis 1` indexes of the very entries. "
      ],
      "id": "0f38e38b"
    },
    {
      "cell_type": "code",
      "metadata": {},
      "source": [
        "b = np.random.randint(10, size=(3, 3))\n",
        "b"
      ],
      "id": "14ae7b15",
      "execution_count": null,
      "outputs": []
    },
    {
      "cell_type": "code",
      "metadata": {},
      "source": [
        "np.where(b%2 == 0)"
      ],
      "id": "18e917ef",
      "execution_count": null,
      "outputs": []
    },
    {
      "cell_type": "markdown",
      "metadata": {},
      "source": [
        "Similar to the previous case, we may directly using fancy indexing to get an `ndarray` of the entries, and what we get is a copy."
      ],
      "id": "b3058d30"
    },
    {
      "cell_type": "code",
      "metadata": {},
      "source": [
        "b[np.where(b%2 == 0)]"
      ],
      "id": "e09303e2",
      "execution_count": null,
      "outputs": []
    },
    {
      "cell_type": "markdown",
      "metadata": {},
      "source": [
        "- `np.where()` has two more optional arguments. "
      ],
      "id": "310bb779"
    },
    {
      "cell_type": "code",
      "metadata": {},
      "source": [
        "#| eval: false\n",
        "np.where(arr satisfies condition, x, y)"
      ],
      "id": "14db1366",
      "execution_count": null,
      "outputs": []
    },
    {
      "cell_type": "markdown",
      "metadata": {},
      "source": [
        "The output is an `ndarray` of the same shape as `arr`. For each entry, if it satisfies the `condition`, the entry is `x`. Otherwise it is `y`.\n"
      ],
      "id": "bec2b20f"
    },
    {
      "cell_type": "code",
      "metadata": {},
      "source": [
        "arr = np.arange(10)\n",
        "np.where(arr<5, 0, 1)"
      ],
      "id": "8c537175",
      "execution_count": null,
      "outputs": []
    },
    {
      "cell_type": "markdown",
      "metadata": {},
      "source": [
        "`numpy` will go over all entries in `arr`, and check whether they are smaller than `5`. If an entry is smaller than `5`, it is set to `0`. If an entry is not smaller than `5`, it is set to `1`.\n",
        "\n",
        "This is a very convenient way to do some aggragation operations. \n",
        "\n",
        ":::\n",
        "\n",
        "\n",
        "::: {.callout-note collapse=\"true\"}\n",
        "# `np.any()` and `np.all()`\n",
        "Both of them will check each entry of an `ndarray` satisfies certain conditions. `np.any()` will return `True` if any one entry satisfies the condition. `np.all()` will return `True` if all entries satisfy the condition.\n",
        "\n",
        "Both of them also accept `axis` argument. In this case output will be an `ndarray` which gives results along the specific axis.\n",
        "\n",
        "Please see the following examples."
      ],
      "id": "6af6f0c9"
    },
    {
      "cell_type": "code",
      "metadata": {},
      "source": [
        "a = np.array([[1,2],[2,4], [3,5]])\n",
        "np.any(a%2==0)"
      ],
      "id": "81074507",
      "execution_count": null,
      "outputs": []
    },
    {
      "cell_type": "code",
      "metadata": {},
      "source": [
        "np.any(a%2==0, axis=0)"
      ],
      "id": "d067539b",
      "execution_count": null,
      "outputs": []
    },
    {
      "cell_type": "code",
      "metadata": {},
      "source": [
        "np.any(a%2==0, axis=1)"
      ],
      "id": "85f2c15d",
      "execution_count": null,
      "outputs": []
    },
    {
      "cell_type": "code",
      "metadata": {},
      "source": [
        "np.all(a%2==0)"
      ],
      "id": "3377e45e",
      "execution_count": null,
      "outputs": []
    },
    {
      "cell_type": "code",
      "metadata": {},
      "source": [
        "np.all(a%2==0, axis=0)"
      ],
      "id": "8db7a275",
      "execution_count": null,
      "outputs": []
    },
    {
      "cell_type": "code",
      "metadata": {},
      "source": [
        "np.all(a%2==0, axis=1)"
      ],
      "id": "0e777487",
      "execution_count": null,
      "outputs": []
    },
    {
      "cell_type": "markdown",
      "metadata": {},
      "source": [
        ":::\n",
        "\n",
        "\n",
        "::: {.callout-note collapse=\"true\"}\n",
        "# `np.argsort()`\n",
        "`np.argsort()` returns the indices that would sort an array. It is easy to think of that indexing using this output indices can resulted a sorted `ndarray`, which is a copy of the original one since this indexing is a fancy indexing.\n"
      ],
      "id": "7ff2943b"
    },
    {
      "cell_type": "code",
      "metadata": {},
      "source": [
        "import numpy as np\n",
        "a = np.random.randint(100, size=10)\n",
        "a"
      ],
      "id": "1a2f88dc",
      "execution_count": null,
      "outputs": []
    },
    {
      "cell_type": "code",
      "metadata": {},
      "source": [
        "a[np.argsort(a)]"
      ],
      "id": "2c7e52e5",
      "execution_count": null,
      "outputs": []
    },
    {
      "cell_type": "markdown",
      "metadata": {},
      "source": [
        ":::\n",
        "\n",
        "### Some examples\n",
        "\n",
        "\n",
        "::: {#exm-}\n",
        "Get the position where elements of `a` and `b` match."
      ],
      "id": "9af059d1"
    },
    {
      "cell_type": "code",
      "metadata": {},
      "source": [
        "a = np.array([1,2,3,2,3,4,3,4,5,6])\n",
        "b = np.array([7,2,10,2,7,4,9,4,9,8])\n",
        "\n",
        "np.where(a == b)"
      ],
      "id": "a121a8ee",
      "execution_count": null,
      "outputs": []
    },
    {
      "cell_type": "markdown",
      "metadata": {},
      "source": [
        ":::\n",
        "\n",
        "::: {#exm-}"
      ],
      "id": "48bf96d9"
    },
    {
      "cell_type": "code",
      "metadata": {},
      "source": [
        "a = np.array([1,2,3,2,3,4,3,4,5,6])\n",
        "b = np.array([7,2,10,2,7,4,9,4,9,8])\n",
        "\n",
        "np.where(a == b, a*2, b+1)"
      ],
      "id": "6049f590",
      "execution_count": null,
      "outputs": []
    },
    {
      "cell_type": "markdown",
      "metadata": {},
      "source": [
        ":::\n",
        "\n",
        "\n",
        "\n",
        "\n",
        "\n",
        "::: {#exm-}\n",
        "## Playing with axis\n",
        "Please think through the example and understand what actually happens in each case."
      ],
      "id": "02920fae"
    },
    {
      "cell_type": "code",
      "metadata": {},
      "source": [
        "import numpy as np\n",
        "a = np.array([[[1,2],[3,4]],[[5,6],[7,8]]])\n",
        "a"
      ],
      "id": "66699ad6",
      "execution_count": null,
      "outputs": []
    },
    {
      "cell_type": "code",
      "metadata": {},
      "source": [
        "np.any(a==1, axis=0)"
      ],
      "id": "c2144f7a",
      "execution_count": null,
      "outputs": []
    },
    {
      "cell_type": "code",
      "metadata": {},
      "source": [
        "np.any(a==1, axis=1)"
      ],
      "id": "ee397deb",
      "execution_count": null,
      "outputs": []
    },
    {
      "cell_type": "code",
      "metadata": {},
      "source": [
        "np.any(a==1, axis=2)"
      ],
      "id": "b20434a2",
      "execution_count": null,
      "outputs": []
    },
    {
      "cell_type": "code",
      "metadata": {},
      "source": [
        "np.any(a==2, axis=0)"
      ],
      "id": "90f29dc6",
      "execution_count": null,
      "outputs": []
    },
    {
      "cell_type": "code",
      "metadata": {},
      "source": [
        "np.any(a==2, axis=1)"
      ],
      "id": "590c305f",
      "execution_count": null,
      "outputs": []
    },
    {
      "cell_type": "code",
      "metadata": {},
      "source": [
        "np.any(a==2, axis=2)"
      ],
      "id": "8a382eb5",
      "execution_count": null,
      "outputs": []
    },
    {
      "cell_type": "code",
      "metadata": {},
      "source": [
        "np.any(a==5, axis=0)"
      ],
      "id": "22951be4",
      "execution_count": null,
      "outputs": []
    },
    {
      "cell_type": "code",
      "metadata": {},
      "source": [
        "np.any(a==5, axis=1)"
      ],
      "id": "e3db3d4d",
      "execution_count": null,
      "outputs": []
    },
    {
      "cell_type": "code",
      "metadata": {},
      "source": [
        "np.any(a==5, axis=2)"
      ],
      "id": "a1ba2689",
      "execution_count": null,
      "outputs": []
    },
    {
      "cell_type": "markdown",
      "metadata": {},
      "source": [
        ":::\n",
        "\n",
        "\n",
        "## Projects Examples\n",
        "\n",
        "### Toss a coin\n",
        "Tossing a coin can be modeled by picking a random number between `0` and `1`. If the number is `<0.5`, we call it `H` (head). If the number is `>=0.5`, we call it `T` (tail). \n",
        "\n",
        "\n",
        "::: {.callout-tip collapse=\"true\"}"
      ],
      "id": "8bfce5c1"
    },
    {
      "cell_type": "code",
      "metadata": {},
      "source": [
        "import numpy as np\n",
        "\n",
        "def tossacoin():\n",
        "    r = np.random.rand()\n",
        "    if r < 0.5:\n",
        "        result = 'H'\n",
        "    else:\n",
        "        result = 'T'\n",
        "    return result"
      ],
      "id": "9eb11ee1",
      "execution_count": null,
      "outputs": []
    },
    {
      "cell_type": "markdown",
      "metadata": {},
      "source": [
        ":::\n",
        "\n",
        "\n",
        "If we want to do it 10 times, we may use a `for` loop.\n",
        "\n",
        "\n",
        "::: {.callout-tip collapse=\"true\"}"
      ],
      "id": "c014ccbf"
    },
    {
      "cell_type": "code",
      "metadata": {},
      "source": [
        "results = []\n",
        "for i in range(10):\n",
        "    results.append(tossacoin())"
      ],
      "id": "5ea0f613",
      "execution_count": null,
      "outputs": []
    },
    {
      "cell_type": "markdown",
      "metadata": {},
      "source": [
        ":::\n",
        "\n",
        "The above code can be written in terms of list comprehension.\n",
        "\n",
        "::: {.callout-tip collapse=\"true\"}"
      ],
      "id": "8a44eac3"
    },
    {
      "cell_type": "code",
      "metadata": {},
      "source": [
        "results = [tossacoin() for _ in range(10)]"
      ],
      "id": "1225c123",
      "execution_count": null,
      "outputs": []
    },
    {
      "cell_type": "markdown",
      "metadata": {},
      "source": [
        "Note that since the loop parameter `i` is actually not used in the loop body, we could replace it by `_` to indicate that it is not used.\n",
        ":::\n",
        "\n",
        "Now we would like to rewrite these code using `np.where()`. Consider all tossing actions simutanously. So we generate an `ndarray` of random numbers to model all tossing actions.\n",
        "\n",
        "::: {.callout-tip collapse=\"true\"}"
      ],
      "id": "38755165"
    },
    {
      "cell_type": "code",
      "metadata": {},
      "source": [
        "toss = np.random.rand(10)"
      ],
      "id": "7103b985",
      "execution_count": null,
      "outputs": []
    },
    {
      "cell_type": "markdown",
      "metadata": {},
      "source": [
        ":::\n",
        "\n",
        "Then using `np.where()` to check each whether it is `H` or `T`.\n",
        "\n",
        "::: {.callout-tip collapse=\"true\"}"
      ],
      "id": "2594aab6"
    },
    {
      "cell_type": "code",
      "metadata": {},
      "source": [
        "results = np.where(toss<0.5, 'H', 'T')"
      ],
      "id": "8ce6e880",
      "execution_count": null,
      "outputs": []
    },
    {
      "cell_type": "markdown",
      "metadata": {},
      "source": [
        ":::\n",
        "\n",
        "Since now `results` is an `ndarray`, we could directly use it to count the number of `H`. \n",
        "\n",
        "::: {.callout-tip collapse=\"true\"}"
      ],
      "id": "0056859d"
    },
    {
      "cell_type": "code",
      "metadata": {},
      "source": [
        "(results=='H').sum()"
      ],
      "id": "e1683aa1",
      "execution_count": null,
      "outputs": []
    },
    {
      "cell_type": "markdown",
      "metadata": {},
      "source": [
        ":::\n",
        "\n",
        "### Random walks\n",
        "Adam walks randomly along the axis. He starts from `0`. Every step he has equal possibility to go left or right. Please simulate this process.\n",
        "\n",
        "Use `choices` to record the choice of Adam at each step. We may generate a random array where `0` represents left and `1` represents right.\n",
        "\n",
        "Use `positions` to record the position of Adam at each step. Using `choices`, the position is `+1` if we see a `1` and the position is `-1` if we see a `0`. So the most elegent way to perform this is to \n",
        "\n",
        "1. Convert `choices` from `{0, 1}` to `{-1, 1}`.\n",
        "2. To record the starting position, we attach `0` to the beginning of the new `choices`.\n",
        "3. Apply `.cumsum()` to `choices` to get `positions`.\n",
        "\n",
        "::: {.callout-tip collapse=\"true\"}"
      ],
      "id": "9416b812"
    },
    {
      "cell_type": "code",
      "metadata": {},
      "source": [
        "import numpy as np\n",
        "\n",
        "step = 30\n",
        "choices = np.random.randint(2, size=step)\n",
        "choices = choices * 2 - 1\n",
        "choices = np.concatenate(([0], choices))\n",
        "positions = choices.cumsum()\n",
        "\n",
        "import matplotlib.pyplot as plt\n",
        "plt.plot(positions)"
      ],
      "id": "25836e26",
      "execution_count": null,
      "outputs": []
    },
    {
      "cell_type": "markdown",
      "metadata": {},
      "source": [
        ":::\n",
        "\n",
        "### Many random walks\n",
        "We mainly use `numpy.ndarray` to write the code in the previous example. The best part here is that it can be easily generalized to many random walks.\n",
        "\n",
        "Still keep `choices` and `positions` in mind. Now we would like to deal with multiple people simutanously. Each row represents one person's random walk. All the formulas stay the same. We only need to update the dimension setting in the previous code.\n",
        "\n",
        "- Update `size` in `np.random.randint`.\n",
        "- Update `[0]` to `np.zeros((N, 1))` in `concatenate`.\n",
        "- For `cumsum` and `concatenate`, add `axis=1` to indicate that we perform the operations along `axis 1`.\n",
        "- We plot each row in the same figure. `plt.legend` is used to show the label for each line.\n",
        "\n",
        "::: {.callout-tip collapse=\"true\"}"
      ],
      "id": "8fe4570d"
    },
    {
      "cell_type": "code",
      "metadata": {},
      "source": [
        "import numpy as np\n",
        "\n",
        "step = 30\n",
        "N = 3\n",
        "choices = np.random.randint(2, size=(N, step))\n",
        "choices = choices * 2 - 1\n",
        "choices = np.concatenate((np.zeros((N, 1)), choices), axis=1)\n",
        "positions = choices.cumsum(axis=1)\n",
        "\n",
        "import matplotlib.pyplot as plt\n",
        "for row in positions:\n",
        "    plt.plot(row)\n",
        "plt.legend([1, 2, 3])"
      ],
      "id": "2b173950",
      "execution_count": null,
      "outputs": []
    },
    {
      "cell_type": "markdown",
      "metadata": {},
      "source": [
        ":::\n",
        "\n",
        "### Analyze `positions`\n",
        "We play with the numpy array `positions` to get some information about the random walks of three generated in the previous example.\n",
        "\n",
        "- The maximal position:\n",
        "\n",
        "::: {.callout-tip collapse=\"true\"}"
      ],
      "id": "2b3b8ef6"
    },
    {
      "cell_type": "code",
      "metadata": {},
      "source": [
        "positions.max()"
      ],
      "id": "7d643092",
      "execution_count": null,
      "outputs": []
    },
    {
      "cell_type": "markdown",
      "metadata": {},
      "source": [
        ":::\n",
        "- The maximal position for each one:\n",
        "\n",
        "::: {.callout-tip collapse=\"true\"}"
      ],
      "id": "125a6d1f"
    },
    {
      "cell_type": "code",
      "metadata": {},
      "source": [
        "positions.max(axis=1)"
      ],
      "id": "2706d8ea",
      "execution_count": null,
      "outputs": []
    },
    {
      "cell_type": "markdown",
      "metadata": {},
      "source": [
        ":::\n",
        "- The maximal position across all three for each step:\n",
        "\n",
        "\n",
        "::: {.callout-tip collapse=\"true\"}"
      ],
      "id": "5ad8349a"
    },
    {
      "cell_type": "code",
      "metadata": {},
      "source": [
        "positions.max(axis=0)"
      ],
      "id": "e37552d9",
      "execution_count": null,
      "outputs": []
    },
    {
      "cell_type": "markdown",
      "metadata": {},
      "source": [
        ":::\n",
        "- Check whether anyone once got to the position 3:\n",
        "\n",
        "\n",
        "::: {.callout-tip collapse=\"true\"}"
      ],
      "id": "1a48e6f8"
    },
    {
      "cell_type": "code",
      "metadata": {},
      "source": [
        "(positions>=3).any(axis=1)"
      ],
      "id": "7d78ddb1",
      "execution_count": null,
      "outputs": []
    },
    {
      "cell_type": "markdown",
      "metadata": {},
      "source": [
        ":::\n",
        "\n",
        "- The number of people who once got to the position 3: \n",
        "\n",
        "\n",
        "::: {.callout-tip collapse=\"true\"}"
      ],
      "id": "7b575db8"
    },
    {
      "cell_type": "code",
      "metadata": {},
      "source": [
        "(positions>=3).any(axis=1).sum()"
      ],
      "id": "e617dbd5",
      "execution_count": null,
      "outputs": []
    },
    {
      "cell_type": "markdown",
      "metadata": {},
      "source": [
        ":::\n",
        "\n",
        "- Which step for each one gets to the right most position: \n",
        "\n",
        "::: {.callout-tip collapse=\"true\"}"
      ],
      "id": "95bc1f8a"
    },
    {
      "cell_type": "code",
      "metadata": {},
      "source": [
        "positions.argmax(axis=1)"
      ],
      "id": "6981714e",
      "execution_count": null,
      "outputs": []
    },
    {
      "cell_type": "markdown",
      "metadata": {},
      "source": [
        ":::\n",
        "\n",
        "\n",
        "## Exercises\n",
        "\n",
        "Many exercises are from [@Pra2018].\n",
        "\n",
        "::: {#exr-}\n",
        "\n",
        "1. Create a $3\\times3$ matrix with values ranging from 2 to 10.\n",
        "2. Create a $10\\times10$ 2D-array with `1` on the border and `0` inside.\n",
        "3. Create a 2D array of shape `5x3` to contain random decimal numbers between `5` and `10`.\n",
        "4. Create a 1D zero `ndarray` of size 10 and update sixth value to 11.\n",
        ":::\n",
        "\n",
        "\n",
        "::: {#exr-}\n",
        "Write a function to reverse a 1d `ndarray` (first element becomes last).\n",
        ":::\n",
        "\n",
        "\n",
        "\n",
        "::: {#exr-}\n",
        "Given `a = np.array([1,2,3])`, please get the desired output `array([1, 1, 1, 2, 2, 2, 3, 3, 3, 1, 2, 3, 1, 2, 3, 1, 2, 3])`. You may use `np.repeat()` and `np.tile()`.\n",
        ":::\n",
        "\n",
        "\n",
        "::: {#exr-}\n",
        "## Compare two `ndarrays`\n",
        "Consider two `ndarrays` of the same length `x` and `y`. Compare them entry by entry. We would like to know the percentage of the entries that are the same.\n",
        "\n",
        "Please wrap your code into a function that return the above percentage.\n",
        ":::\n",
        "\n",
        "\n",
        "\n",
        "\n",
        "\n",
        "::: {#exr-}\n",
        "## Manipulate matries\n",
        "Please finish the following tasks. Let `arr = np.arange(9).reshape(3,3)`.\n",
        "\n",
        "1. Swap rows `1` and `2` in the array `arr`.\n",
        "2. Reverse the rows of a 2D array `arr`.\n",
        "3. Reverse the columns of a 2D array `arr`.\n",
        ":::\n",
        "\n",
        "\n",
        "\n",
        "::: {#exr-}\n",
        "Consider a 2d `ndarray`."
      ],
      "id": "32160b8c"
    },
    {
      "cell_type": "code",
      "metadata": {},
      "source": [
        "arr = np.random.rand(4, 4)"
      ],
      "id": "f48e0765",
      "execution_count": null,
      "outputs": []
    },
    {
      "cell_type": "markdown",
      "metadata": {},
      "source": [
        "1. Please compute the mean of each column.\n",
        "2. Please compute the sum of each row.\n",
        "3. Please compute the maximum of the whole array.\n",
        ":::\n",
        "\n",
        "\n",
        "::: {#exr-}\n",
        "## Adding one axis\n",
        "Please download [this file](assests/img/20220824224849.png).   \n",
        "\n",
        "1. Please use `matplotlib.pyplot.imread()` to read the file as a 3d `ndarray`. You may need to use `matplotlib` package. It will be introduced later this course. You may go to its [homepage](https://matplotlib.org/stable/users/getting_started/) to install it.\n",
        "2. Check the shape of the array.\n",
        "3. Add one additional axis to it as `axis 0` to make it into a 4d `ndarray`. \n",
        ":::\n",
        "\n",
        "\n",
        "::: {#exr-}\n",
        "## Understanding colored pictures\n",
        "Please download [this file](assests/img/20220824224849.png) and use `matplotlib.pyplot.imread()` to read the file as a 3d `ndarray`. You may need to use `matplotlib` package. It will be introduced later this course. You may go to its [homepage](https://matplotlib.org/stable/users/getting_started/) to install it.\n",
        "\n",
        "A colored picture is stored as a 3d `ndarray`. `axis 0` and `axis 1` is about the vertical and horizontal coordinates and can help us to locate a sepecific point in the picture. `axis 2` is an array with `3` elements. It is the color vector which represents the three principal colors: red, green and blue.\n",
        "\n",
        "1. Find the maximum and minimum of the values in the array.\n",
        "2. Compute the mean of the three colors at each point to get a 2d `ndarray` where each entry represents the mean of the three colors at each point of the picture.\n",
        ":::\n",
        "\n",
        "\n",
        "\n",
        "\n",
        "\n",
        "::: {#exr-}\n",
        "## Queries\n",
        "\n",
        "1. Get all items between `5` and `10` from an array `a = np.array([2, 6, 1, 9, 10, 3, 27])`.\n",
        "2. Consider `x = np.array([1, 2, 1, 1, 3, 4, 3, 1, 1, 2, 1, 1, 2])`. Please find the index of 5th repetition of number `1` in `x`.\n",
        ":::\n",
        "\n",
        "\n",
        "::: {#exr-}\n",
        "Use the following code to get the dataset `iris` and three related `np.array`: `iris_1d`, `iris_2d` and `sepallength`. "
      ],
      "id": "b4b4d5f1"
    },
    {
      "cell_type": "code",
      "metadata": {},
      "source": [
        "import numpy as np\n",
        "\n",
        "url = 'https://archive.ics.uci.edu/ml/machine-learning-databases/iris/iris.data'\n",
        "iris_1d = np.genfromtxt(url, delimiter=',', dtype=None, encoding=None)\n",
        "iris_2d = np.genfromtxt(url, delimiter=',', dtype='float', encoding=None,\n",
        "                        usecols=[0, 1, 2, 3])\n",
        "iris_2d[np.random.randint(150, size=20), np.random.randint(4, size=20)] = np.nan\n",
        "sepallength = np.genfromtxt(url, delimiter=',', dtype='float', usecols=[0],\n",
        "                            encoding=None)"
      ],
      "id": "0f50b61e",
      "execution_count": null,
      "outputs": []
    },
    {
      "cell_type": "markdown",
      "metadata": {},
      "source": [
        "1. `iris_1d` is a 1D numpy array that each item is a tuple. Please construct a new 1D numpy array that each item is the last componenet of each tuple in `iris_1d`.\n",
        "\n",
        "2. Convert `iris_1d` into a 2D array `iris_2d` by omitting the last field of each item.\n",
        "3. `np.isnan()` is a function to check whether each entry of a `ndarray` is `nan` or not. Please use `np.isnan()` as well as `np.where()` to find all `nan` entries in `iris_2d`. \n",
        "4. Select the rows of `iris_2d` that does not have any `nan` value.\n",
        "5. Replace all `nan` with `0` in `iris_2d`.\n",
        ":::\n",
        "\n",
        "\n",
        "\n",
        "\n",
        "\n",
        "\n",
        "::: {#exr-}\n",
        "## Random\n",
        "Please finish the following tasks. \n",
        "\n",
        "1. Use the package `np.random` to flip a coin 100 times and record the result in a 1d `ndarray` `coin`.\n",
        "2. Assume that the coin is not fair, and the probability to get `H` is `p`. Write a code to flip the coin 100 times and record the result in a list `coin`, with a given parameter `p`. You may use `p=.4` as the first choice.\n",
        "3. For each list `coin` created above, write a code to find the longest `H` streak. We only need the biggest number of consecutive `H` we get during this 100 tosses. It is NOT necessary to know when we start the streak.\n",
        "4. Please write functions to perform the above operations.\n",
        ":::\n",
        "\n",
        "\n",
        "\n",
        "\n",
        "::: {#exr-}\n",
        "## Bins\n",
        "Please read the [document of `np.digitize()`](https://numpy.org/doc/stable/reference/generated/numpy.digitize.html#numpy-digitize), and use it to do the following task.\n",
        "\n",
        "Set the following bins:\n",
        "\n",
        "- Less than or equal to `3`: `small`\n",
        "- Bigger than `3` but less than or equal to `5`: `medium`\n",
        "- Bigger than `5`: `large`\n",
        "\n",
        "Please transform the following data `iris_2c` into texts using the given bins."
      ],
      "id": "dca79507"
    },
    {
      "cell_type": "code",
      "metadata": {},
      "source": [
        "import numpy as np\n",
        "url = 'https://archive.ics.uci.edu/ml/machine-learning-databases/iris/iris.data'\n",
        "iris_2c = np.genfromtxt(url, delimiter=',', dtype='object')[:, 2].astype('float')"
      ],
      "id": "4dcc65de",
      "execution_count": null,
      "outputs": []
    },
    {
      "cell_type": "markdown",
      "metadata": {},
      "source": [
        ":::\n",
        "\n",
        "\n",
        "\n",
        "::: {#exr-}\n",
        "Consider a 2d `ndarray` `a`. "
      ],
      "id": "13ea6b1c"
    },
    {
      "cell_type": "code",
      "metadata": {},
      "source": [
        "import numpy as np\n",
        "a = np.random.rand(5, 5)"
      ],
      "id": "c3e7b4f2",
      "execution_count": null,
      "outputs": []
    },
    {
      "cell_type": "markdown",
      "metadata": {},
      "source": [
        "1. Please sort it along the 3rd column.\n",
        "2. Please sort it along the 2nd row.\n",
        "\n",
        "You may use `np.argsort()` for the problem.\n",
        ":::\n",
        "\n",
        "\n",
        "\n",
        "::: {#exr-}\n",
        "## One-hot vector\n",
        "Compute the one-hot encodings of a given array. You may use the following array as a test example. In this example, there are `3` labels. So the one-hot vectors are 3 dimensional vectors.\n",
        "\n",
        "For more infomation about one-hot encodings, you may check the [Wiki page](https://en.wikipedia.org/wiki/One-hot#Machine_learning_and_statistics). You are not allowed to use packages that can directly compute the one-hot encodings for this problem. "
      ],
      "id": "a6e069f7"
    },
    {
      "cell_type": "code",
      "metadata": {},
      "source": [
        "import numpy as np\n",
        "arr = np.random.randint(1,4, size=6)"
      ],
      "id": "5ebec247",
      "execution_count": null,
      "outputs": []
    },
    {
      "cell_type": "markdown",
      "metadata": {},
      "source": [
        ":::\n",
        "\n",
        "\n",
        "\n",
        "::: {#exr-}\n",
        "Consider `arr = np.arange(8)`. A stride of `arr` with a window length of `4` and strides of `2` is a 2d `ndarray` that looks like:"
      ],
      "id": "12920de2"
    },
    {
      "cell_type": "code",
      "metadata": {},
      "source": [
        "#| echo: false\n",
        "arr = np.arange(8)\n",
        "np.array([arr[i:i+4] for i in range(0, 8, 2) if i+4<=8])"
      ],
      "id": "edd670e9",
      "execution_count": null,
      "outputs": []
    },
    {
      "cell_type": "markdown",
      "metadata": {},
      "source": [
        "Please write a function that takes `arr` and `length` and `strides` as inputs, and its stride as outputs.\n",
        ":::\n"
      ],
      "id": "851530a3"
    }
  ],
  "metadata": {
    "kernelspec": {
      "name": "ds24",
      "language": "python",
      "display_name": "ds24"
    }
  },
  "nbformat": 4,
  "nbformat_minor": 5
}