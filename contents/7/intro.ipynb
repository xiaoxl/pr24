{
  "cells": [
    {
      "cell_type": "markdown",
      "metadata": {},
      "source": [
        "# Classes/Packages for Python\n",
        "\n",
        "\n",
        "\n",
        "\n",
        "\n",
        "\n",
        "\n",
        "## Classes\n",
        "A class is an abstract structure that can be used to hold both variables and functions. Variables in a class are called *attributes*, and functions in a class are called *methods*.\n",
        "\n",
        "A class is defined in the following way."
      ],
      "id": "a30372ae"
    },
    {
      "cell_type": "code",
      "metadata": {},
      "source": [
        "class Circle:\n",
        "    def __init__(self, radius=1):\n",
        "        self.radius = radius\n",
        "    \n",
        "    def area(self):\n",
        "        return self.radius**2*3.14 "
      ],
      "id": "8fa29acb",
      "execution_count": null,
      "outputs": []
    },
    {
      "cell_type": "markdown",
      "metadata": {},
      "source": [
        "In this example, we define a class `Circle`, which represents a circle. There is one attribute `radius`, and one method `area`. When define a cirlce, we need to specify its radius, and we could use the method `area` to compute the area of the circle.\n"
      ],
      "id": "5c8c598c"
    },
    {
      "cell_type": "code",
      "metadata": {},
      "source": [
        "cir1 = Circle()\n",
        "cir2 = Circle(radius=5)\n",
        "\n",
        "cir1.area()"
      ],
      "id": "f607f1f8",
      "execution_count": null,
      "outputs": []
    },
    {
      "cell_type": "code",
      "metadata": {},
      "source": [
        "cir2.area()"
      ],
      "id": "49b0aa3e",
      "execution_count": null,
      "outputs": []
    },
    {
      "cell_type": "markdown",
      "metadata": {},
      "source": [
        "Here we define two circles. The first circle `cir1` is of radius `1`. This `1` comes from the default value. Check the definition of `Circle.__init__()`. \n",
        "\n",
        "The second circle `cir2` is of radius `5`, and this number is specified when we initialize the `Circle` instance.\n",
        "\n",
        "Then we compute the areas of these two circles by calling the `area()` method. You can also use `cir1.radius` to get access the radius of the circle. The syntax difference between attributes and methods is the `()` at the end.\n",
        "\n",
        "### `self`\n",
        "You may notice the `self` variable in the definition of the classes. The `self` is used to refered to the class its. When you want to get access to the class attributes or the class methods, you may use `self`.\n",
        "\n",
        "Take the code as an example. "
      ],
      "id": "58a3e41a"
    },
    {
      "cell_type": "code",
      "metadata": {},
      "source": [
        "class Circle:\n",
        "    def __init__(self, radius=1):\n",
        "        self.radius = radius"
      ],
      "id": "9a634cd1",
      "execution_count": null,
      "outputs": []
    },
    {
      "cell_type": "markdown",
      "metadata": {},
      "source": [
        "In the `__init__` function, there are two `radius`.\n",
        "\n",
        "1. `radius` is the local variable that is used by the function. It is also the input argument.\n",
        "2. `self.radius` is the class attribute, that is shared by all class methods. For example, we may add another class method to the class `Circle`."
      ],
      "id": "b76beded"
    },
    {
      "cell_type": "code",
      "metadata": {},
      "source": [
        "class Circle:\n",
        "    def __init__(self, radius=1):\n",
        "        self.radius = radius\n",
        "    \n",
        "    def area(self):\n",
        "        return self.radius**2*3.14 \n",
        "    \n",
        "    def perimeter(self):\n",
        "        return self.radius*3.14*2"
      ],
      "id": "c3c17770",
      "execution_count": null,
      "outputs": []
    },
    {
      "cell_type": "markdown",
      "metadata": {},
      "source": [
        "Both `area()` and `perimeter()` use the same `self.radius`.\n",
        "\n",
        "\n",
        ":::{.callout-note}\n",
        "Class attributes are defined in the `__init__()` function. \n",
        ":::\n",
        "\n",
        "\n",
        "\n",
        "### A design example\n",
        "Assume that we live in a world without Pandas, and we would like to design a table object. Then what do we need?\n",
        "\n",
        "A table should have multiple rows and multiple columns. We should be able to get access entries by columns and row index. We should also be able to display the table by using the `print` funciton.\n",
        "\n",
        "\n",
        "::: {.callout-note}\n",
        "The `.__str__()` method will be called when you try to `print` the object. If you don't explicitly override it, the type of the object will be shown.\n",
        ":::\n",
        "\n",
        "Therefore we may write the following class."
      ],
      "id": "f07be07b"
    },
    {
      "cell_type": "code",
      "metadata": {},
      "source": [
        "class myTableClass():\n",
        "    def __init__(self, listoflist=None):\n",
        "        if listoflist is None:\n",
        "            listoflist = [[]]\n",
        "        self.nrows = len(listoflist)\n",
        "        self.ncols = len(listoflist[0])\n",
        "        self.data = listoflist\n",
        "        self.shape = (self.nrows, self.ncols)\n",
        "    \n",
        "    def get(self, i, j):\n",
        "        return self.data[i][j]\n",
        "\n",
        "    def __str__(self):\n",
        "        tmp = [' '.join([str(x) for x in row]) for row in self.data]\n",
        "        return '\\n'.join(tmp)"
      ],
      "id": "2623f396",
      "execution_count": null,
      "outputs": []
    },
    {
      "cell_type": "markdown",
      "metadata": {},
      "source": [
        "This is a very brief table object. We may add more things to it. For example, we could talk about column names."
      ],
      "id": "85170171"
    },
    {
      "cell_type": "code",
      "metadata": {},
      "source": [
        "class myTableClass():\n",
        "    def __init__(self, listoflist=None, columns=None):\n",
        "        if listoflist is None:\n",
        "            listoflist = [[]]\n",
        "        if columns is None:\n",
        "            columns = list()\n",
        "        self.nrows = len(listoflist)\n",
        "        self.ncols = len(listoflist[0])\n",
        "        self.data = listoflist\n",
        "        self.shape = (self.nrows, self.ncols)\n",
        "        self.columns = columns\n",
        "    \n",
        "    def get(self, i, j):\n",
        "        return self.data[i][j]\n",
        "\n",
        "    def rename(self, columns=None):\n",
        "        if columns is not None:\n",
        "            self.columns = columns\n",
        "\n",
        "    def __str__(self):\n",
        "        tmp = [' '.join([str(x) for x in row]) for row in self.data]\n",
        "        if len(self.columns) != 0:\n",
        "            tmp.insert(0, self.columns)\n",
        "        return '\\n'.join(tmp)"
      ],
      "id": "2a944712",
      "execution_count": null,
      "outputs": []
    },
    {
      "cell_type": "markdown",
      "metadata": {},
      "source": [
        "::: {.callout-note}\n",
        "In Jupyter notebook or similar environment, we might directly call `df` to show a DataFrame and the shown DataFrame is rendered very pretty. This is due to the `IPython.display.display()` method, and is part of IPython console components.  \n",
        ":::\n",
        "\n",
        "## Inheritance\n",
        "\n",
        "One of the most important feature of classes is inheritance. Attributes and methods can be passed from parents to children, and child classes can override those attributes and methods if needed.\n",
        "\n",
        "For example, we would like to first write a `people` class."
      ],
      "id": "03833d97"
    },
    {
      "cell_type": "code",
      "metadata": {},
      "source": [
        "class people():\n",
        "    def __init__(self, name='default', age=20):\n",
        "        self.name = name\n",
        "        self.age = age\n",
        "\n",
        "    def eat(self):\n",
        "        print('eat something.')"
      ],
      "id": "ba351795",
      "execution_count": null,
      "outputs": []
    },
    {
      "cell_type": "markdown",
      "metadata": {},
      "source": [
        "This `people` class defines a people who can eat. Then using this `people` class, we could build a children class: `student`."
      ],
      "id": "1e239dda"
    },
    {
      "cell_type": "code",
      "metadata": {},
      "source": [
        "class student(people):\n",
        "    pass"
      ],
      "id": "da114253",
      "execution_count": null,
      "outputs": []
    },
    {
      "cell_type": "code",
      "metadata": {},
      "source": [
        "stu1 = student('name1', 10)\n",
        "stu1.eat()\n",
        "stu1.name"
      ],
      "id": "ded7b033",
      "execution_count": null,
      "outputs": []
    },
    {
      "cell_type": "code",
      "metadata": {},
      "source": [
        "type(stu1)"
      ],
      "id": "8af949cf",
      "execution_count": null,
      "outputs": []
    },
    {
      "cell_type": "markdown",
      "metadata": {},
      "source": [
        "Now you can see that this `stu1` is a `student`, but it has all attributes and methods as a `people`. However at current stage `student` and `people` are exactly the same since we don't have any new codes for `student`. Let us improve it a little bit.\n"
      ],
      "id": "b6f3fc03"
    },
    {
      "cell_type": "code",
      "metadata": {},
      "source": [
        "class student(people):\n",
        "    def __init__(self, name='default', age=20, grade=1):\n",
        "        super().__init__(name, age)\n",
        "        self.grade = grade\n",
        "\n",
        "    def eat(self):\n",
        "        print('eat in the cafe.')\n",
        "\n",
        "stu1 = student('name1', 10)\n",
        "stu1.eat()"
      ],
      "id": "b9c1e7eb",
      "execution_count": null,
      "outputs": []
    },
    {
      "cell_type": "markdown",
      "metadata": {},
      "source": [
        "Now `student` class override the `eat()` method from `people`. If someone is a `student`, he or she will eat in the cafe instead of just eat something.\n",
        "\n",
        "In addition, you may also notice that the `__init__()` constructor function is also overriden. The first part is `super().__init__(name, age)` which is just call the `people`'s constructor function. The second part is new in `student`, that we add a new attribute `grade` to it. Now `stu1` have attributes from `people` and the new attribute defined in `student`."
      ],
      "id": "a8a409cc"
    },
    {
      "cell_type": "code",
      "metadata": {},
      "source": [
        "stu1.name, stu1.age"
      ],
      "id": "87744aa7",
      "execution_count": null,
      "outputs": []
    },
    {
      "cell_type": "code",
      "metadata": {},
      "source": [
        "stu1.grade"
      ],
      "id": "d78e01cb",
      "execution_count": null,
      "outputs": []
    },
    {
      "cell_type": "markdown",
      "metadata": {},
      "source": [
        "## packages / modules\n",
        "\n",
        "Main reference is [RealPython](https://realpython.com/python-modules-packages/) and @Beu2022.\n",
        "\n",
        "### `import`\n",
        "\n",
        "In most cases we won't only write one single Python file. If we want to use codes from other files, we need to `import`.\n",
        "\n",
        "- If both files are in the same folder, e.g. `file1.py` and `file2.py`, you may just put `import file2` in `file1.py`, and use `file2.myfunction()` to call functions or variables defined in `file2.py`.\n",
        "- If both files are in the same folder, and you just want to use one function from `file1.py` in `file2.py`, you may `from file1 import myfunction()`, and then directly write `myfunction()` in `file2.py`.\n",
        "\n",
        "\n",
        "::: {#exm-}\n",
        "This is from `file1.py`."
      ],
      "id": "f911ee28"
    },
    {
      "cell_type": "code",
      "metadata": {},
      "source": [
        "s = \"This is from file1.py.\"\n",
        "a = [100, 200, 300]\n",
        "print(s)\n",
        "\n",
        "def foo(arg):\n",
        "    print(f'arg = {arg}')\n",
        "\n",
        "class Foo:\n",
        "    pass"
      ],
      "id": "fd2d321a",
      "execution_count": null,
      "outputs": []
    },
    {
      "cell_type": "markdown",
      "metadata": {},
      "source": [
        "In `file2.py`, we could get access to these variables and functions and classes as follows.\n"
      ],
      "id": "d09e244c"
    },
    {
      "cell_type": "code",
      "metadata": {},
      "source": [
        "#| eval: false\n",
        "import file1\n",
        "file1.s"
      ],
      "id": "caec09f3",
      "execution_count": null,
      "outputs": []
    },
    {
      "cell_type": "code",
      "metadata": {},
      "source": [
        "#| echo: false\n",
        "import assests.codes.file1 as file1\n",
        "file1.s"
      ],
      "id": "e50f82ff",
      "execution_count": null,
      "outputs": []
    },
    {
      "cell_type": "code",
      "metadata": {},
      "source": [
        "file1.a"
      ],
      "id": "f6341ab5",
      "execution_count": null,
      "outputs": []
    },
    {
      "cell_type": "code",
      "metadata": {},
      "source": [
        "file1.foo(file1.a)"
      ],
      "id": "3a234538",
      "execution_count": null,
      "outputs": []
    },
    {
      "cell_type": "code",
      "metadata": {},
      "source": [
        "file1.Foo()"
      ],
      "id": "6a101515",
      "execution_count": null,
      "outputs": []
    },
    {
      "cell_type": "markdown",
      "metadata": {},
      "source": [
        ":::\n",
        "\n",
        "::: {.callout-note}\n",
        "An alternative way is to use `from <module> import <names>` to directly use the names without the `file1.` prefix. \n",
        ":::\n",
        "\n",
        "Please see the following Example to get a feel about how namespace works.\n",
        "\n",
        "\n",
        "::: {#exm-}"
      ],
      "id": "2b08743e"
    },
    {
      "cell_type": "code",
      "metadata": {},
      "source": [
        "#| eval: false\n",
        "s = 'foo'\n",
        "a = ['foo', 'bar', 'baz']\n",
        "\n",
        "from file1 import s as string, a as alist\n",
        "s"
      ],
      "id": "678567e7",
      "execution_count": null,
      "outputs": []
    },
    {
      "cell_type": "code",
      "metadata": {},
      "source": [
        "#| echo: false\n",
        "s = 'foo'\n",
        "a = ['foo', 'bar', 'baz']\n",
        "\n",
        "from assests.codes.file1 import s as string, a as alist\n",
        "s"
      ],
      "id": "74f8226e",
      "execution_count": null,
      "outputs": []
    },
    {
      "cell_type": "code",
      "metadata": {},
      "source": [
        "string"
      ],
      "id": "d01e92bb",
      "execution_count": null,
      "outputs": []
    },
    {
      "cell_type": "code",
      "metadata": {},
      "source": [
        "a"
      ],
      "id": "61a1ea16",
      "execution_count": null,
      "outputs": []
    },
    {
      "cell_type": "code",
      "metadata": {},
      "source": [
        "alist"
      ],
      "id": "e6752fef",
      "execution_count": null,
      "outputs": []
    },
    {
      "cell_type": "markdown",
      "metadata": {},
      "source": [
        ":::\n",
        "\n",
        "We may use `dir()` to look at all objects in the current namespace.\n",
        "\n",
        "### `__name__`\n",
        "`__name__` is a variable to tell you want is the current active namespace. See the following example.\n",
        "\n",
        "::: {#exm-}"
      ],
      "id": "27a924d0"
    },
    {
      "cell_type": "code",
      "metadata": {},
      "source": [
        "#| eval: false\n",
        "import file1\n",
        "file1.__name__"
      ],
      "id": "b47cd553",
      "execution_count": null,
      "outputs": []
    },
    {
      "cell_type": "code",
      "metadata": {},
      "source": [
        "#| echo: false\n",
        "import assests.codes.file1 as file1\n",
        "file1.__name__"
      ],
      "id": "58fb325b",
      "execution_count": null,
      "outputs": []
    },
    {
      "cell_type": "markdown",
      "metadata": {},
      "source": [
        "The result `file1` means that the codes in `file1.py` are now treated as a package and are imported into other files."
      ],
      "id": "0ff49eef"
    },
    {
      "cell_type": "code",
      "metadata": {},
      "source": [
        "__name__"
      ],
      "id": "a31a33d0",
      "execution_count": null,
      "outputs": []
    },
    {
      "cell_type": "markdown",
      "metadata": {},
      "source": [
        "The result `__main__` means that the codes we are writing now are treated as in the \"active\" enviroment.\n",
        "\n",
        "\n",
        "You may see the following codes in a lot of places."
      ],
      "id": "3cb87ad0"
    },
    {
      "cell_type": "code",
      "metadata": {},
      "source": [
        "if __name__ == '__main__':\n",
        "    pass"
      ],
      "id": "8c6cb8af",
      "execution_count": null,
      "outputs": []
    },
    {
      "cell_type": "markdown",
      "metadata": {},
      "source": [
        "It means that the following codes will only be run in the \"active\" mode. If you import the codes as a package, these part of codes won't be run.\n",
        "\n",
        ":::\n",
        "\n",
        "### Packages\n",
        "Pacages is a way to group and organize mutliple modules. It allow for a hierachical structuring of the module namespace using dot notation.\n",
        "\n",
        "Creating a package is straightforward, since it makes use of the operating system's inherent hierarchical file structure.\n",
        "\n",
        "Python defines two types of packages, regular packages and namespace packages. The above package is the regular one. Namespace packages allow codes are spread among different folders. We won't talk about it in this course.\n",
        "\n",
        "To create a regular package, what you need to do is to organize the files in suitable folders, and then add an `__init__.py` in each folder. The file can be empty, or you could add any initialization codes for the package which is represented by the folder.\n",
        "\n",
        "\n",
        ":::{.callout-note}\n",
        "In the past `__init__.py` is required for a package. After Python 3.3 the namespace package is introduced, the `__init__.py` is not required (but recommended) for regular packages, and cannot be used for namespace packages. \n",
        ":::\n",
        "\n",
        "Let us put the previous `file1.py` and `file2.py` into subfolder `assests/codes/`. To make it into a package `assests` and a subpackage `codes`, we need to put `__init__.py` in each folder. \n"
      ],
      "id": "e43b5ecd"
    },
    {
      "cell_type": "code",
      "metadata": {},
      "source": [
        "import assests.codes.file1 as f1\n",
        "f1.s"
      ],
      "id": "443e2700",
      "execution_count": null,
      "outputs": []
    },
    {
      "cell_type": "markdown",
      "metadata": {},
      "source": [
        "## Exercieses\n",
        "\n",
        "Problems are based on @Swe2020.\n",
        "\n",
        "::: {#exr-}\n",
        "## Heron's formula\n",
        "Consider a triangle whose sides are $a$, $b$ and $c$. Heron's formula states that the area of this triangle is \n",
        "$$\\sqrt{s(s−a)(s−b)(s−c)}\\quad\\text{ where } s=\\frac12(a+b+c).$$\n",
        "\n",
        "Please write a function that given three points computes the area of the triangle with vertices being the given points. The input is required to be a `list` of three `tuple`s, where each `tuple` contains two numbers representing the 2d-coordinate of a point.\n",
        ":::\n",
        "\n",
        "\n",
        "\n",
        "::: {#exr-}\n",
        "## array\n",
        "Write a function to reverse an 1D NumPy array (first element becomes last).\n",
        ":::\n",
        "\n",
        "\n",
        "\n",
        "\n",
        "::: {#exr-}\n",
        "## Compare two `numpy` arraies\n",
        "Consider two `numpy` arraies `x` and `y`. Compare them entry by entry. We would like to know how many are the same.\n",
        "\n",
        "Write a function that the inputs are `x` and `y`, and the output is the number of the same numbers.\n",
        ":::\n",
        "\n",
        "\n",
        "\n",
        "\n",
        "\n",
        "\n",
        "::: {#exr-}\n",
        "## Comma Code\n",
        "Say you have a list value like this: `spam = ['apples', 'bananas', 'tofu', 'cats']`. \n",
        "\n",
        "Write a function that takes a list value as an argument and returns a string with all the items separated by a comma and a space, with `and` inserted before the last item. For example, passing the previous `spam` list to the function would return 'apples, bananas, tofu, and cats'. But your function should be able to work with any list value passed to it. Be sure to test the case where an empty list `[]` is passed to your function.\n",
        ":::\n",
        "\n",
        "\n",
        "\n",
        "\n",
        "::: {#exr-}\n",
        "Create a Car class with two instance attributes:\n",
        "\n",
        "1. `.color`, which stores the name of the car’s color as a string.\n",
        "2. `.mileage`, which stores the number of miles on the car as an integer.\n",
        "\n",
        "Then instantiate two Car objects — a blue car with 20,000 miles and a red car with 30,000 miles — and print out their colors and mileage. Your expected output are below:"
      ],
      "id": "890e8246"
    },
    {
      "cell_type": "code",
      "metadata": {},
      "source": [
        "#| echo: false\n",
        "class mycar():\n",
        "    def __init__(self, color=None, mileage=None):\n",
        "        self.color = color\n",
        "        self.mileage = mileage\n",
        "    \n",
        "    def __str__(self):\n",
        "        return 'A {} car with {} mileage.'.format(self.color, self.mileage)"
      ],
      "id": "2b32bc95",
      "execution_count": null,
      "outputs": []
    },
    {
      "cell_type": "code",
      "metadata": {},
      "source": [
        "car1 = mycar(color='blue', mileage=20000)\n",
        "car2 = mycar(color='red', mileage=30000)\n",
        "\n",
        "print(car1)\n",
        "print(car2)"
      ],
      "id": "00f51a5e",
      "execution_count": null,
      "outputs": []
    },
    {
      "cell_type": "markdown",
      "metadata": {},
      "source": [
        ":::\n",
        "\n",
        "\n",
        "\n",
        "::: {#exr-}\n",
        "Create a `GoldenRetriever` class that inherits from the `Dog` class. Give the `sound` argument of `GoldenRetriever.speak()` a default value of `Bark`. Use the following code for your parent `Dog` class:"
      ],
      "id": "a7edc58a"
    },
    {
      "cell_type": "code",
      "metadata": {},
      "source": [
        "class Dog:\n",
        "    species = \"Canis familiaris\"\n",
        "\n",
        "    def __init__(self, name, age):\n",
        "        self.name = name\n",
        "        self.age = age\n",
        "\n",
        "    def __str__(self):\n",
        "        return f\"{self.name} is {self.age} years old\"\n",
        "\n",
        "    def speak(self, sound):\n",
        "        return f\"{self.name} says {sound}\""
      ],
      "id": "b10c66bd",
      "execution_count": null,
      "outputs": []
    },
    {
      "cell_type": "markdown",
      "metadata": {},
      "source": [
        ":::\n"
      ],
      "id": "adb4ecb3"
    }
  ],
  "metadata": {
    "kernelspec": {
      "name": "ds24",
      "language": "python",
      "display_name": "ds24"
    }
  },
  "nbformat": 4,
  "nbformat_minor": 5
}